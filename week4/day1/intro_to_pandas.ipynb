{
  "nbformat": 4,
  "nbformat_minor": 0,
  "metadata": {
    "colab": {
      "provenance": []
    },
    "kernelspec": {
      "name": "python3",
      "display_name": "Python 3"
    },
    "language_info": {
      "name": "python"
    }
  },
  "cells": [
    {
      "cell_type": "code",
      "execution_count": null,
      "metadata": {
        "id": "1NriDUEjg2bc"
      },
      "outputs": [],
      "source": [
        "import pandas as pd"
      ]
    },
    {
      "cell_type": "code",
      "source": [
        "series = pd.Series([1, 2, 3, 4])\n",
        "print(series)"
      ],
      "metadata": {
        "colab": {
          "base_uri": "https://localhost:8080/"
        },
        "id": "q0wxQX1HhKYE",
        "outputId": "7e088a1f-a8f0-4650-ac13-ee24aca84844"
      },
      "execution_count": null,
      "outputs": [
        {
          "output_type": "stream",
          "name": "stdout",
          "text": [
            "0    1\n",
            "1    2\n",
            "2    3\n",
            "3    4\n",
            "dtype: int64\n"
          ]
        }
      ]
    },
    {
      "cell_type": "code",
      "source": [
        "# Creating a DataFrame\n",
        "df = pd.DataFrame({\n",
        "   \"Name\": [\"Alice\", \"Bob\", \"Charlie\"],\n",
        "   \"Age\": [25, 32, 22]\n",
        "})\n",
        "print(df)"
      ],
      "metadata": {
        "colab": {
          "base_uri": "https://localhost:8080/"
        },
        "id": "6FQtAwdKhSVm",
        "outputId": "287a6aff-ddf1-452f-d14e-e78283e01681"
      },
      "execution_count": null,
      "outputs": [
        {
          "output_type": "stream",
          "name": "stdout",
          "text": [
            "      Name  Age\n",
            "0    Alice   25\n",
            "1      Bob   32\n",
            "2  Charlie   22\n"
          ]
        }
      ]
    },
    {
      "cell_type": "code",
      "source": [
        "# Creating a DataFrame from a dictionary\n",
        "data = {\n",
        "   \"fruits\": [\"apple\", \"banana\", \"cherry\"],\n",
        "   \"count\": [10, 20, 15]\n",
        "}\n",
        "df = pd.DataFrame(data)\n",
        "print(df)"
      ],
      "metadata": {
        "colab": {
          "base_uri": "https://localhost:8080/"
        },
        "id": "ZkomUPo9hx4Z",
        "outputId": "72af0b2d-adef-4145-829d-b6d013f5fd51"
      },
      "execution_count": null,
      "outputs": [
        {
          "output_type": "stream",
          "name": "stdout",
          "text": [
            "   fruits  count\n",
            "0   apple     10\n",
            "1  banana     20\n",
            "2  cherry     15\n"
          ]
        }
      ]
    },
    {
      "cell_type": "code",
      "source": [
        "data = {\n",
        "   \"Fruits\": [\"Apples\", \"Bananas\", \"Cherries\",\"Dates\"],\n",
        "   \"Count\": [20, 30, 15, 10]\n",
        "}\n",
        "df = pd.DataFrame(data)\n",
        "print(df)"
      ],
      "metadata": {
        "colab": {
          "base_uri": "https://localhost:8080/"
        },
        "id": "Q5Tyt_h2imFs",
        "outputId": "bb037b2f-7361-4bf4-f86e-2da45cf16056"
      },
      "execution_count": null,
      "outputs": [
        {
          "output_type": "stream",
          "name": "stdout",
          "text": [
            "     Fruits  Count\n",
            "0    Apples     20\n",
            "1   Bananas     30\n",
            "2  Cherries     15\n",
            "3     Dates     10\n"
          ]
        }
      ]
    },
    {
      "cell_type": "code",
      "source": [
        "# Save the DataFrame to a CSV file\n",
        "df.to_csv('my_data.csv', index=False)"
      ],
      "metadata": {
        "id": "2Y_X3LGmkPWU"
      },
      "execution_count": null,
      "outputs": []
    },
    {
      "cell_type": "code",
      "source": [
        "# Reading data from a CSV file\n",
        "df = pd.read_csv('file.csv')\n",
        "\n",
        "# Reading data from an Excel file\n",
        "df = pd.read_excel('file.xlsx')\n",
        "\n",
        "# Reading data from a SQL database\n",
        "from sqlalchemy import create_engine\n",
        "\n",
        "engine = create_engine('sqlite:///:memory:')  # Creates a temporary SQLite database\n",
        "df = pd.read_sql('SELECT * FROM my_table', engine)"
      ],
      "metadata": {
        "id": "kePbMIhWkm4p"
      },
      "execution_count": null,
      "outputs": []
    }
  ]
}