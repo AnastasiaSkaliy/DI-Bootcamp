{
 "cells": [
  {
   "cell_type": "code",
   "execution_count": 3,
   "metadata": {},
   "outputs": [
    {
     "data": {
      "text/html": [
       "<div>\n",
       "<style scoped>\n",
       "    .dataframe tbody tr th:only-of-type {\n",
       "        vertical-align: middle;\n",
       "    }\n",
       "\n",
       "    .dataframe tbody tr th {\n",
       "        vertical-align: top;\n",
       "    }\n",
       "\n",
       "    .dataframe thead th {\n",
       "        text-align: right;\n",
       "    }\n",
       "</style>\n",
       "<table border=\"1\" class=\"dataframe\">\n",
       "  <thead>\n",
       "    <tr style=\"text-align: right;\">\n",
       "      <th></th>\n",
       "      <th>Text</th>\n",
       "      <th>Emotion</th>\n",
       "    </tr>\n",
       "  </thead>\n",
       "  <tbody>\n",
       "    <tr>\n",
       "      <th>0</th>\n",
       "      <td>i didnt feel humiliated</td>\n",
       "      <td>sadness</td>\n",
       "    </tr>\n",
       "    <tr>\n",
       "      <th>1</th>\n",
       "      <td>i can go from feeling so hopeless to so damned...</td>\n",
       "      <td>sadness</td>\n",
       "    </tr>\n",
       "    <tr>\n",
       "      <th>2</th>\n",
       "      <td>im grabbing a minute to post i feel greedy wrong</td>\n",
       "      <td>anger</td>\n",
       "    </tr>\n",
       "    <tr>\n",
       "      <th>3</th>\n",
       "      <td>i am ever feeling nostalgic about the fireplac...</td>\n",
       "      <td>love</td>\n",
       "    </tr>\n",
       "    <tr>\n",
       "      <th>4</th>\n",
       "      <td>i am feeling grouchy</td>\n",
       "      <td>anger</td>\n",
       "    </tr>\n",
       "  </tbody>\n",
       "</table>\n",
       "</div>"
      ],
      "text/plain": [
       "                                                Text  Emotion\n",
       "0                            i didnt feel humiliated  sadness\n",
       "1  i can go from feeling so hopeless to so damned...  sadness\n",
       "2   im grabbing a minute to post i feel greedy wrong    anger\n",
       "3  i am ever feeling nostalgic about the fireplac...     love\n",
       "4                               i am feeling grouchy    anger"
      ]
     },
     "execution_count": 3,
     "metadata": {},
     "output_type": "execute_result"
    }
   ],
   "source": [
    "import pandas as pd \n",
    "columns = ['Text', 'Emotion']\n",
    "\n",
    "df = pd.read_csv(r'/Users/admin/Desktop/python/di-bootcamp/week9/day3/archive/train.txt', sep=';', names=columns)\n",
    "df.head()"
   ]
  },
  {
   "cell_type": "markdown",
   "metadata": {},
   "source": [
    "- Check for the various target labels using seaborn\n"
   ]
  },
  {
   "cell_type": "code",
   "execution_count": 4,
   "metadata": {},
   "outputs": [
    {
     "data": {
      "image/png": "[encoded data removed]",
      "text/plain": [
       "<Figure size 1000x600 with 1 Axes>"
      ]
     },
     "metadata": {},
     "output_type": "display_data"
    }
   ],
   "source": [
    "import seaborn as sns\n",
    "import matplotlib.pyplot as plt\n",
    "\n",
    "# Plotting the distribution of target labels\n",
    "plt.figure(figsize=(10, 6))\n",
    "sns.countplot(x='Emotion', data=df)\n",
    "plt.title('Distribution of Target Labels')\n",
    "plt.xlabel('Emotion')\n",
    "plt.ylabel('Count')\n",
    "plt.xticks(rotation=45, ha='right')\n",
    "plt.show()\n"
   ]
  },
  {
   "cell_type": "markdown",
   "metadata": {},
   "source": [
    "Preprocess the data to get rid of any characters apart from alphabets, convert the string to lowercase, check for stopwords in the data and get rid of them and perform lemmatization on each word."
   ]
  },
  {
   "cell_type": "code",
   "execution_count": 5,
   "metadata": {},
   "outputs": [],
   "source": [
    "import nltk\n",
    "from nltk.corpus import stopwords\n",
    "from nltk.stem import WordNetLemmatizer\n",
    "import string"
   ]
  },
  {
   "cell_type": "code",
   "execution_count": 6,
   "metadata": {},
   "outputs": [
    {
     "name": "stdout",
     "output_type": "stream",
     "text": [
      "                                                Text  Emotion  \\\n",
      "0                            i didnt feel humiliated  sadness   \n",
      "1  i can go from feeling so hopeless to so damned...  sadness   \n",
      "2   im grabbing a minute to post i feel greedy wrong    anger   \n",
      "3  i am ever feeling nostalgic about the fireplac...     love   \n",
      "4                               i am feeling grouchy    anger   \n",
      "\n",
      "                                      Processed_Text  \n",
      "0                              didnt feel humiliated  \n",
      "1  go feeling hopeless damned hopeful around some...  \n",
      "2          im grabbing minute post feel greedy wrong  \n",
      "3  ever feeling nostalgic fireplace know still pr...  \n",
      "4                                    feeling grouchy  \n"
     ]
    }
   ],
   "source": [
    "def preprocess_text(text):\n",
    "    # Remove non-alphabetic characters and convert to lowercase\n",
    "    text = ''.join([char.lower() for char in text if char.isalpha() or char.isspace()])\n",
    "\n",
    "    # Tokenization\n",
    "    tokens = nltk.word_tokenize(text)\n",
    "\n",
    "    # Remove stopwords\n",
    "    stop_words = set(stopwords.words('english'))\n",
    "    tokens = [word for word in tokens if word not in stop_words]\n",
    "\n",
    "    # Lemmatization\n",
    "    lemmatizer = WordNetLemmatizer()\n",
    "    tokens = [lemmatizer.lemmatize(word) for word in tokens]\n",
    "\n",
    "    return ' '.join(tokens)\n",
    "\n",
    "# Apply the preprocessing function to the 'Text' column\n",
    "df['Processed_Text'] = df['Text'].apply(preprocess_text)\n",
    "\n",
    "# Display the preprocessed data\n",
    "print(df.head())"
   ]
  },
  {
   "cell_type": "markdown",
   "metadata": {},
   "source": [
    "Use Random Forest Classifier to train your data."
   ]
  },
  {
   "cell_type": "code",
   "execution_count": 8,
   "metadata": {},
   "outputs": [
    {
     "name": "stdout",
     "output_type": "stream",
     "text": [
      "Accuracy: 0.89\n",
      "\n",
      "Classification Report:\n",
      "               precision    recall  f1-score   support\n",
      "\n",
      "       anger       0.85      0.90      0.87       427\n",
      "        fear       0.85      0.85      0.85       397\n",
      "         joy       0.90      0.92      0.91      1021\n",
      "        love       0.84      0.76      0.80       296\n",
      "     sadness       0.94      0.91      0.92       946\n",
      "    surprise       0.74      0.78      0.76       113\n",
      "\n",
      "    accuracy                           0.89      3200\n",
      "   macro avg       0.85      0.85      0.85      3200\n",
      "weighted avg       0.89      0.89      0.89      3200\n",
      "\n"
     ]
    }
   ],
   "source": [
    "from sklearn.model_selection import train_test_split\n",
    "from sklearn.feature_extraction.text import CountVectorizer\n",
    "from sklearn.ensemble import RandomForestClassifier\n",
    "from sklearn.metrics import accuracy_score, classification_report\n",
    "\n",
    "# Split the data into training and testing sets\n",
    "X_train, X_test, y_train, y_test = train_test_split(df['Processed_Text'], df['Emotion'], test_size=0.2, random_state=42)\n",
    "\n",
    "# Vectorize the text data using CountVectorizer\n",
    "vectorizer = CountVectorizer()\n",
    "X_train_vectorized = vectorizer.fit_transform(X_train)\n",
    "X_test_vectorized = vectorizer.transform(X_test)\n",
    "\n",
    "# Initialize the Random Forest Classifier\n",
    "rf_classifier = RandomForestClassifier(n_estimators=100, random_state=42)\n",
    "\n",
    "# Train the classifier\n",
    "rf_classifier.fit(X_train_vectorized, y_train)\n",
    "\n",
    "# Make predictions on the test set\n",
    "predictions = rf_classifier.predict(X_test_vectorized)\n",
    "\n",
    "# Evaluate the performance\n",
    "accuracy = accuracy_score(y_test, predictions)\n",
    "print(f'Accuracy: {accuracy:.2f}')\n",
    "\n",
    "# Display classification report\n",
    "print('\\nClassification Report:\\n', classification_report(y_test, predictions))\n"
   ]
  },
  {
   "cell_type": "markdown",
   "metadata": {},
   "source": [
    "- Tune the model hyperparameters using GridSearchCV, RandomSearchCV, and Bayesian optimization. Document the configurations and results of each method."
   ]
  },
  {
   "cell_type": "markdown",
   "metadata": {},
   "source": [
    "Hyperparameters: These are the configuration settings used to structure a machine learning model. They are not learned from the data but are set prior to the training process. \n",
    "Parameters: These are the internal variables that the model learns from the training data. "
   ]
  },
  {
   "cell_type": "markdown",
   "metadata": {},
   "source": [
    "1. GridSearchCV:"
   ]
  },
  {
   "cell_type": "markdown",
   "metadata": {},
   "source": [
    "GridSearchCV:\n",
    "\n",
    "Idea: Grid search is a method that performs an exhaustive search over a specified hyperparameter grid.\n",
    "Process: It evaluates the model's performance for all possible combinations of hyperparameter values within the predefined grid.\n",
    "Pros: It's simple, and it guarantees finding the best hyperparameters within the specified grid.\n",
    "Cons: It can be computationally expensive, especially when the hyperparameter space is large."
   ]
  },
  {
   "cell_type": "code",
   "execution_count": 9,
   "metadata": {},
   "outputs": [
    {
     "name": "stdout",
     "output_type": "stream",
     "text": [
      "Best Hyperparameters (GridSearchCV): {'max_depth': None, 'min_samples_leaf': 1, 'min_samples_split': 2, 'n_estimators': 150}\n",
      "Accuracy (GridSearchCV): 0.89\n"
     ]
    }
   ],
   "source": [
    "from sklearn.model_selection import GridSearchCV\n",
    "\n",
    "# Define the parameter grid\n",
    "param_grid = {\n",
    "    'n_estimators': [50, 100, 150],\n",
    "    'max_depth': [None, 10, 20],\n",
    "    'min_samples_split': [2, 5, 10],\n",
    "    'min_samples_leaf': [1, 2, 4]\n",
    "}\n",
    "\n",
    "# Initialize the Random Forest Classifier\n",
    "rf_classifier = RandomForestClassifier(random_state=42)\n",
    "\n",
    "# Initialize GridSearchCV\n",
    "grid_search = GridSearchCV(rf_classifier, param_grid, cv=5, scoring='accuracy')\n",
    "\n",
    "# Fit the model\n",
    "grid_search.fit(X_train_vectorized, y_train)\n",
    "\n",
    "# Get the best parameters\n",
    "best_params_grid = grid_search.best_params_\n",
    "print(\"Best Hyperparameters (GridSearchCV):\", best_params_grid)\n",
    "\n",
    "# Evaluate the model with the best parameters on the test set\n",
    "best_rf_model_grid = grid_search.best_estimator_\n",
    "predictions_grid = best_rf_model_grid.predict(X_test_vectorized)\n",
    "accuracy_grid = accuracy_score(y_test, predictions_grid)\n",
    "print(f'Accuracy (GridSearchCV): {accuracy_grid:.2f}')\n"
   ]
  },
  {
   "cell_type": "markdown",
   "metadata": {},
   "source": [
    "According to the grid search, the best model is obtained when the maximum depth of the trees is not limited (None), the minimum number of samples required to be at a leaf node is 1, the minimum number of samples required to split an internal node is 2, and the number of trees in the forest is 150.\n",
    "\n"
   ]
  },
  {
   "cell_type": "markdown",
   "metadata": {},
   "source": [
    "2. RandomizedSearchCV:\n"
   ]
  },
  {
   "cell_type": "markdown",
   "metadata": {},
   "source": [
    "Idea: Randomized search is a method that samples a specified number of hyperparameter combinations from the hyperparameter space.\n",
    "Process: It randomly selects combinations and evaluates the model's performance for each.\n",
    "Pros: It can be more efficient than grid search when the hyperparameter space is large, as it explores a subset of combinations.\n",
    "Cons: It may not guarantee finding the absolute best hyperparameters, but it often finds good ones."
   ]
  },
  {
   "cell_type": "code",
   "execution_count": 10,
   "metadata": {},
   "outputs": [
    {
     "name": "stdout",
     "output_type": "stream",
     "text": [
      "Best Hyperparameters (RandomizedSearchCV): {'max_depth': None, 'min_samples_leaf': 1, 'min_samples_split': 8, 'n_estimators': 132}\n",
      "Accuracy (RandomizedSearchCV): 0.89\n"
     ]
    }
   ],
   "source": [
    "from sklearn.model_selection import RandomizedSearchCV\n",
    "from scipy.stats import randint\n",
    "\n",
    "# Define the parameter distributions\n",
    "param_dist = {\n",
    "    'n_estimators': randint(50, 150),\n",
    "    'max_depth': [None, 10, 20],\n",
    "    'min_samples_split': randint(2, 10),\n",
    "    'min_samples_leaf': randint(1, 4)\n",
    "}\n",
    "\n",
    "# Initialize RandomizedSearchCV\n",
    "random_search = RandomizedSearchCV(rf_classifier, param_distributions=param_dist, n_iter=10, cv=5, scoring='accuracy', random_state=42)\n",
    "\n",
    "# Fit the model\n",
    "random_search.fit(X_train_vectorized, y_train)\n",
    "\n",
    "# Get the best parameters\n",
    "best_params_random = random_search.best_params_\n",
    "print(\"Best Hyperparameters (RandomizedSearchCV):\", best_params_random)\n",
    "\n",
    "# Evaluate the model with the best parameters on the test set\n",
    "best_rf_model_random = random_search.best_estimator_\n",
    "predictions_random = best_rf_model_random.predict(X_test_vectorized)\n",
    "accuracy_random = accuracy_score(y_test, predictions_random)\n",
    "print(f'Accuracy (RandomizedSearchCV): {accuracy_random:.2f}')\n"
   ]
  },
  {
   "cell_type": "markdown",
   "metadata": {},
   "source": [
    "according to the randomized search, the best model is obtained when the maximum depth of the trees is not limited (None), the minimum number of samples required to be at a leaf node is 1, the minimum number of samples required to split an internal node is 8, and the number of trees in the forest is 132.\n",
    "\n",
    "It's interesting to note that the RandomizedSearchCV found slightly different hyperparameters compared to the GridSearchCV, but both achieved the same accuracy. This showcases the randomness in the search process of RandomizedSearchCV."
   ]
  },
  {
   "cell_type": "markdown",
   "metadata": {},
   "source": [
    "3. Bayesian Optimization (BayesSearchCV):\n"
   ]
  },
  {
   "cell_type": "markdown",
   "metadata": {},
   "source": [
    "Idea: Bayesian optimization is a probabilistic model-based optimization technique.\n",
    "Process: It builds a probabilistic model of the objective function (model performance) and uses it to suggest the next set of hyperparameters to evaluate.\n",
    "Pros: It efficiently explores the hyperparameter space and adapts its search based on the performance of previous evaluations.\n",
    "Cons: It may require more iterations to converge, and it can be computationally expensive."
   ]
  },
  {
   "cell_type": "code",
   "execution_count": null,
   "metadata": {},
   "outputs": [],
   "source": [
    "from skopt import BayesSearchCV\n",
    "\n",
    "# Define the parameter search space\n",
    "param_space = {\n",
    "    'n_estimators': (50, 150),\n",
    "    'max_depth': (1, 20),  # Adjusted to start from 1 instead of None\n",
    "    'min_samples_split': (2, 10),\n",
    "    'min_samples_leaf': (1, 4)\n",
    "}\n",
    "\n",
    "\n",
    "# Initialize BayesSearchCV\n",
    "bayesian_search = BayesSearchCV(rf_classifier, param_space, n_iter=10, cv=5, scoring='accuracy', random_state=42)\n",
    "\n",
    "# Fit the model\n",
    "bayesian_search.fit(X_train_vectorized, y_train) # in this raw gives me an error , i don't know why. So i decided do not to use this method.\n",
    "\n",
    "# Get the best parameters\n",
    "best_params_bayesian = bayesian_search.best_params_\n",
    "print(\"Best Hyperparameters (Bayesian Optimization):\", best_params_bayesian)\n",
    "\n",
    "# Evaluate the model with the best parameters on the test set\n",
    "best_rf_model_bayesian = bayesian_search.best_estimator_\n",
    "predictions_bayesian = best_rf_model_bayesian.predict(X_test_vectorized)\n",
    "accuracy_bayesian = accuracy_score(y_test, predictions_bayesian)\n",
    "print(f'Accuracy (Bayesian Optimization): {accuracy_bayesian:.2f}')\n"
   ]
  },
  {
   "cell_type": "markdown",
   "metadata": {},
   "source": [
    "- Read and preprocess the test data similarly to the training data.\n"
   ]
  },
  {
   "cell_type": "code",
   "execution_count": 45,
   "metadata": {},
   "outputs": [
    {
     "data": {
      "text/html": [
       "<div>\n",
       "<style scoped>\n",
       "    .dataframe tbody tr th:only-of-type {\n",
       "        vertical-align: middle;\n",
       "    }\n",
       "\n",
       "    .dataframe tbody tr th {\n",
       "        vertical-align: top;\n",
       "    }\n",
       "\n",
       "    .dataframe thead th {\n",
       "        text-align: right;\n",
       "    }\n",
       "</style>\n",
       "<table border=\"1\" class=\"dataframe\">\n",
       "  <thead>\n",
       "    <tr style=\"text-align: right;\">\n",
       "      <th></th>\n",
       "      <th>Text</th>\n",
       "      <th>Emotion</th>\n",
       "    </tr>\n",
       "  </thead>\n",
       "  <tbody>\n",
       "    <tr>\n",
       "      <th>0</th>\n",
       "      <td>im feeling rather rotten so im not very ambiti...</td>\n",
       "      <td>sadness</td>\n",
       "    </tr>\n",
       "    <tr>\n",
       "      <th>1</th>\n",
       "      <td>im updating my blog because i feel shitty</td>\n",
       "      <td>sadness</td>\n",
       "    </tr>\n",
       "    <tr>\n",
       "      <th>2</th>\n",
       "      <td>i never make her separate from me because i do...</td>\n",
       "      <td>sadness</td>\n",
       "    </tr>\n",
       "    <tr>\n",
       "      <th>3</th>\n",
       "      <td>i left with my bouquet of red and yellow tulip...</td>\n",
       "      <td>joy</td>\n",
       "    </tr>\n",
       "    <tr>\n",
       "      <th>4</th>\n",
       "      <td>i was feeling a little vain when i did this one</td>\n",
       "      <td>sadness</td>\n",
       "    </tr>\n",
       "  </tbody>\n",
       "</table>\n",
       "</div>"
      ],
      "text/plain": [
       "                                                Text  Emotion\n",
       "0  im feeling rather rotten so im not very ambiti...  sadness\n",
       "1          im updating my blog because i feel shitty  sadness\n",
       "2  i never make her separate from me because i do...  sadness\n",
       "3  i left with my bouquet of red and yellow tulip...      joy\n",
       "4    i was feeling a little vain when i did this one  sadness"
      ]
     },
     "execution_count": 45,
     "metadata": {},
     "output_type": "execute_result"
    }
   ],
   "source": [
    "columns = ['Text', 'Emotion']\n",
    "test_df = pd.read_csv(r'/Users/admin/Desktop/python/di-bootcamp/week9/day3/archive/test.txt', sep = ';', names=columns)\n",
    "test_df.head()"
   ]
  },
  {
   "cell_type": "code",
   "execution_count": 46,
   "metadata": {},
   "outputs": [
    {
     "data": {
      "text/html": [
       "<div>\n",
       "<style scoped>\n",
       "    .dataframe tbody tr th:only-of-type {\n",
       "        vertical-align: middle;\n",
       "    }\n",
       "\n",
       "    .dataframe tbody tr th {\n",
       "        vertical-align: top;\n",
       "    }\n",
       "\n",
       "    .dataframe thead th {\n",
       "        text-align: right;\n",
       "    }\n",
       "</style>\n",
       "<table border=\"1\" class=\"dataframe\">\n",
       "  <thead>\n",
       "    <tr style=\"text-align: right;\">\n",
       "      <th></th>\n",
       "      <th>Text</th>\n",
       "      <th>Emotion</th>\n",
       "      <th>Processed_Text</th>\n",
       "    </tr>\n",
       "  </thead>\n",
       "  <tbody>\n",
       "    <tr>\n",
       "      <th>0</th>\n",
       "      <td>im feeling rather rotten so im not very ambiti...</td>\n",
       "      <td>sadness</td>\n",
       "      <td>im feeling rather rotten im ambitious right</td>\n",
       "    </tr>\n",
       "    <tr>\n",
       "      <th>1</th>\n",
       "      <td>im updating my blog because i feel shitty</td>\n",
       "      <td>sadness</td>\n",
       "      <td>im updating blog feel shitty</td>\n",
       "    </tr>\n",
       "    <tr>\n",
       "      <th>2</th>\n",
       "      <td>i never make her separate from me because i do...</td>\n",
       "      <td>sadness</td>\n",
       "      <td>never make separate ever want feel like ashamed</td>\n",
       "    </tr>\n",
       "    <tr>\n",
       "      <th>3</th>\n",
       "      <td>i left with my bouquet of red and yellow tulip...</td>\n",
       "      <td>joy</td>\n",
       "      <td>left bouquet red yellow tulip arm feeling slig...</td>\n",
       "    </tr>\n",
       "    <tr>\n",
       "      <th>4</th>\n",
       "      <td>i was feeling a little vain when i did this one</td>\n",
       "      <td>sadness</td>\n",
       "      <td>feeling little vain one</td>\n",
       "    </tr>\n",
       "  </tbody>\n",
       "</table>\n",
       "</div>"
      ],
      "text/plain": [
       "                                                Text  Emotion  \\\n",
       "0  im feeling rather rotten so im not very ambiti...  sadness   \n",
       "1          im updating my blog because i feel shitty  sadness   \n",
       "2  i never make her separate from me because i do...  sadness   \n",
       "3  i left with my bouquet of red and yellow tulip...      joy   \n",
       "4    i was feeling a little vain when i did this one  sadness   \n",
       "\n",
       "                                      Processed_Text  \n",
       "0        im feeling rather rotten im ambitious right  \n",
       "1                       im updating blog feel shitty  \n",
       "2    never make separate ever want feel like ashamed  \n",
       "3  left bouquet red yellow tulip arm feeling slig...  \n",
       "4                            feeling little vain one  "
      ]
     },
     "execution_count": 46,
     "metadata": {},
     "output_type": "execute_result"
    }
   ],
   "source": [
    "# Preprocess the test data\n",
    "test_df['Processed_Text'] = test_df['Text'].apply(preprocess_text)\n",
    "# Display the preprocessed test data\n",
    "test_df.head()\n"
   ]
  },
  {
   "cell_type": "markdown",
   "metadata": {},
   "source": [
    "- Evaluate the model on the test data using metrics like Accuracy Score, Precision Score, Recall Score, and Confusion Matrix. Create a ROC curve for visual evaluation."
   ]
  },
  {
   "cell_type": "code",
   "execution_count": 47,
   "metadata": {},
   "outputs": [
    {
     "name": "stdout",
     "output_type": "stream",
     "text": [
      "Accuracy: 0.8900\n",
      "Precision: 0.8910\n",
      "Recall: 0.8900\n",
      "Confusion Matrix:\n",
      "[[251  10   8   1   4   1]\n",
      " [  9 191   2   0  11  11]\n",
      " [  6   5 641  23  11   9]\n",
      " [  2   0  40 114   1   2]\n",
      " [ 19  10  12   4 533   3]\n",
      " [  1   7   7   0   1  50]]\n"
     ]
    }
   ],
   "source": [
    "from sklearn.metrics import confusion_matrix, accuracy_score, precision_score, recall_score\n",
    "\n",
    "# Vectorize the test data using the same vectorizer as the one used for training\n",
    "X_test_vectorized = vectorizer.transform(test_df['Processed_Text'])\n",
    "\n",
    "# Make predictions on the test set\n",
    "predictions = rf_classifier.predict(X_test_vectorized)\n",
    "\n",
    "# Evaluate the performance\n",
    "accuracy = accuracy_score(test_df['Emotion'], predictions)\n",
    "precision = precision_score(test_df['Emotion'], predictions, average='weighted')\n",
    "recall = recall_score(test_df['Emotion'], predictions, average='weighted')\n",
    "conf_matrix = confusion_matrix(test_df['Emotion'], predictions)\n",
    "\n",
    "print(f'Accuracy: {accuracy:.4f}')\n",
    "print(f'Precision: {precision:.4f}')\n",
    "print(f'Recall: {recall:.4f}')\n",
    "print('Confusion Matrix:')\n",
    "print(conf_matrix)"
   ]
  },
  {
   "cell_type": "markdown",
   "metadata": {},
   "source": [
    "Accuracy: 89.00% - The proportion of correctly classified instances among the total instances.\n",
    "Precision: 89.10% - The precision is a measure of the accuracy of the positive predictions. In a multi-class setting, it is computed as a weighted average.\n",
    "Recall: 89.00% - Recall, also known as sensitivity or true positive rate, is the proportion of actual positive instances that were correctly predicted.\n",
    "Confusion Matrix:Rows represent actual classes, while columns represent predicted classes.\n",
    "For example, the element in the first row and first column (251) represents the true negatives for the class 'anger.'\n",
    "The diagonal elements represent the true positives for each class.\n",
    "Off-diagonal elements represent misclassifications.\n"
   ]
  },
  {
   "cell_type": "markdown",
   "metadata": {},
   "source": [
    "Create a ROC curve for visual evaluation."
   ]
  },
  {
   "cell_type": "code",
   "execution_count": 53,
   "metadata": {},
   "outputs": [
    {
     "data": {
      "image/png": "[encoded data removed]",
      "text/plain": [
       "<Figure size 1000x800 with 1 Axes>"
      ]
     },
     "metadata": {},
     "output_type": "display_data"
    }
   ],
   "source": [
    "import matplotlib.pyplot as plt\n",
    "from sklearn.metrics import roc_curve, auc\n",
    "\n",
    "# Get predicted probabilities for each class\n",
    "y_score = rf_classifier.predict_proba(X_test_vectorized)\n",
    "\n",
    "# Binarize the true labels\n",
    "from sklearn.preprocessing import label_binarize\n",
    "\n",
    "# Binarize the true labels\n",
    "y_test_bin = label_binarize(test_df['Emotion'], classes=rf_classifier.classes_)\n",
    "\n",
    "# Initialize variables for ROC curve\n",
    "fpr = dict()\n",
    "tpr = dict()\n",
    "roc_auc = dict()\n",
    "\n",
    "# Calculate ROC curve for each class\n",
    "for i in range(len(rf_classifier.classes_)):\n",
    "    fpr[i], tpr[i], _ = roc_curve(y_test_bin[:, i], y_score[:, i])\n",
    "    roc_auc[i] = auc(fpr[i], tpr[i])\n",
    "\n",
    "# Plot ROC curves\n",
    "plt.figure(figsize=(10, 8))\n",
    "for i in range(len(rf_classifier.classes_)):\n",
    "    plt.plot(fpr[i], tpr[i], label=f'ROC curve (area = {roc_auc[i]:.2f}) for {rf_classifier.classes_[i]}')\n",
    "\n",
    "plt.plot([0, 1], [0, 1], 'k--', lw=2)  # Diagonal line for random classifier\n",
    "plt.xlabel('False Positive Rate')\n",
    "plt.ylabel('True Positive Rate')\n",
    "plt.title('Receiver Operating Characteristic (ROC) Curve')\n",
    "plt.legend(loc='lower right')\n",
    "plt.show()\n"
   ]
  },
  {
   "cell_type": "markdown",
   "metadata": {},
   "source": [
    "Having an AUC-ROC of 0.99 for each emotion suggests that your model performs exceptionally well, almost achieving perfect separation for each class.\n",
    "The fact that the ROC curves for each class are concentrated in the top-left corner is a positive sign. It means that your model has a high true positive rate and a low false positive rate across different thresholds. This is indicative of a well-performing model that effectively discriminates between different emotions."
   ]
  },
  {
   "cell_type": "markdown",
   "metadata": {},
   "source": [
    "Compare Hyperparameter Tuning Methods:"
   ]
  },
  {
   "cell_type": "code",
   "execution_count": 54,
   "metadata": {},
   "outputs": [
    {
     "name": "stdout",
     "output_type": "stream",
     "text": [
      "               Method                               Best Hyperparameters  \\\n",
      "0        GridSearchCV  {'max_depth': None, 'min_samples_leaf': 1, 'mi...   \n",
      "1  RandomizedSearchCV  {'max_depth': None, 'min_samples_leaf': 1, 'mi...   \n",
      "\n",
      "   Accuracy  \n",
      "0  0.887813  \n",
      "1  0.888750  \n"
     ]
    }
   ],
   "source": [
    "import pandas as pd\n",
    "\n",
    "# Create a DataFrame to store results\n",
    "results_df = pd.DataFrame({\n",
    "    'Method': ['GridSearchCV', 'RandomizedSearchCV'],\n",
    "    'Best Hyperparameters': [best_params_grid, best_params_random],\n",
    "    'Accuracy': [accuracy_grid, accuracy_random],\n",
    "})\n",
    "\n",
    "# Display the results\n",
    "print(results_df)\n"
   ]
  },
  {
   "cell_type": "markdown",
   "metadata": {},
   "source": [
    "It appears that both GridSearchCV and RandomizedSearchCV hyperparameter tuning methods yield very similar performance for your RandomForestClassifier. The accuracy achieved by both methods is close, with GridSearchCV having an accuracy of 0.887813 and RandomizedSearchCV having an accuracy of 0.888750.\n",
    "\n",
    "Comparing the best hyperparameters selected by each method, it seems that they are quite similar:\n",
    "\n",
    "GridSearchCV: {'max_depth': None, 'min_samples_leaf': 1, 'min_samples_split': 2, 'n_estimators': 150}\n",
    "RandomizedSearchCV: {'max_depth': None, 'min_samples_leaf': 1, 'min_samples_split': 8, 'n_estimators': 132}\n",
    "Given the similarity in performance and the hyperparameters chosen, it might be challenging to conclusively say that one method is significantly better than the other in this particular case. Both methods seem to have found hyperparameters that result in a RandomForestClassifier with similar accuracy.\n",
    "\n",
    "It's worth noting that the effectiveness of hyperparameter tuning methods can vary depending on the specific characteristics of the dataset and the model. In some cases, one method might outperform the other, but in your case, the difference is subtle.\n",
    "\n",
    "To summarize, both GridSearchCV and RandomizedSearchCV have led to effective hyperparameters for your RandomForestClassifier, and the choice between them might depend on factors such as computational resources and the need for an exhaustive search (GridSearchCV) versus a more randomized exploration (RandomizedSearchCV)."
   ]
  }
 ],
 "metadata": {
  "kernelspec": {
   "display_name": "Python 3",
   "language": "python",
   "name": "python3"
  },
  "language_info": {
   "codemirror_mode": {
    "name": "ipython",
    "version": 3
   },
   "file_extension": ".py",
   "mimetype": "text/x-python",
   "name": "python",
   "nbconvert_exporter": "python",
   "pygments_lexer": "ipython3",
   "version": "3.12.0"
  }
 },
 "nbformat": 4,
 "nbformat_minor": 2
}
