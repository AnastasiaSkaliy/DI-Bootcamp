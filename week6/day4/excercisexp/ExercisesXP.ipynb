{
  "nbformat": 4,
  "nbformat_minor": 0,
  "metadata": {
    "colab": {
      "provenance": []
    },
    "kernelspec": {
      "name": "python3",
      "display_name": "Python 3"
    },
    "language_info": {
      "name": "python"
    }
  },
  "cells": [
    {
      "cell_type": "markdown",
      "source": [
        "Ex.1"
      ],
      "metadata": {
        "id": "-4XjJS29qBnM"
      }
    },
    {
      "cell_type": "code",
      "source": [
        "import pandas as pd\n",
        "from sklearn.linear_model import LinearRegression\n",
        "\n",
        "data = {\n",
        "    'house_sizes': [50, 70, 80, 100, 120],\n",
        "    'house_prices': [150000, 200000, 210000, 250000, 280000]\n",
        "}\n",
        "df = pd.DataFrame(data)\n",
        "\n",
        "X = df[['house_sizes']]\n",
        "y = df['house_prices']\n",
        "\n",
        "# Creating a linear regression model\n",
        "model = LinearRegression()\n",
        "model.fit(X, y)\n",
        "slope = model.coef_[0]\n",
        "intercept = model.intercept_\n",
        "\n",
        "print(f\"Slope: {slope}\")\n",
        "print(f\"Intercept: {intercept}\")\n",
        "\n",
        "# Predicting the price of a house that is 90 square meters\n",
        "predicted_price = model.predict([[90]])\n",
        "print(f\"Predicted price for a 90 sqm house: {predicted_price[0]}\")\n"
      ],
      "metadata": {
        "colab": {
          "base_uri": "https://localhost:8080/"
        },
        "id": "ssLDx1misB3h",
        "outputId": "3f943aec-5eb4-4c0f-d331-c79e07cdb942"
      },
      "execution_count": 5,
      "outputs": [
        {
          "output_type": "stream",
          "name": "stdout",
          "text": [
            "Slope: 1828.7671232876708\n",
            "Intercept: 64383.56164383565\n",
            "Predicted price for a 90 sqm house: 228972.60273972602\n"
          ]
        },
        {
          "output_type": "stream",
          "name": "stderr",
          "text": [
            "/usr/local/lib/python3.10/dist-packages/sklearn/base.py:439: UserWarning: X does not have valid feature names, but LinearRegression was fitted with feature names\n",
            "  warnings.warn(\n"
          ]
        }
      ]
    },
    {
      "cell_type": "markdown",
      "source": [
        "The slope in the context of housing prices represents the rate of change in house prices concerning changes in house size.\n",
        "\n",
        "Specifically, the slope value of approximately 1828.77 means that for every additional square meter increase in the size of a house, the price is estimated to increase by approximately 1828.77 currency units.\n",
        "\n",
        "This slope indicates a positive correlation between house size and price. Larger houses tend to have higher prices based on this linear regression model, and for every unit increase in size, the model predicts an increase in the house price by the slope value."
      ],
      "metadata": {
        "id": "fcmH1nq2sqHL"
      }
    },
    {
      "cell_type": "markdown",
      "source": [
        "Ex.2"
      ],
      "metadata": {
        "id": "qoWGxkm0tDGW"
      }
    },
    {
      "cell_type": "code",
      "source": [
        "from scipy import stats\n",
        "\n",
        "fertilizer_1 = [5, 6, 7, 6, 5]\n",
        "fertilizer_2 = [7, 8, 7, 9, 8]\n",
        "fertilizer_3 = [4, 5, 4, 3, 4]\n",
        "\n",
        "f_value, p_value = stats.f_oneway(fertilizer_1, fertilizer_2, fertilizer_3)\n",
        "print(\"F-value:\", f_value)\n",
        "print(\"P-value:\", p_value)"
      ],
      "metadata": {
        "colab": {
          "base_uri": "https://localhost:8080/"
        },
        "id": "lhYR4sJQtEIY",
        "outputId": "c0eace47-1204-4642-da61-0f45932020ec"
      },
      "execution_count": 6,
      "outputs": [
        {
          "output_type": "stream",
          "name": "stdout",
          "text": [
            "F-value: 28.52631578947368\n",
            "P-value: 2.7542672098048448e-05\n"
          ]
        }
      ]
    },
    {
      "cell_type": "markdown",
      "source": [
        "2. The low P-value of 2.754e-05 indicates that there's strong evidence against the null hypothesis, suggesting that at least one of the fertilizers has a significantly different effect on plant growth compared to the others.\n",
        "\n",
        "With such a small P-value (much smaller than the commonly used significance level of 0.05), it implies that the observed differences in plant growth between the fertilizers are very unlikely to have occurred due to random chance alone. Therefore, you would reject the null hypothesis, concluding that there are significant differences in the effects of the fertilizers on plant growth.2."
      ],
      "metadata": {
        "id": "GTWAqqKrvI-H"
      }
    },
    {
      "cell_type": "markdown",
      "source": [
        "3.If the P-value were greater than 0.05, it would imply that the observed differences in plant growth between the fertilizers could likely have occurred due to random variability alone. In this scenario:\n",
        "1. Fail to Reject the Null Hypothesis\n",
        "2. No Statistical Significance\n",
        "In summary, a P-value greater than 0.05 indicates that the differences in plant growth observed among the fertilizers are not significant enough to confidently attribute those differences to the different fertilizers."
      ],
      "metadata": {
        "id": "TJi5zMLTvM58"
      }
    },
    {
      "cell_type": "markdown",
      "source": [
        "Ex.3"
      ],
      "metadata": {
        "id": "gwNUDu8Rvb-2"
      }
    },
    {
      "cell_type": "code",
      "source": [
        "import matplotlib.pyplot as plt\n",
        "from scipy.stats import binom\n",
        "\n",
        "n = 10  # Number of coin flips\n",
        "p = 0.5  # Probability of success (getting heads in a fair coin)\n",
        "\n",
        "# Calculate probabilities for different numbers of successes\n",
        "k_values = range(n + 1)  # Values from 0 to n (inclusive)\n",
        "probabilities = [binom.pmf(k, n, p) for k in k_values]\n",
        "\n",
        "plt.bar(k_values, probabilities, color='blue')\n",
        "plt.title('Binomial Distribution')\n",
        "plt.xlabel('Number of Successes')\n",
        "plt.ylabel('Probability')\n",
        "plt.xticks(k_values)\n",
        "plt.grid(axis='y', linestyle='--', alpha=0.7)\n",
        "plt.show()\n"
      ],
      "metadata": {
        "colab": {
          "base_uri": "https://localhost:8080/",
          "height": 472
        },
        "id": "v_1sVHT2vqJp",
        "outputId": "8f940490-7c1d-4e6c-a1f6-8753fd831a68"
      },
      "execution_count": 7,
      "outputs": [
        {
          "output_type": "display_data",
          "data": {
            "text/plain": [
              "<Figure size 640x480 with 1 Axes>"
            ],
            "image/png": "[encoded data removed]"
          },
          "metadata": {}
        }
      ]
    },
    {
      "cell_type": "markdown",
      "source": [
        "Ex.4"
      ],
      "metadata": {
        "id": "z5dqLoIrwM-Q"
      }
    },
    {
      "cell_type": "code",
      "source": [
        "import pandas as pd\n",
        "\n",
        "data = pd.DataFrame({'age': [23, 25, 30, 35, 40],\n",
        "                     'income': [35000, 40000, 50000, 60000, 70000]})\n",
        "\n",
        "# Calculate Pearson correlation coefficient\n",
        "pearson_corr = data.corr(method='pearson')\n",
        "print(\"Pearson Correlation Coefficient:\")\n",
        "print(pearson_corr)\n",
        "\n",
        "# Calculate Spearman correlation coefficient\n",
        "spearman_corr = data.corr(method='spearman')\n",
        "print(\"\\nSpearman Correlation Coefficient:\")\n",
        "print(spearman_corr)\n"
      ],
      "metadata": {
        "colab": {
          "base_uri": "https://localhost:8080/"
        },
        "id": "8NgmcYVXwVEf",
        "outputId": "791046b2-6cd6-42f4-b247-d80c0c05217a"
      },
      "execution_count": 8,
      "outputs": [
        {
          "output_type": "stream",
          "name": "stdout",
          "text": [
            "Pearson Correlation Coefficient:\n",
            "             age    income\n",
            "age     1.000000  0.999691\n",
            "income  0.999691  1.000000\n",
            "\n",
            "Spearman Correlation Coefficient:\n",
            "        age  income\n",
            "age     1.0     1.0\n",
            "income  1.0     1.0\n"
          ]
        }
      ]
    },
    {
      "cell_type": "markdown",
      "source": [
        "OR"
      ],
      "metadata": {
        "id": "c3qQf5mXxAwt"
      }
    },
    {
      "cell_type": "code",
      "source": [
        "import pandas as pd\n",
        "from scipy.stats import pearsonr, spearmanr\n",
        "\n",
        "# Create the DataFrame\n",
        "data = pd.DataFrame({'age': [23, 25, 30, 35, 40],\n",
        "                     'income': [35000, 40000, 50000, 60000, 70000]})\n",
        "\n",
        "# Calculate Pearson Correlation between Age and Income\n",
        "pearson_corr, _ = pearsonr(data['age'], data['income'])\n",
        "print(f\"Pearson Correlation Coefficient: {pearson_corr:.2f}\")\n",
        "\n",
        "# Calculate Spearman Rank Correlation between Age and Income\n",
        "spearman_corr, _ = spearmanr(data['age'], data['income'])\n",
        "print(f\"Spearman Rank Correlation: {spearman_corr:.2f}\")\n"
      ],
      "metadata": {
        "colab": {
          "base_uri": "https://localhost:8080/"
        },
        "id": "jG1p-5X_wwtG",
        "outputId": "68426440-c368-491b-a5be-50186361223b"
      },
      "execution_count": 9,
      "outputs": [
        {
          "output_type": "stream",
          "name": "stdout",
          "text": [
            "Pearson Correlation Coefficient: 1.00\n",
            "Spearman Rank Correlation: 1.00\n"
          ]
        }
      ]
    },
    {
      "cell_type": "markdown",
      "source": [
        "Ex.5"
      ],
      "metadata": {
        "id": "76d2L1ZGxCqV"
      }
    },
    {
      "cell_type": "code",
      "source": [
        "data = pd.DataFrame({'age': [23, 25, 30, 35, 40],\n",
        "                     'income': [35000, 40000, 50000, 60000, 70000]})\n",
        "\n",
        "plt.figure(figsize=(8, 6))\n",
        "plt.scatter(data['age'], data['income'], color='blue', alpha=0.8)\n",
        "plt.title('Scatter Plot of Age vs. Income')\n",
        "plt.xlabel('Age')\n",
        "plt.ylabel('Income')\n",
        "plt.grid(True)\n",
        "plt.show()\n"
      ],
      "metadata": {
        "colab": {
          "base_uri": "https://localhost:8080/",
          "height": 564
        },
        "id": "Vw5iV9EQxD0J",
        "outputId": "46df0d01-a36f-4f3f-d6df-22609e5a8a19"
      },
      "execution_count": 13,
      "outputs": [
        {
          "output_type": "display_data",
          "data": {
            "text/plain": [
              "<Figure size 800x600 with 1 Axes>"
            ],
            "image/png": "[encoded data removed]"
          },
          "metadata": {}
        }
      ]
    }
  ]
}