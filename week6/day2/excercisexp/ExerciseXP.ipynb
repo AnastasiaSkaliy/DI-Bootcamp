{
  "nbformat": 4,
  "nbformat_minor": 0,
  "metadata": {
    "colab": {
      "provenance": []
    },
    "kernelspec": {
      "name": "python3",
      "display_name": "Python 3"
    },
    "language_info": {
      "name": "python"
    }
  },
  "cells": [
    {
      "cell_type": "code",
      "execution_count": 13,
      "metadata": {
        "id": "In1LnmwMyQ5A"
      },
      "outputs": [],
      "source": [
        "import pandas as pd\n",
        "import numpy as np"
      ]
    },
    {
      "cell_type": "markdown",
      "source": [
        "Ex.1"
      ],
      "metadata": {
        "id": "D4onJqyr2iFu"
      }
    },
    {
      "cell_type": "code",
      "source": [
        "matrix = np.array([[4, 7, 2],\n",
        "                   [0, 3, 1],\n",
        "                   [5, 2, 6]])\n",
        "\n",
        "# Calculate the determinant\n",
        "determinant = np.linalg.det(matrix)\n",
        "print(f\"Determinant of the matrix:\\n{determinant}\\n\")\n",
        "\n",
        "# Find the inverse of the matrix\n",
        "inverse_matrix = np.linalg.inv(matrix)\n",
        "print(f\"Inverse of the matrix:\\n{inverse_matrix}\\n\")"
      ],
      "metadata": {
        "colab": {
          "base_uri": "https://localhost:8080/"
        },
        "id": "skxow9eS2jiM",
        "outputId": "8a9c3654-19d9-4f37-fdb2-a35d22f33665"
      },
      "execution_count": 3,
      "outputs": [
        {
          "output_type": "stream",
          "name": "stdout",
          "text": [
            "Determinant of the matrix:\n",
            "69.00000000000001\n",
            "\n",
            "Inverse of the matrix:\n",
            "[[ 0.23188406 -0.55072464  0.01449275]\n",
            " [ 0.07246377  0.20289855 -0.05797101]\n",
            " [-0.2173913   0.39130435  0.17391304]]\n",
            "\n"
          ]
        }
      ]
    },
    {
      "cell_type": "markdown",
      "source": [
        "Ex.2"
      ],
      "metadata": {
        "id": "efZW-ToZ6brk"
      }
    },
    {
      "cell_type": "code",
      "source": [
        "num = np.random.rand(50)\n",
        "mean = np.mean(num)\n",
        "median = np.median(num)\n",
        "std = np.std(num)\n",
        "\n",
        "print(f'Mean: {mean} ')\n",
        "print(f'Mean:{median}')\n",
        "print(f'Mean:{std}')"
      ],
      "metadata": {
        "colab": {
          "base_uri": "https://localhost:8080/"
        },
        "id": "5JfarSuG4A6V",
        "outputId": "7b6e53ec-3295-43a1-adea-064784c36ad4"
      },
      "execution_count": 11,
      "outputs": [
        {
          "output_type": "stream",
          "name": "stdout",
          "text": [
            "Mean: 0.4801101514518863 \n",
            "Mean:0.5284423324865006\n",
            "Mean:0.3202754820774716\n"
          ]
        }
      ]
    },
    {
      "cell_type": "markdown",
      "source": [
        "Ex.3"
      ],
      "metadata": {
        "id": "JYN4XBZ266Wu"
      }
    },
    {
      "cell_type": "code",
      "source": [
        "# Create a NumPy array of dates for January 2023\n",
        "dates_array = np.arange('2023-01', '2023-02', dtype='datetime64[D]')\n",
        "\n",
        "# Convert dates to another format (YYYY/MM/DD)\n",
        "formatted_dates = np.array([np.datetime64(date, 'D').astype(str) for date in dates_array])\n",
        "\n",
        "print(formatted_dates)"
      ],
      "metadata": {
        "colab": {
          "base_uri": "https://localhost:8080/"
        },
        "id": "IHe6t5s967nR",
        "outputId": "a38b0f1a-2841-49f9-a2ec-2ee76b6f6083"
      },
      "execution_count": 12,
      "outputs": [
        {
          "output_type": "stream",
          "name": "stdout",
          "text": [
            "['2023-01-01' '2023-01-02' '2023-01-03' '2023-01-04' '2023-01-05'\n",
            " '2023-01-06' '2023-01-07' '2023-01-08' '2023-01-09' '2023-01-10'\n",
            " '2023-01-11' '2023-01-12' '2023-01-13' '2023-01-14' '2023-01-15'\n",
            " '2023-01-16' '2023-01-17' '2023-01-18' '2023-01-19' '2023-01-20'\n",
            " '2023-01-21' '2023-01-22' '2023-01-23' '2023-01-24' '2023-01-25'\n",
            " '2023-01-26' '2023-01-27' '2023-01-28' '2023-01-29' '2023-01-30'\n",
            " '2023-01-31']\n"
          ]
        }
      ]
    },
    {
      "cell_type": "markdown",
      "source": [
        "Ex. 4"
      ],
      "metadata": {
        "id": "sxxf6Vqy8Eak"
      }
    },
    {
      "cell_type": "code",
      "source": [
        "# Create a DataFrame with random numbers\n",
        "data = {\n",
        "    'A': np.random.randint(1, 50, 10),\n",
        "    'B': np.random.uniform(0, 100, 10),\n",
        "    'C': np.random.randn(10) #mean 0, standart dev 1\n",
        "}\n",
        "df = pd.DataFrame(data)\n",
        "\n",
        "print(\"Original DataFrame:\")\n",
        "print(df)\n",
        "print()"
      ],
      "metadata": {
        "colab": {
          "base_uri": "https://localhost:8080/"
        },
        "id": "Yk0M8GP88GgQ",
        "outputId": "33a250ad-7877-4ab6-8448-262bf0d21269"
      },
      "execution_count": 14,
      "outputs": [
        {
          "output_type": "stream",
          "name": "stdout",
          "text": [
            "Original DataFrame:\n",
            "    A          B         C\n",
            "0   4  65.003310 -1.033487\n",
            "1   8  78.565507 -0.805516\n",
            "2  11  66.503550 -0.621615\n",
            "3   4  59.453915 -0.339224\n",
            "4  24  75.776110 -0.385245\n",
            "5  48  12.582093  0.369386\n",
            "6   6   4.459776  0.413553\n",
            "7  30  33.725024 -0.378223\n",
            "8  42  61.977145  2.249590\n",
            "9  40  65.062024  0.603849\n",
            "\n"
          ]
        }
      ]
    },
    {
      "cell_type": "code",
      "source": [
        "# Conditional selection of data\n",
        "condition = (df['A'] > 25) & (df['B'] > 30) & (df['C'] > 0)\n",
        "selected_data = df[condition]\n",
        "\n",
        "print(\"Data under condition:\")\n",
        "print(selected_data)\n",
        "print()"
      ],
      "metadata": {
        "colab": {
          "base_uri": "https://localhost:8080/"
        },
        "id": "dq5TiZMT_xPq",
        "outputId": "3af25707-d1c2-4787-abca-dab085825d9a"
      },
      "execution_count": 18,
      "outputs": [
        {
          "output_type": "stream",
          "name": "stdout",
          "text": [
            "Data under condition:\n",
            "    A          B         C\n",
            "8  42  61.977145  2.249590\n",
            "9  40  65.062024  0.603849\n",
            "\n"
          ]
        }
      ]
    },
    {
      "cell_type": "code",
      "source": [
        "# Aggregation functions\n",
        "sum_data = df.sum()  # Sum of each column\n",
        "avg_data = df.mean()  # Average of each column\n",
        "\n",
        "print(\"Sum of each column:\")\n",
        "print(sum_data)\n",
        "print()\n",
        "\n",
        "print(\"Average of each column:\")\n",
        "print(avg_data)"
      ],
      "metadata": {
        "colab": {
          "base_uri": "https://localhost:8080/"
        },
        "id": "QX_lHt41AXiz",
        "outputId": "2d31149f-2504-4742-cf0e-8ac22803ae66"
      },
      "execution_count": 19,
      "outputs": [
        {
          "output_type": "stream",
          "name": "stdout",
          "text": [
            "Sum of each column:\n",
            "A    217.000000\n",
            "B    523.108455\n",
            "C      0.073067\n",
            "dtype: float64\n",
            "\n",
            "Average of each column:\n",
            "A    21.700000\n",
            "B    52.310845\n",
            "C     0.007307\n",
            "dtype: float64\n"
          ]
        }
      ]
    },
    {
      "cell_type": "markdown",
      "source": [
        "Ex.5"
      ],
      "metadata": {
        "id": "ynYtCj7oHl6-"
      }
    },
    {
      "cell_type": "code",
      "source": [
        "import matplotlib.pyplot as plt\n",
        "\n",
        "# Creating a 5x5 grayscale image\n",
        "image_data = np.array([\n",
        "    [10, 30, 60, 120, 200],\n",
        "    [25, 55, 90, 150, 220],\n",
        "    [40, 75, 110, 180, 235],\n",
        "    [70, 100, 140, 200, 250],\n",
        "    [100, 140, 170, 220, 255]\n",
        "], dtype=np.uint8)  # uint8 represents 8-bit unsigned integers (0-255)\n",
        "\n",
        "# Display the image\n",
        "plt.imshow(image_data, cmap='gray', vmin=0, vmax=255)\n",
        "plt.title('Simple 5x5 Grayscale Image')\n",
        "plt.axis('off')  # Hide axis\n",
        "plt.colorbar()  # Show colorbar for intensity scale\n",
        "plt.show()"
      ],
      "metadata": {
        "colab": {
          "base_uri": "https://localhost:8080/",
          "height": 437
        },
        "id": "9vrGFIr3Hyqa",
        "outputId": "767d2308-ca80-4b15-ee3d-d76b1a037fb1"
      },
      "execution_count": 21,
      "outputs": [
        {
          "output_type": "display_data",
          "data": {
            "text/plain": [
              "<Figure size 640x480 with 2 Axes>"
            ],
            "image/png": "[encoded data removed]"
          },
          "metadata": {}
        }
      ]
    },
    {
      "cell_type": "markdown",
      "source": [
        "Ex.6"
      ],
      "metadata": {
        "id": "mf_OKlhfInvm"
      }
    },
    {
      "cell_type": "markdown",
      "source": [
        "The hypothesis is that the training program has a positive impact on employee productivity. To test this, we can compare the average productivity scores before and after the training program.\n",
        "\n",
        "Hypothesis:\n",
        "Null Hypothesis (H0): The training program has no effect on employee productivity.\n",
        "Alternative Hypothesis (H1): The training program increases employee productivity."
      ],
      "metadata": {
        "id": "eeihqQioNe-V"
      }
    },
    {
      "cell_type": "code",
      "source": [
        "# Productivity scores of employees before the training program\n",
        "productivity_before = np.random.normal(loc=50, scale=10, size=30)\n",
        "\n",
        "# Productivity scores of the same employees after the training program\n",
        "productivity_after = productivity_before + np.random.normal(loc=5, scale=3, size=30)\n",
        "\n",
        "# Calculate mean productivity scores before and after the training program\n",
        "mean_before = np.mean(productivity_before)\n",
        "mean_after = np.mean(productivity_after)\n",
        "\n",
        "print(f\"Mean productivity before training: {mean_before:.2f}\")\n",
        "print(f\"Mean productivity after training: {mean_after:.2f}\")"
      ],
      "metadata": {
        "colab": {
          "base_uri": "https://localhost:8080/"
        },
        "id": "Iu7Y4QAONnJQ",
        "outputId": "125a0f6e-3889-4077-8e13-3eeb06050023"
      },
      "execution_count": 22,
      "outputs": [
        {
          "output_type": "stream",
          "name": "stdout",
          "text": [
            "Mean productivity before training: 48.80\n",
            "Mean productivity after training: 55.42\n"
          ]
        }
      ]
    },
    {
      "cell_type": "code",
      "source": [
        "import numpy as np\n",
        "from scipy.stats import ttest_ind\n",
        "\n",
        "# Perform a t-test for the means (assuming unequal variances)\n",
        "t_stat, p_value = ttest_ind(productivity_before, productivity_after, equal_var=False)\n",
        "\n",
        "# Display the t-statistic and p-value\n",
        "print(f\"\\nT-statistic: {t_stat:.4f}\")\n",
        "print(f\"P-value: {p_value:.4f}\")\n",
        "\n",
        "# Interpret the results\n",
        "alpha = 0.05  # significance level\n",
        "if p_value < alpha:\n",
        "    print(\"\\nReject the null hypothesis: The training program has a significant effect on productivity.\")\n",
        "else:\n",
        "    print(\"\\nFail to reject the null hypothesis: The training program may not have a significant effect on productivity.\")"
      ],
      "metadata": {
        "colab": {
          "base_uri": "https://localhost:8080/"
        },
        "id": "gr-BmFb5ONn8",
        "outputId": "5ed31dab-b5f4-423f-9087-603b8b410eb5"
      },
      "execution_count": 26,
      "outputs": [
        {
          "output_type": "stream",
          "name": "stdout",
          "text": [
            "\n",
            "T-statistic: -2.2014\n",
            "P-value: 0.0317\n",
            "\n",
            "Reject the null hypothesis: The training program has a significant effect on productivity.\n"
          ]
        }
      ]
    },
    {
      "cell_type": "markdown",
      "source": [
        "Ex.7"
      ],
      "metadata": {
        "id": "7rm46V-ROvVy"
      }
    },
    {
      "cell_type": "code",
      "source": [
        "array1 = np.array([3, 7, 5, 9, 2])\n",
        "array2 = np.array([4, 6, 3, 8, 1])\n",
        "\n",
        "result = array1 > array2\n",
        "\n",
        "print(result)"
      ],
      "metadata": {
        "colab": {
          "base_uri": "https://localhost:8080/"
        },
        "id": "DCIuSsEjO6yW",
        "outputId": "26980399-f830-44eb-e529-9d7aebd13d5e"
      },
      "execution_count": 27,
      "outputs": [
        {
          "output_type": "stream",
          "name": "stdout",
          "text": [
            "[False  True  True  True  True]\n"
          ]
        }
      ]
    },
    {
      "cell_type": "markdown",
      "source": [
        "Ex.8"
      ],
      "metadata": {
        "id": "f_t0d0qHPAuW"
      }
    },
    {
      "cell_type": "code",
      "source": [
        "# Generate date range for the year 2023\n",
        "dates_2023 = pd.date_range(start='2023-01-01', end='2023-12-31', freq='D')\n",
        "\n",
        "# Create a DataFrame with random values for each day in 2023\n",
        "data_2023 = pd.DataFrame({'Values': np.random.randint(1, 100, len(dates_2023))}, index=dates_2023)\n",
        "\n",
        "# Slice the data for different intervals\n",
        "jan_to_mar = data_2023['2023-01':'2023-03']\n",
        "apr_to_jun = data_2023['2023-04':'2023-06']\n",
        "jul_to_sep = data_2023['2023-07':'2023-09']\n",
        "oct_to_dec = data_2023['2023-10':'2023-12']\n",
        "\n",
        "# Sample slices\n",
        "print(\"January to March:\")\n",
        "print(jan_to_mar.head())\n",
        "print()\n",
        "\n",
        "print(\"April to June:\")\n",
        "print(apr_to_jun.head())\n",
        "print()\n",
        "\n",
        "print(\"July to September:\")\n",
        "print(jul_to_sep.head())\n",
        "print()\n",
        "\n",
        "print(\"October to December:\")\n",
        "print(oct_to_dec.head())\n",
        "print()"
      ],
      "metadata": {
        "colab": {
          "base_uri": "https://localhost:8080/"
        },
        "id": "2MXOJ38jPBxn",
        "outputId": "133b84ad-ab1d-4b2c-e392-1ab6b1bf12b9"
      },
      "execution_count": 31,
      "outputs": [
        {
          "output_type": "stream",
          "name": "stdout",
          "text": [
            "January to March:\n",
            "            Values\n",
            "2023-01-01      11\n",
            "2023-01-02      94\n",
            "2023-01-03      95\n",
            "2023-01-04      45\n",
            "2023-01-05      72\n",
            "\n",
            "April to June:\n",
            "            Values\n",
            "2023-04-01      77\n",
            "2023-04-02      72\n",
            "2023-04-03      25\n",
            "2023-04-04      95\n",
            "2023-04-05      93\n",
            "\n",
            "July to September:\n",
            "            Values\n",
            "2023-07-01      91\n",
            "2023-07-02      27\n",
            "2023-07-03      43\n",
            "2023-07-04      83\n",
            "2023-07-05      20\n",
            "\n",
            "October to December:\n",
            "            Values\n",
            "2023-10-01      70\n",
            "2023-10-02      29\n",
            "2023-10-03       2\n",
            "2023-10-04      66\n",
            "2023-10-05       8\n",
            "\n"
          ]
        }
      ]
    },
    {
      "cell_type": "markdown",
      "source": [
        "Ex.9"
      ],
      "metadata": {
        "id": "GhjkRPpWQuyP"
      }
    },
    {
      "cell_type": "code",
      "source": [
        "#From NumPy Array to Pandas DataFrame\n",
        "\n",
        "numpy_array = np.array([[1, 2, 3], [4, 5, 6], [7, 8, 9]])\n",
        "df_from_np = pd.DataFrame(numpy_array, columns=['A', 'B', 'C'])\n",
        "\n",
        "print(\"Pandas DataFrame from NumPy array:\")\n",
        "print(df_from_np)"
      ],
      "metadata": {
        "colab": {
          "base_uri": "https://localhost:8080/"
        },
        "id": "m7tcFNm4Qv8S",
        "outputId": "877c0ef5-36c7-439f-ac40-9f67c48d3e73"
      },
      "execution_count": 32,
      "outputs": [
        {
          "output_type": "stream",
          "name": "stdout",
          "text": [
            "Pandas DataFrame from NumPy array:\n",
            "   A  B  C\n",
            "0  1  2  3\n",
            "1  4  5  6\n",
            "2  7  8  9\n"
          ]
        }
      ]
    },
    {
      "cell_type": "code",
      "source": [
        "#From Pandas DataFrame to NumPy Array\n",
        "\n",
        "data = {'A': [1, 4, 7], 'B': [2, 5, 8], 'C': [3, 6, 9]}\n",
        "df = pd.DataFrame(data)\n",
        "\n",
        "numpy_from_df = df.values\n",
        "\n",
        "print(\"\\nNumPy array from Pandas DataFrame:\")\n",
        "print(numpy_from_df)"
      ],
      "metadata": {
        "colab": {
          "base_uri": "https://localhost:8080/"
        },
        "id": "SGo9IXBPRDhb",
        "outputId": "9a83a3d3-3b70-4fad-f1b4-74237d41f731"
      },
      "execution_count": 33,
      "outputs": [
        {
          "output_type": "stream",
          "name": "stdout",
          "text": [
            "\n",
            "NumPy array from Pandas DataFrame:\n",
            "[[1 2 3]\n",
            " [4 5 6]\n",
            " [7 8 9]]\n"
          ]
        }
      ]
    },
    {
      "cell_type": "markdown",
      "source": [
        "Ex.10"
      ],
      "metadata": {
        "id": "LxCHNzubRO-X"
      }
    },
    {
      "cell_type": "code",
      "source": [
        "x = np.linspace(0, 10, 100)  #create an array of 100 values from 0 to 10\n",
        "y = np.sin(x)\n",
        "\n",
        "# Plotting the data using Matplotlib\n",
        "plt.figure(figsize=(8, 6))\n",
        "plt.plot(x, y, label='Random Data', color='purple')\n",
        "plt.title('Simple Line Graph of Random Data')\n",
        "plt.xlabel('X-axis')\n",
        "plt.ylabel('Y-axis')\n",
        "plt.legend()\n",
        "plt.grid(True)\n",
        "plt.show()"
      ],
      "metadata": {
        "colab": {
          "base_uri": "https://localhost:8080/",
          "height": 564
        },
        "id": "RN4-Eu_URQN5",
        "outputId": "d02cf7d7-1cc0-408b-8045-d6f36c818a7e"
      },
      "execution_count": 36,
      "outputs": [
        {
          "output_type": "display_data",
          "data": {
            "text/plain": [
              "<Figure size 800x600 with 1 Axes>"
            ],
            "image/png": "[encoded data removed]"
          },
          "metadata": {}
        }
      ]
    }
  ]
}