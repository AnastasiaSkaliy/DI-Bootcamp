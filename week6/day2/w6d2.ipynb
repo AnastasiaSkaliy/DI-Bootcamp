{
  "nbformat": 4,
  "nbformat_minor": 0,
  "metadata": {
    "colab": {
      "provenance": []
    },
    "kernelspec": {
      "name": "python3",
      "display_name": "Python 3"
    },
    "language_info": {
      "name": "python"
    }
  },
  "cells": [
    {
      "cell_type": "code",
      "execution_count": 3,
      "metadata": {
        "colab": {
          "base_uri": "https://localhost:8080/"
        },
        "id": "t8TXLz-wKjku",
        "outputId": "9b2f8da8-b940-4961-bf7a-de8d89e0b573"
      },
      "outputs": [
        {
          "output_type": "stream",
          "name": "stdout",
          "text": [
            "Reshaped to 4x3:\n",
            " [[ 1  2  3]\n",
            " [ 4  5  6]\n",
            " [ 7  8  9]\n",
            " [10 11 12]]\n",
            "Reshaped to 2x6:\n",
            " [[ 1  2  3  4  5  6]\n",
            " [ 7  8  9 10 11 12]]\n"
          ]
        }
      ],
      "source": [
        "import numpy as np\n",
        "\n",
        "# Creating a 1D array\n",
        "array = np.arange(1, 13)  # Array of numbers from 1 to 12\n",
        "\n",
        "# Reshaping to a 3x3 matrix\n",
        "reshaped_array = array.reshape(4, 3)\n",
        "print(\"Reshaped to 4x3:\\n\", reshaped_array)\n",
        "\n",
        "# Reshaping to a 2x6 matrix\n",
        "reshaped_array2 = array.reshape(2, 6)\n",
        "print(\"Reshaped to 2x6:\\n\", reshaped_array2)\n"
      ]
    },
    {
      "cell_type": "code",
      "source": [
        "transposed_array = reshaped_array2.T\n",
        "print(\"Transposed array:\\n\", transposed_array)"
      ],
      "metadata": {
        "colab": {
          "base_uri": "https://localhost:8080/"
        },
        "id": "dGPrX9acOUIZ",
        "outputId": "d56d95aa-011f-4026-d293-8d712e3b3dea"
      },
      "execution_count": 4,
      "outputs": [
        {
          "output_type": "stream",
          "name": "stdout",
          "text": [
            "Transposed array:\n",
            " [[ 1  7]\n",
            " [ 2  8]\n",
            " [ 3  9]\n",
            " [ 4 10]\n",
            " [ 5 11]\n",
            " [ 6 12]]\n"
          ]
        }
      ]
    },
    {
      "cell_type": "code",
      "source": [
        "# Creating a 1D array\n",
        "array = np.arange(1, 13)  # Array of numbers from 1 to 12\n",
        "\n",
        "# Reshaping to a 3x3 matrix\n",
        "reshaped_array = array.reshape(4, 3)\n",
        "print(\"Reshaped to 4x3:\\n\", reshaped_array)\n",
        "\n",
        "transposed_array = reshaped_array.T\n",
        "print(\"Transposed array:\\n\", transposed_array)\n",
        "\n",
        "#reshape to 1D\n",
        "reshaped_array2 = transposed_array.reshape(1, 12)\n",
        "print(\"Reshaped to 1D:\\n\", reshaped_array2)\n"
      ],
      "metadata": {
        "colab": {
          "base_uri": "https://localhost:8080/"
        },
        "id": "utAnwmXIOjkc",
        "outputId": "d53b3479-fb03-4561-ee52-ca00b7f5e515"
      },
      "execution_count": 10,
      "outputs": [
        {
          "output_type": "stream",
          "name": "stdout",
          "text": [
            "Reshaped to 4x3:\n",
            " [[ 1  2  3]\n",
            " [ 4  5  6]\n",
            " [ 7  8  9]\n",
            " [10 11 12]]\n",
            "Transposed array:\n",
            " [[ 1  4  7 10]\n",
            " [ 2  5  8 11]\n",
            " [ 3  6  9 12]]\n",
            "Reshaped to 1D:\n",
            " [[ 1  4  7 10  2  5  8 11  3  6  9 12]]\n"
          ]
        }
      ]
    },
    {
      "cell_type": "code",
      "source": [
        "# Define two matrices\n",
        "matrix_B = np.array([[1, 2, 3], [4, 5, 6]])\n",
        "matrix_C = np.array([[1, 1, 1], [1, 1, 1]])\n",
        "\n",
        "# Adding and subtracting matrices\n",
        "sum_matrix = np.add(matrix_B, matrix_C)\n",
        "diff_matrix = np.subtract(matrix_B, matrix_C)\n",
        "\n",
        "print(\"Sum of Matrices:\\n\", sum_matrix)\n",
        "print(\"Difference of Matrices:\\n\", diff_matrix)"
      ],
      "metadata": {
        "colab": {
          "base_uri": "https://localhost:8080/"
        },
        "id": "X3PXgXNiVulD",
        "outputId": "9ad926fe-a56f-48cf-ff17-f56294315397"
      },
      "execution_count": 11,
      "outputs": [
        {
          "output_type": "stream",
          "name": "stdout",
          "text": [
            "Sum of Matrices:\n",
            " [[2 3 4]\n",
            " [5 6 7]]\n",
            "Difference of Matrices:\n",
            " [[0 1 2]\n",
            " [3 4 5]]\n"
          ]
        }
      ]
    }
  ]
}