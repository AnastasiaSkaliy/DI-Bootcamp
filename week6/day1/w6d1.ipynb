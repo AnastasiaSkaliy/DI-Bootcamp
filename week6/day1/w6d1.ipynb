{
  "nbformat": 4,
  "nbformat_minor": 0,
  "metadata": {
    "colab": {
      "provenance": []
    },
    "kernelspec": {
      "name": "python3",
      "display_name": "Python 3"
    },
    "language_info": {
      "name": "python"
    }
  },
  "cells": [
    {
      "cell_type": "code",
      "execution_count": 1,
      "metadata": {
        "id": "n2cWWGNP6uKN"
      },
      "outputs": [],
      "source": [
        "import numpy as np"
      ]
    },
    {
      "cell_type": "code",
      "source": [
        "temp = np.array([25,18,19,17,24,18,20])\n",
        "print('The tempreture of this week are:',temp)"
      ],
      "metadata": {
        "colab": {
          "base_uri": "https://localhost:8080/"
        },
        "id": "9oam2l237cdK",
        "outputId": "d1d12998-b49e-4d75-af74-6e3f07cd8bd4"
      },
      "execution_count": 2,
      "outputs": [
        {
          "output_type": "stream",
          "name": "stdout",
          "text": [
            "The tempreture of this week are: [25 18 19 17 24 18 20]\n"
          ]
        }
      ]
    },
    {
      "cell_type": "code",
      "source": [
        "rand_2d = np.array([[1,7,3,2,4],[3,8,1,7,3]])\n",
        "print('Random 2d array:',rand_2d)\n",
        "print('Shape:',rand_2d.shape)"
      ],
      "metadata": {
        "colab": {
          "base_uri": "https://localhost:8080/"
        },
        "id": "GeJkypSd794O",
        "outputId": "91e021a4-4654-4cd1-a3fa-4a2d58f05328"
      },
      "execution_count": 5,
      "outputs": [
        {
          "output_type": "stream",
          "name": "stdout",
          "text": [
            "Random 2d array: [[1 7 3 2 4]\n",
            " [3 8 1 7 3]]\n",
            "Shape: (2, 5)\n"
          ]
        }
      ]
    },
    {
      "cell_type": "code",
      "source": [
        "img = [[[100,123,456],\n",
        "        [100,123,456],\n",
        "        [100,123,456],\n",
        "          [100,123,456],\n",
        "          [100,123,456],\n",
        "          [100,123,456],\n",
        "            [100,123,456],\n",
        "            [100,123,456],\n",
        "            [100,123,456]]]\n",
        "print"
      ],
      "metadata": {
        "colab": {
          "base_uri": "https://localhost:8080/"
        },
        "id": "5ROqXesp9TdL",
        "outputId": "a92443ec-6d06-46ec-b2f5-bed1038db4e0"
      },
      "execution_count": 6,
      "outputs": [
        {
          "output_type": "stream",
          "name": "stdout",
          "text": [
            "[[[100, 123, 456], [100, 123, 456], [100, 123, 456], [100, 123, 456], [100, 123, 456], [100, 123, 456], [100, 123, 456], [100, 123, 456], [100, 123, 456]]]\n"
          ]
        }
      ]
    },
    {
      "cell_type": "code",
      "source": [
        "arr = np.arange(1,11)\n",
        "arr[4] = 50 #cgange the 3rd element\n",
        "print(arr)\n"
      ],
      "metadata": {
        "colab": {
          "base_uri": "https://localhost:8080/"
        },
        "id": "F8ZAbyKFS4rh",
        "outputId": "12caf643-51ad-4073-96aa-aed0802adc5a"
      },
      "execution_count": 18,
      "outputs": [
        {
          "output_type": "stream",
          "name": "stdout",
          "text": [
            "[ 1  2  3  4 50  6  7  8  9 10]\n"
          ]
        }
      ]
    },
    {
      "cell_type": "code",
      "source": [
        "arr[3,8] = arr[3,8 ]* -1"
      ],
      "metadata": {
        "id": "upUIgNCJWptO"
      },
      "execution_count": null,
      "outputs": []
    },
    {
      "cell_type": "code",
      "source": [
        "arr = np.array([1,2,3,4,5,6,7,8,9,10])\n",
        "for i in arr:\n",
        "  arr[3:7] = i * -1\n",
        "print(arr)\n"
      ],
      "metadata": {
        "colab": {
          "base_uri": "https://localhost:8080/"
        },
        "id": "gb024qm8TZQ0",
        "outputId": "6203eb19-5b2e-4b50-f94e-209e9e563b74"
      },
      "execution_count": 16,
      "outputs": [
        {
          "output_type": "stream",
          "name": "stdout",
          "text": [
            "[  1   2   3 -10 -10 -10 -10   8   9  10]\n"
          ]
        }
      ]
    },
    {
      "cell_type": "code",
      "source": [
        "import random\n",
        "arr = np.random.randint(1, 100, 20)\n",
        "print(arr)\n",
        "arr[arr > 50] = -1\n",
        "print(arr)"
      ],
      "metadata": {
        "colab": {
          "base_uri": "https://localhost:8080/"
        },
        "id": "tQWHh8rUT-4w",
        "outputId": "3788e627-0631-4a09-fd73-9fcd9bc5030c"
      },
      "execution_count": 14,
      "outputs": [
        {
          "output_type": "stream",
          "name": "stdout",
          "text": [
            "[47  1 58 59  7 20 67 32 15 28 38 12 50 48 97 29 43 58 73 71]\n",
            "[47  1 -1 -1  7 20 -1 32 15 28 38 12 50 48 -1 29 43 -1 -1 -1]\n"
          ]
        }
      ]
    },
    {
      "cell_type": "code",
      "source": [
        "two = np.arange(25).reshape((5,5))\n",
        "two"
      ],
      "metadata": {
        "colab": {
          "base_uri": "https://localhost:8080/"
        },
        "id": "e47MMjJ-Wu7x",
        "outputId": "f311d0f8-3412-4614-cd5d-feda8471f462"
      },
      "execution_count": 20,
      "outputs": [
        {
          "output_type": "execute_result",
          "data": {
            "text/plain": [
              "array([[ 0,  1,  2,  3,  4],\n",
              "       [ 5,  6,  7,  8,  9],\n",
              "       [10, 11, 12, 13, 14],\n",
              "       [15, 16, 17, 18, 19],\n",
              "       [20, 21, 22, 23, 24]])"
            ]
          },
          "metadata": {},
          "execution_count": 20
        }
      ]
    },
    {
      "cell_type": "code",
      "source": [
        "two[[np.arange(5)],[np.arange(5)]] = two[[np.arange(5)],[np.arange(5)]]*2\n",
        "two"
      ],
      "metadata": {
        "colab": {
          "base_uri": "https://localhost:8080/"
        },
        "id": "FjK9AhkoW1jy",
        "outputId": "3a7b7c26-1bf1-4c60-ee57-de543a46447a"
      },
      "execution_count": 22,
      "outputs": [
        {
          "output_type": "execute_result",
          "data": {
            "text/plain": [
              "array([[ 0,  1,  2,  3,  4],\n",
              "       [ 5, 24,  7,  8,  9],\n",
              "       [10, 11, 48, 13, 14],\n",
              "       [15, 16, 17, 72, 19],\n",
              "       [20, 21, 22, 23, 96]])"
            ]
          },
          "metadata": {},
          "execution_count": 22
        }
      ]
    },
    {
      "cell_type": "code",
      "source": [
        "origin = np.arange(10)\n",
        "origin"
      ],
      "metadata": {
        "colab": {
          "base_uri": "https://localhost:8080/"
        },
        "id": "0qijB8qYVOQq",
        "outputId": "3b0d8fd9-7e25-4b48-fa4a-fa22eed6436d"
      },
      "execution_count": 24,
      "outputs": [
        {
          "output_type": "execute_result",
          "data": {
            "text/plain": [
              "array([0, 1, 2, 3, 4, 5, 6, 7, 8, 9])"
            ]
          },
          "metadata": {},
          "execution_count": 24
        }
      ]
    },
    {
      "cell_type": "code",
      "source": [
        "slic = origin[2:5]\n",
        "slic[0] =99\n",
        "print(origin)\n",
        "print(slic)"
      ],
      "metadata": {
        "colab": {
          "base_uri": "https://localhost:8080/"
        },
        "id": "U0jC3-WPXPz6",
        "outputId": "1d666700-77c3-42ee-a5f3-a11dfe4900b7"
      },
      "execution_count": 25,
      "outputs": [
        {
          "output_type": "stream",
          "name": "stdout",
          "text": [
            "[ 0  1 99  3  4  5  6  7  8  9]\n",
            "[99  3  4]\n"
          ]
        }
      ]
    }
  ]
}