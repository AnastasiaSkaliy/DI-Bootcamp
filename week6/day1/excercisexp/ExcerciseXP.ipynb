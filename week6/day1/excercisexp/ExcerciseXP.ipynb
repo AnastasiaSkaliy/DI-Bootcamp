{
  "nbformat": 4,
  "nbformat_minor": 0,
  "metadata": {
    "colab": {
      "provenance": []
    },
    "kernelspec": {
      "name": "python3",
      "display_name": "Python 3"
    },
    "language_info": {
      "name": "python"
    }
  },
  "cells": [
    {
      "cell_type": "code",
      "execution_count": 1,
      "metadata": {
        "id": "gjawUlXfHhsj"
      },
      "outputs": [],
      "source": [
        "import numpy as np"
      ]
    },
    {
      "cell_type": "markdown",
      "source": [
        "Ex. 1"
      ],
      "metadata": {
        "id": "cIPjt9K8HtHW"
      }
    },
    {
      "cell_type": "code",
      "source": [
        "array_1d = np.arange(10)\n",
        "print(\"1D Array:\", array_1d)"
      ],
      "metadata": {
        "colab": {
          "base_uri": "https://localhost:8080/"
        },
        "id": "c3dA-TpDHuL3",
        "outputId": "8772ed20-5e43-4b4e-ec85-bc316166a275"
      },
      "execution_count": 2,
      "outputs": [
        {
          "output_type": "stream",
          "name": "stdout",
          "text": [
            "1D Array: [0 1 2 3 4 5 6 7 8 9]\n"
          ]
        }
      ]
    },
    {
      "cell_type": "markdown",
      "source": [
        "Ex.2"
      ],
      "metadata": {
        "id": "-aJ0huYfIGfC"
      }
    },
    {
      "cell_type": "code",
      "source": [
        "original_list = [3.14, 2.17, 0, 1, 2]\n",
        "numpy_array = np.array(original_list)\n",
        "integer_array = numpy_array.astype(int)\n",
        "\n",
        "print(integer_array)"
      ],
      "metadata": {
        "colab": {
          "base_uri": "https://localhost:8080/"
        },
        "id": "V2ptMl8fIHtg",
        "outputId": "873a3628-1923-41da-9575-210fbeb39eb5"
      },
      "execution_count": 3,
      "outputs": [
        {
          "output_type": "stream",
          "name": "stdout",
          "text": [
            "[3 2 0 1 2]\n"
          ]
        }
      ]
    },
    {
      "cell_type": "markdown",
      "source": [
        "Ex.3"
      ],
      "metadata": {
        "id": "baixY7bKInEG"
      }
    },
    {
      "cell_type": "code",
      "source": [
        "values = np.arange(1,10)\n",
        "array_3_3 = values.reshape(3,3)\n",
        "\n",
        "print(array_3_3)"
      ],
      "metadata": {
        "colab": {
          "base_uri": "https://localhost:8080/"
        },
        "id": "Ug9yxpNWIpCH",
        "outputId": "b14594fd-cf91-41e6-f376-77e87501222a"
      },
      "execution_count": 4,
      "outputs": [
        {
          "output_type": "stream",
          "name": "stdout",
          "text": [
            "[[1 2 3]\n",
            " [4 5 6]\n",
            " [7 8 9]]\n"
          ]
        }
      ]
    },
    {
      "cell_type": "markdown",
      "source": [
        "Ex.4"
      ],
      "metadata": {
        "id": "0WLVWzjuJMj0"
      }
    },
    {
      "cell_type": "code",
      "source": [
        "random_array = np.random.rand(4,5)\n",
        "\n",
        "print(random_array)"
      ],
      "metadata": {
        "colab": {
          "base_uri": "https://localhost:8080/"
        },
        "id": "ZRqn0p-gJNz7",
        "outputId": "52406930-1549-4115-91b1-75adbbd79e21"
      },
      "execution_count": 5,
      "outputs": [
        {
          "output_type": "stream",
          "name": "stdout",
          "text": [
            "[[0.4714784  0.02862064 0.33893809 0.80138207 0.88982023]\n",
            " [0.5850972  0.1888115  0.08597239 0.64014354 0.86940235]\n",
            " [0.14857267 0.75205652 0.52927557 0.9790627  0.51390165]\n",
            " [0.06789839 0.24127239 0.13507406 0.5626258  0.52564235]]\n"
          ]
        }
      ]
    },
    {
      "cell_type": "markdown",
      "source": [
        "Ex.5"
      ],
      "metadata": {
        "id": "Q_0WKgXpJjsf"
      }
    },
    {
      "cell_type": "code",
      "source": [
        "array_2d = np.array([[1, 2, 3, 4, 5], [20, 21, 22, 23, 24], [40, 41, 42, 43, 44]])\n",
        "second_row = array_2d[1]\n",
        "\n",
        "print(second_row)"
      ],
      "metadata": {
        "colab": {
          "base_uri": "https://localhost:8080/"
        },
        "id": "ww5NUJjAJk2Y",
        "outputId": "ba3e161f-fabd-48ac-bdf2-e819ede53d78"
      },
      "execution_count": 7,
      "outputs": [
        {
          "output_type": "stream",
          "name": "stdout",
          "text": [
            "[20 21 22 23 24]\n"
          ]
        }
      ]
    },
    {
      "cell_type": "markdown",
      "source": [
        "Ex.6"
      ],
      "metadata": {
        "id": "6z2L_Os-KMTn"
      }
    },
    {
      "cell_type": "code",
      "source": [
        "array1 = np.arange(10)\n",
        "reversed_array = array1[::-1]\n",
        "\n",
        "print(reversed_array)"
      ],
      "metadata": {
        "colab": {
          "base_uri": "https://localhost:8080/"
        },
        "id": "BDPznleEKSvK",
        "outputId": "1fe386b1-0a40-4c19-c8a2-a281c0b01b81"
      },
      "execution_count": 10,
      "outputs": [
        {
          "output_type": "stream",
          "name": "stdout",
          "text": [
            "[9 8 7 6 5 4 3 2 1 0]\n"
          ]
        }
      ]
    },
    {
      "cell_type": "markdown",
      "source": [
        "Ex.7"
      ],
      "metadata": {
        "id": "6JnY5UDkKkGL"
      }
    },
    {
      "cell_type": "code",
      "source": [
        "identity_matrix = np.identity(4)\n",
        "\n",
        "print(identity_matrix)"
      ],
      "metadata": {
        "colab": {
          "base_uri": "https://localhost:8080/"
        },
        "id": "u52slZ5nKmA2",
        "outputId": "0697302f-436c-450d-d471-aad2a8b13eb0"
      },
      "execution_count": 11,
      "outputs": [
        {
          "output_type": "stream",
          "name": "stdout",
          "text": [
            "[[1. 0. 0. 0.]\n",
            " [0. 1. 0. 0.]\n",
            " [0. 0. 1. 0.]\n",
            " [0. 0. 0. 1.]]\n"
          ]
        }
      ]
    },
    {
      "cell_type": "markdown",
      "source": [
        "Ex.8"
      ],
      "metadata": {
        "id": "k2mDvhheKx5n"
      }
    },
    {
      "cell_type": "code",
      "source": [
        "a = np.array([1, 2, 3, 4, 5])\n",
        "\n",
        "print(f'\"Sum:\" {np.sum(a)}, \"Average:\" {np.mean(a)}')"
      ],
      "metadata": {
        "colab": {
          "base_uri": "https://localhost:8080/"
        },
        "id": "dJ7F90zeKzDb",
        "outputId": "0dd3dfc4-cc04-4796-ad7a-abe3cd2367c6"
      },
      "execution_count": 15,
      "outputs": [
        {
          "output_type": "stream",
          "name": "stdout",
          "text": [
            "\"Sum:\" 15, \"Average:\" 3.0\n"
          ]
        }
      ]
    },
    {
      "cell_type": "markdown",
      "source": [
        "Ex.9"
      ],
      "metadata": {
        "id": "Jww90xVRLiBg"
      }
    },
    {
      "cell_type": "code",
      "source": [
        "array = np.arange(1, 21)\n",
        "reshaped_array = array.reshape(4, 5)\n",
        "\n",
        "print(reshaped_array)"
      ],
      "metadata": {
        "colab": {
          "base_uri": "https://localhost:8080/"
        },
        "id": "AWPdoA6RLjI4",
        "outputId": "932019ae-4e9b-4eea-f94d-f0073912a038"
      },
      "execution_count": 18,
      "outputs": [
        {
          "output_type": "stream",
          "name": "stdout",
          "text": [
            "[[ 1  2  3  4  5]\n",
            " [ 6  7  8  9 10]\n",
            " [11 12 13 14 15]\n",
            " [16 17 18 19 20]]\n"
          ]
        }
      ]
    },
    {
      "cell_type": "markdown",
      "source": [
        "Ex.10"
      ],
      "metadata": {
        "id": "euKewql2L12H"
      }
    },
    {
      "cell_type": "code",
      "source": [
        "nums = np.arange(10)\n",
        "odd_numbers = nums[nums % 2 != 0]\n",
        "\n",
        "print(odd_numbers)"
      ],
      "metadata": {
        "colab": {
          "base_uri": "https://localhost:8080/"
        },
        "id": "gnxkbF6WL2yw",
        "outputId": "2ba8b172-1cdf-4e74-fa58-e7afcb3b0826"
      },
      "execution_count": 19,
      "outputs": [
        {
          "output_type": "stream",
          "name": "stdout",
          "text": [
            "[1 3 5 7 9]\n"
          ]
        }
      ]
    }
  ]
}