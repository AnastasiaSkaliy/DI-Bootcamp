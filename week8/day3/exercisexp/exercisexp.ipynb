{
 "cells": [
  {
   "cell_type": "code",
   "execution_count": 25,
   "metadata": {},
   "outputs": [],
   "source": [
    "import pandas as pd\n"
   ]
  },
  {
   "cell_type": "code",
   "execution_count": 26,
   "metadata": {},
   "outputs": [
    {
     "data": {
      "text/html": [
       "<div>\n",
       "<style scoped>\n",
       "    .dataframe tbody tr th:only-of-type {\n",
       "        vertical-align: middle;\n",
       "    }\n",
       "\n",
       "    .dataframe tbody tr th {\n",
       "        vertical-align: top;\n",
       "    }\n",
       "\n",
       "    .dataframe thead th {\n",
       "        text-align: right;\n",
       "    }\n",
       "</style>\n",
       "<table border=\"1\" class=\"dataframe\">\n",
       "  <thead>\n",
       "    <tr style=\"text-align: right;\">\n",
       "      <th></th>\n",
       "      <th>review</th>\n",
       "      <th>sentiment</th>\n",
       "    </tr>\n",
       "  </thead>\n",
       "  <tbody>\n",
       "    <tr>\n",
       "      <th>0</th>\n",
       "      <td>One of the other reviewers has mentioned that ...</td>\n",
       "      <td>positive</td>\n",
       "    </tr>\n",
       "    <tr>\n",
       "      <th>1</th>\n",
       "      <td>A wonderful little production. &lt;br /&gt;&lt;br /&gt;The...</td>\n",
       "      <td>positive</td>\n",
       "    </tr>\n",
       "    <tr>\n",
       "      <th>2</th>\n",
       "      <td>I thought this was a wonderful way to spend ti...</td>\n",
       "      <td>positive</td>\n",
       "    </tr>\n",
       "    <tr>\n",
       "      <th>3</th>\n",
       "      <td>Basically there's a family where a little boy ...</td>\n",
       "      <td>negative</td>\n",
       "    </tr>\n",
       "    <tr>\n",
       "      <th>4</th>\n",
       "      <td>Petter Mattei's \"Love in the Time of Money\" is...</td>\n",
       "      <td>positive</td>\n",
       "    </tr>\n",
       "  </tbody>\n",
       "</table>\n",
       "</div>"
      ],
      "text/plain": [
       "                                              review sentiment\n",
       "0  One of the other reviewers has mentioned that ...  positive\n",
       "1  A wonderful little production. <br /><br />The...  positive\n",
       "2  I thought this was a wonderful way to spend ti...  positive\n",
       "3  Basically there's a family where a little boy ...  negative\n",
       "4  Petter Mattei's \"Love in the Time of Money\" is...  positive"
      ]
     },
     "execution_count": 26,
     "metadata": {},
     "output_type": "execute_result"
    }
   ],
   "source": [
    "df_imdb = pd.read_csv(r'/Users/admin/Desktop/python/di-bootcamp/week8/day3/exercisexp/IMDB Dataset.csv')\n",
    "df_imdb.head()"
   ]
  },
  {
   "cell_type": "code",
   "execution_count": 27,
   "metadata": {},
   "outputs": [
    {
     "data": {
      "text/plain": [
       "(50000, 2)"
      ]
     },
     "execution_count": 27,
     "metadata": {},
     "output_type": "execute_result"
    }
   ],
   "source": [
    "df_imdb.shape"
   ]
  },
  {
   "cell_type": "code",
   "execution_count": 28,
   "metadata": {},
   "outputs": [
    {
     "data": {
      "text/plain": [
       "review       object\n",
       "sentiment    object\n",
       "dtype: object"
      ]
     },
     "execution_count": 28,
     "metadata": {},
     "output_type": "execute_result"
    }
   ],
   "source": [
    "df_imdb.dtypes"
   ]
  },
  {
   "cell_type": "code",
   "execution_count": 29,
   "metadata": {},
   "outputs": [
    {
     "data": {
      "text/plain": [
       "review       0\n",
       "sentiment    0\n",
       "dtype: int64"
      ]
     },
     "execution_count": 29,
     "metadata": {},
     "output_type": "execute_result"
    }
   ],
   "source": [
    "df_imdb.isnull().sum()"
   ]
  },
  {
   "cell_type": "code",
   "execution_count": 30,
   "metadata": {},
   "outputs": [
    {
     "data": {
      "text/plain": [
       "review       0\n",
       "sentiment    0\n",
       "dtype: int64"
      ]
     },
     "execution_count": 30,
     "metadata": {},
     "output_type": "execute_result"
    }
   ],
   "source": [
    "df_imdb = df_imdb.dropna()\n",
    "df_imdb.isnull().sum()"
   ]
  },
  {
   "cell_type": "markdown",
   "metadata": {},
   "source": [
    "Print the first 5 reviews and their sentiments classification"
   ]
  },
  {
   "cell_type": "code",
   "execution_count": 31,
   "metadata": {},
   "outputs": [
    {
     "data": {
      "text/html": [
       "<div>\n",
       "<style scoped>\n",
       "    .dataframe tbody tr th:only-of-type {\n",
       "        vertical-align: middle;\n",
       "    }\n",
       "\n",
       "    .dataframe tbody tr th {\n",
       "        vertical-align: top;\n",
       "    }\n",
       "\n",
       "    .dataframe thead th {\n",
       "        text-align: right;\n",
       "    }\n",
       "</style>\n",
       "<table border=\"1\" class=\"dataframe\">\n",
       "  <thead>\n",
       "    <tr style=\"text-align: right;\">\n",
       "      <th></th>\n",
       "      <th>review</th>\n",
       "      <th>sentiment</th>\n",
       "    </tr>\n",
       "  </thead>\n",
       "  <tbody>\n",
       "    <tr>\n",
       "      <th>0</th>\n",
       "      <td>One of the other reviewers has mentioned that ...</td>\n",
       "      <td>positive</td>\n",
       "    </tr>\n",
       "    <tr>\n",
       "      <th>1</th>\n",
       "      <td>A wonderful little production. &lt;br /&gt;&lt;br /&gt;The...</td>\n",
       "      <td>positive</td>\n",
       "    </tr>\n",
       "    <tr>\n",
       "      <th>2</th>\n",
       "      <td>I thought this was a wonderful way to spend ti...</td>\n",
       "      <td>positive</td>\n",
       "    </tr>\n",
       "    <tr>\n",
       "      <th>3</th>\n",
       "      <td>Basically there's a family where a little boy ...</td>\n",
       "      <td>negative</td>\n",
       "    </tr>\n",
       "    <tr>\n",
       "      <th>4</th>\n",
       "      <td>Petter Mattei's \"Love in the Time of Money\" is...</td>\n",
       "      <td>positive</td>\n",
       "    </tr>\n",
       "  </tbody>\n",
       "</table>\n",
       "</div>"
      ],
      "text/plain": [
       "                                              review sentiment\n",
       "0  One of the other reviewers has mentioned that ...  positive\n",
       "1  A wonderful little production. <br /><br />The...  positive\n",
       "2  I thought this was a wonderful way to spend ti...  positive\n",
       "3  Basically there's a family where a little boy ...  negative\n",
       "4  Petter Mattei's \"Love in the Time of Money\" is...  positive"
      ]
     },
     "execution_count": 31,
     "metadata": {},
     "output_type": "execute_result"
    }
   ],
   "source": [
    "df_imdb[['review', 'sentiment']].head()"
   ]
  },
  {
   "cell_type": "markdown",
   "metadata": {},
   "source": [
    "Create a function to count the number of words in each review"
   ]
  },
  {
   "cell_type": "code",
   "execution_count": 32,
   "metadata": {},
   "outputs": [],
   "source": [
    "def count_words(review):\n",
    "    return len(str(review).split())"
   ]
  },
  {
   "cell_type": "markdown",
   "metadata": {},
   "source": [
    "Apply this function to the review column and add a new column called \"words count\""
   ]
  },
  {
   "cell_type": "code",
   "execution_count": 33,
   "metadata": {},
   "outputs": [],
   "source": [
    "df_imdb['words count'] = df_imdb['review'].apply(count_words)\n"
   ]
  },
  {
   "cell_type": "markdown",
   "metadata": {},
   "source": [
    "Visualize the result in the DataFrame"
   ]
  },
  {
   "cell_type": "code",
   "execution_count": 34,
   "metadata": {},
   "outputs": [
    {
     "data": {
      "text/html": [
       "<div>\n",
       "<style scoped>\n",
       "    .dataframe tbody tr th:only-of-type {\n",
       "        vertical-align: middle;\n",
       "    }\n",
       "\n",
       "    .dataframe tbody tr th {\n",
       "        vertical-align: top;\n",
       "    }\n",
       "\n",
       "    .dataframe thead th {\n",
       "        text-align: right;\n",
       "    }\n",
       "</style>\n",
       "<table border=\"1\" class=\"dataframe\">\n",
       "  <thead>\n",
       "    <tr style=\"text-align: right;\">\n",
       "      <th></th>\n",
       "      <th>review</th>\n",
       "      <th>words count</th>\n",
       "    </tr>\n",
       "  </thead>\n",
       "  <tbody>\n",
       "    <tr>\n",
       "      <th>0</th>\n",
       "      <td>One of the other reviewers has mentioned that ...</td>\n",
       "      <td>307</td>\n",
       "    </tr>\n",
       "    <tr>\n",
       "      <th>1</th>\n",
       "      <td>A wonderful little production. &lt;br /&gt;&lt;br /&gt;The...</td>\n",
       "      <td>162</td>\n",
       "    </tr>\n",
       "    <tr>\n",
       "      <th>2</th>\n",
       "      <td>I thought this was a wonderful way to spend ti...</td>\n",
       "      <td>166</td>\n",
       "    </tr>\n",
       "    <tr>\n",
       "      <th>3</th>\n",
       "      <td>Basically there's a family where a little boy ...</td>\n",
       "      <td>138</td>\n",
       "    </tr>\n",
       "    <tr>\n",
       "      <th>4</th>\n",
       "      <td>Petter Mattei's \"Love in the Time of Money\" is...</td>\n",
       "      <td>230</td>\n",
       "    </tr>\n",
       "  </tbody>\n",
       "</table>\n",
       "</div>"
      ],
      "text/plain": [
       "                                              review  words count\n",
       "0  One of the other reviewers has mentioned that ...          307\n",
       "1  A wonderful little production. <br /><br />The...          162\n",
       "2  I thought this was a wonderful way to spend ti...          166\n",
       "3  Basically there's a family where a little boy ...          138\n",
       "4  Petter Mattei's \"Love in the Time of Money\" is...          230"
      ]
     },
     "execution_count": 34,
     "metadata": {},
     "output_type": "execute_result"
    }
   ],
   "source": [
    "df_imdb[['review', 'words count']].head()"
   ]
  },
  {
   "cell_type": "code",
   "execution_count": 35,
   "metadata": {},
   "outputs": [],
   "source": [
    "import re\n",
    "import nltk\n",
    "from nltk.corpus import stopwords\n",
    "from nltk.stem import PorterStemmer"
   ]
  },
  {
   "cell_type": "code",
   "execution_count": 36,
   "metadata": {},
   "outputs": [
    {
     "name": "stdout",
     "output_type": "stream",
     "text": [
      "['i', 'me', 'my', 'myself', 'we', 'our', 'ours', 'ourselves', 'you', \"you're\"]\n"
     ]
    }
   ],
   "source": [
    "import nltk\n",
    "stopwords = nltk.corpus.stopwords.words('english')\n",
    "print(stopwords[:10])"
   ]
  },
  {
   "cell_type": "code",
   "execution_count": 43,
   "metadata": {},
   "outputs": [],
   "source": [
    "# Step 1: Create a function called simple_preprocessing\n",
    "def simple_preprocessing(text):\n",
    "    # Make the text lowercase\n",
    "    text = text.lower()\n",
    "\n",
    "    # Remove HTML br tags\n",
    "    text = re.sub(r'<br\\s*/?>', ' ', text)\n",
    "\n",
    "    # Remove URLs\n",
    "    text = re.sub(r'http\\S+|www\\S+|https\\S+', '', text, flags=re.MULTILINE)\n",
    "\n",
    "    # Remove hashtags and @ symbol\n",
    "    text = re.sub(r'#|\\@', '', text)\n",
    "\n",
    "    # Remove punctuations\n",
    "    text = re.sub(r'[^\\w\\s]', '', text)\n",
    "\n",
    "    # Tokenize the text using nltk\n",
    "    words = nltk.word_tokenize(text)\n",
    "\n",
    "    # Remove stopwords using nltk\n",
    "    custom_stopwords = set(stopwords)\n",
    "    words = [word for word in words if word.lower() not in custom_stopwords]\n",
    "\n",
    "    # Return a string as the preprocessed text\n",
    "    return ' '.join(words)"
   ]
  },
  {
   "cell_type": "code",
   "execution_count": 44,
   "metadata": {},
   "outputs": [],
   "source": [
    "# Step 2: Apply the simple_preprocessing() function in the review column\n",
    "df_imdb['review'] = df_imdb['review'].apply(simple_preprocessing)"
   ]
  },
  {
   "cell_type": "code",
   "execution_count": 45,
   "metadata": {},
   "outputs": [
    {
     "name": "stdout",
     "output_type": "stream",
     "text": [
      "\n",
      "First 5 reviews after preprocessing:\n",
      "0    one reviewers mentioned watching 1 oz episode ...\n",
      "1    wonderful little production filming technique ...\n",
      "2    thought wonderful way spend time hot summer we...\n",
      "3    basically theres family little boy jake thinks...\n",
      "4    petter matteis love time money visually stunni...\n",
      "Name: review, dtype: object\n"
     ]
    }
   ],
   "source": [
    "# Step 3: Print the first 5 reviews after preprocessing\n",
    "print(\"\\nFirst 5 reviews after preprocessing:\")\n",
    "print(df_imdb['review'].head())"
   ]
  },
  {
   "cell_type": "code",
   "execution_count": 46,
   "metadata": {},
   "outputs": [
    {
     "name": "stdout",
     "output_type": "stream",
     "text": [
      "\n",
      "Number of duplicated reviews before removal: 425\n"
     ]
    }
   ],
   "source": [
    "# Step 4: Check and remove duplicated reviews\n",
    "print(\"\\nNumber of duplicated reviews before removal:\", df_imdb.duplicated('review').sum())\n",
    "df_imdb = df_imdb.drop_duplicates('review')"
   ]
  },
  {
   "cell_type": "code",
   "execution_count": 48,
   "metadata": {},
   "outputs": [
    {
     "data": {
      "text/plain": [
       "0"
      ]
     },
     "execution_count": 48,
     "metadata": {},
     "output_type": "execute_result"
    }
   ],
   "source": [
    "# Check that duplicated reviews were deleted\n",
    "df_imdb.duplicated('review').sum()"
   ]
  },
  {
   "cell_type": "code",
   "execution_count": 49,
   "metadata": {},
   "outputs": [],
   "source": [
    "# Step 5: Create a function stemming() and use PorterStemmer to stem the reviews column\n",
    "def stemming(text):\n",
    "    stemmer = PorterStemmer()\n",
    "    words = nltk.word_tokenize(text)\n",
    "    stemmed_words = [stemmer.stem(word) for word in words]\n",
    "    return ' '.join(stemmed_words)\n"
   ]
  },
  {
   "cell_type": "code",
   "execution_count": 50,
   "metadata": {},
   "outputs": [],
   "source": [
    "# Apply the stemming function to the reviews column\n",
    "df_imdb['review'] = df_imdb['review'].apply(stemming)"
   ]
  },
  {
   "cell_type": "markdown",
   "metadata": {},
   "source": [
    "Preparing Data To Train The Model\n"
   ]
  },
  {
   "cell_type": "code",
   "execution_count": 51,
   "metadata": {},
   "outputs": [
    {
     "name": "stdout",
     "output_type": "stream",
     "text": [
      "Shapes of x_train, y_train, x_test, y_test:\n",
      "x_train shape: (34702, 128350)\n",
      "y_train shape: (34702,)\n",
      "x_test shape: (14873, 128350)\n",
      "y_test shape: (14873,)\n"
     ]
    }
   ],
   "source": [
    "from sklearn.feature_extraction.text import TfidfVectorizer\n",
    "from sklearn.model_selection import train_test_split\n",
    "\n",
    "# Step 1: Split the data into X and Y\n",
    "X = df_imdb['review']\n",
    "Y = df_imdb['sentiment']\n",
    "\n",
    "# Binarize the sentiment column\n",
    "Y = Y.map({'positive': 1, 'negative': 0})\n",
    "\n",
    "# Step 2: Vectorize the data using TF-IDF vectorizer\n",
    "tfidf_vectorizer = TfidfVectorizer()\n",
    "X_vectorized = tfidf_vectorizer.fit_transform(X)\n",
    "\n",
    "# Step 3: Split into training and testing sets\n",
    "x_train, x_test, y_train, y_test = train_test_split(X_vectorized, Y, test_size=0.3, random_state=42)\n",
    "\n",
    "# Step 4: Print the shapes\n",
    "print(\"Shapes of x_train, y_train, x_test, y_test:\")\n",
    "print(\"x_train shape:\", x_train.shape)\n",
    "print(\"y_train shape:\", y_train.shape)\n",
    "print(\"x_test shape:\", x_test.shape)\n",
    "print(\"y_test shape:\", y_test.shape)"
   ]
  },
  {
   "cell_type": "markdown",
   "metadata": {},
   "source": [
    "Machine Learning Model: Instantiating, Training, Predicting And Evalueting\n"
   ]
  },
  {
   "cell_type": "code",
   "execution_count": 52,
   "metadata": {},
   "outputs": [
    {
     "name": "stdout",
     "output_type": "stream",
     "text": [
      "Accuracy: 0.8938344651381699\n",
      "\n",
      "Classification Report:\n",
      "              precision    recall  f1-score   support\n",
      "\n",
      "           0       0.91      0.88      0.89      7407\n",
      "           1       0.88      0.91      0.90      7466\n",
      "\n",
      "    accuracy                           0.89     14873\n",
      "   macro avg       0.89      0.89      0.89     14873\n",
      "weighted avg       0.89      0.89      0.89     14873\n",
      "\n",
      "\n",
      "Confusion Matrix:\n",
      "[[6504  903]\n",
      " [ 676 6790]]\n"
     ]
    }
   ],
   "source": [
    "from sklearn.linear_model import LogisticRegression\n",
    "from sklearn.metrics import accuracy_score, classification_report, confusion_matrix\n",
    "\n",
    "# Step 2: Instantiate the Logistic Regression model\n",
    "logistic_regression_model = LogisticRegression(random_state=42)\n",
    "\n",
    "# Step 3: Train the model\n",
    "logistic_regression_model.fit(x_train, y_train)\n",
    "\n",
    "# Step 4: Predict on the test set\n",
    "y_pred = logistic_regression_model.predict(x_test)\n",
    "\n",
    "# Step 5: Calculate accuracy\n",
    "accuracy = accuracy_score(y_test, y_pred)\n",
    "print(\"Accuracy:\", accuracy)\n",
    "\n",
    "# Step 6: Print classification report\n",
    "print(\"\\nClassification Report:\")\n",
    "print(classification_report(y_test, y_pred))\n",
    "\n",
    "# Step 7: Print confusion matrix\n",
    "print(\"\\nConfusion Matrix:\")\n",
    "print(confusion_matrix(y_test, y_pred))\n"
   ]
  },
  {
   "cell_type": "markdown",
   "metadata": {},
   "source": [
    "The Logistic Regression model achieved an accuracy of approximately 89.4%,  is reasonably good.\n",
    "\n",
    "\n",
    "In the classification report:\n",
    "\n",
    "Precision represents the accuracy of positive predictions. For class 0 (negative sentiment), the precision is 91%, and for class 1 (positive sentiment), it is 88%.\n",
    "\n",
    "Recall measures the ability of the model to capture all relevant instances. For class 0, the recall is 88%, and for class 1, it is 91%.\n",
    "\n",
    "F1-score is the harmonic mean of precision and recall. For both classes, the F1-score is around 0.89.\n",
    "\n",
    "Support indicates the number of actual occurrences of each class in the test set. Class 0 has 7,407 samples, and class 1 has 7,466 samples.\n",
    "\n",
    "Accuracy is the overall correct predictions divided by the total number of predictions, resulting in an accuracy of 89%.\n",
    "\n",
    "In summary, the classification report provides a detailed assessment of the model's performance, showing a balanced performance for both positive and negative sentiments, with an overall accuracy of 89%.\n"
   ]
  },
  {
   "cell_type": "markdown",
   "metadata": {},
   "source": [
    "In the confusion matrix:\n",
    "\n",
    "True Positive (TP): 6,790 instances were correctly predicted as positive.\n",
    "True Negative (TN): 6,504 instances were correctly predicted as negative.\n",
    "False Positive (FP): 903 instances were incorrectly predicted as positive.\n",
    "False Negative (FN): 676 instances were incorrectly predicted as negative.\n",
    "In summary, the model performed well, with a balanced number of correct predictions for both positive and negative sentiments. The confusion matrix provides a detailed breakdown of the model's classification performance."
   ]
  },
  {
   "cell_type": "markdown",
   "metadata": {},
   "source": [
    "Predicting A New Review\n"
   ]
  },
  {
   "cell_type": "code",
   "execution_count": 53,
   "metadata": {},
   "outputs": [
    {
     "name": "stdout",
     "output_type": "stream",
     "text": [
      "Review: 'I loved this movie!'\n",
      "Predicted Sentiment: positive\n",
      "\n",
      "Review: 'This movie was a bad comedy movie!'\n",
      "Predicted Sentiment: negative\n",
      "\n"
     ]
    }
   ],
   "source": [
    "# New reviews\n",
    "new_reviews = [\"I loved this movie!\", \"This movie was a bad comedy movie!\"]\n",
    "\n",
    "# Preprocess the new reviews\n",
    "preprocessed_reviews = [simple_preprocessing(review) for review in new_reviews]\n",
    "\n",
    "# Vectorize the preprocessed reviews using the TF-IDF vectorizer\n",
    "new_reviews_vectorized = tfidf_vectorizer.transform(preprocessed_reviews)\n",
    "\n",
    "# Predict the sentiment using the trained Logistic Regression model\n",
    "predictions = logistic_regression_model.predict(new_reviews_vectorized)\n",
    "\n",
    "# Map the predictions to sentiment labels\n",
    "sentiments = ['negative' if pred == 0 else 'positive' for pred in predictions]\n",
    "\n",
    "# Print the results\n",
    "for review, sentiment in zip(new_reviews, sentiments):\n",
    "    print(f\"Review: '{review}'\\nPredicted Sentiment: {sentiment}\\n\")\n"
   ]
  },
  {
   "cell_type": "markdown",
   "metadata": {},
   "source": [
    "Bonus"
   ]
  },
  {
   "cell_type": "code",
   "execution_count": 54,
   "metadata": {},
   "outputs": [
    {
     "name": "stdout",
     "output_type": "stream",
     "text": [
      "Phrase: 'This is the best movie I've ever seen!'\n",
      "Predicted Sentiment: positive\n",
      "\n",
      "Phrase: 'I couldn't stand watching this film. It was awful.'\n",
      "Predicted Sentiment: negative\n",
      "\n",
      "Phrase: 'The plot was confusing, but the acting was superb.'\n",
      "Predicted Sentiment: positive\n",
      "\n",
      "Phrase: 'Not a fan of this movie. Disappointed with the storyline.'\n",
      "Predicted Sentiment: positive\n",
      "\n",
      "Phrase: 'Absolutely loved the characters and the storyline!'\n",
      "Predicted Sentiment: positive\n",
      "\n"
     ]
    }
   ],
   "source": [
    "# New phrases\n",
    "new_phrases = [\n",
    "    \"This is the best movie I've ever seen!\",\n",
    "    \"I couldn't stand watching this film. It was awful.\",\n",
    "    \"The plot was confusing, but the acting was superb.\",\n",
    "    \"Not a fan of this movie. Disappointed with the storyline.\",\n",
    "    \"Absolutely loved the characters and the storyline!\",\n",
    "]\n",
    "\n",
    "# Preprocess the new phrases\n",
    "preprocessed_phrases = [simple_preprocessing(phrase) for phrase in new_phrases]\n",
    "\n",
    "# Vectorize the preprocessed phrases using the TF-IDF vectorizer\n",
    "new_phrases_vectorized = tfidf_vectorizer.transform(preprocessed_phrases)\n",
    "\n",
    "# Predict the sentiment using the trained Logistic Regression model\n",
    "predictions_phrases = logistic_regression_model.predict(new_phrases_vectorized)\n",
    "\n",
    "# Map the predictions to sentiment labels\n",
    "sentiments_phrases = ['negative' if pred == 0 else 'positive' for pred in predictions_phrases]\n",
    "\n",
    "# Print the results\n",
    "for phrase, sentiment in zip(new_phrases, sentiments_phrases):\n",
    "    print(f\"Phrase: '{phrase}'\\nPredicted Sentiment: {sentiment}\\n\")\n"
   ]
  }
 ],
 "metadata": {
  "kernelspec": {
   "display_name": "Python 3",
   "language": "python",
   "name": "python3"
  },
  "language_info": {
   "codemirror_mode": {
    "name": "ipython",
    "version": 3
   },
   "file_extension": ".py",
   "mimetype": "text/x-python",
   "name": "python",
   "nbconvert_exporter": "python",
   "pygments_lexer": "ipython3",
   "version": "3.12.0"
  }
 },
 "nbformat": 4,
 "nbformat_minor": 2
}
