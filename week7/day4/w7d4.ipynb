{
 "cells": [
  {
   "cell_type": "code",
   "execution_count": null,
   "metadata": {},
   "outputs": [],
   "source": []
  },
  {
   "cell_type": "markdown",
   "metadata": {},
   "source": [
    "1 - Supervised\n",
    "2 - Unsupervised Learning\n",
    "3 - Supervised\n",
    "4 - unsupervised\n",
    "5 - Supervised"
   ]
  }
 ],
 "metadata": {
  "language_info": {
   "name": "python"
  }
 },
 "nbformat": 4,
 "nbformat_minor": 2
}
