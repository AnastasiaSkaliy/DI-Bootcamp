{
  "nbformat": 4,
  "nbformat_minor": 0,
  "metadata": {
    "colab": {
      "provenance": []
    },
    "kernelspec": {
      "name": "python3",
      "display_name": "Python 3"
    },
    "language_info": {
      "name": "python"
    }
  },
  "cells": [
    {
      "cell_type": "code",
      "source": [
        "import requests\n",
        "\n",
        "url = 'https://github.com/topics'\n",
        "response = requests.get(url)\n",
        "\n",
        "print(\"Status code:\", response.status_code)"
      ],
      "metadata": {
        "colab": {
          "base_uri": "https://localhost:8080/"
        },
        "id": "qB6ullBSffEs",
        "outputId": "4845bbcf-cdcf-434b-9182-64bb1d74591d"
      },
      "execution_count": 16,
      "outputs": [
        {
          "output_type": "stream",
          "name": "stdout",
          "text": [
            "Status code: 200\n"
          ]
        }
      ]
    },
    {
      "cell_type": "code",
      "source": [
        "print(response.text[:100])"
      ],
      "metadata": {
        "colab": {
          "base_uri": "https://localhost:8080/"
        },
        "id": "OHg3lb6Af8uQ",
        "outputId": "72c40cfb-044a-4f13-d944-ebd9372e2389"
      },
      "execution_count": 17,
      "outputs": [
        {
          "output_type": "stream",
          "name": "stdout",
          "text": [
            "\n",
            "\n",
            "<!DOCTYPE html>\n",
            "<html\n",
            "  lang=\"en\"\n",
            "  \n",
            "  data-color-mode=\"auto\" data-light-theme=\"light\" data-dark-t\n"
          ]
        }
      ]
    },
    {
      "cell_type": "code",
      "source": [
        "with open('webpage.html', 'w', encoding='utf-8') as file:\n",
        "        file.write(response.text)"
      ],
      "metadata": {
        "id": "78lr-f-FgICF"
      },
      "execution_count": 18,
      "outputs": []
    },
    {
      "cell_type": "code",
      "source": [
        "from bs4 import BeautifulSoup\n",
        "\n",
        "with open('webpage.html', 'r', encoding='utf-8') as file:\n",
        "    html_content = file.read()\n",
        "soup = BeautifulSoup(html_content, 'html.parser')"
      ],
      "metadata": {
        "id": "pNeBPuUBgWiI"
      },
      "execution_count": 19,
      "outputs": []
    },
    {
      "cell_type": "code",
      "source": [
        "topic_titles = soup.find_all('p', {\"class\" : \"f3 lh-condensed mb-0 mt-1 Link--primary\"})\n",
        "descriptions = soup.find_all('p', {\"class\" : \"f5 color-fg-muted mb-0 mt-1\"})\n",
        "\n",
        "print(\"Number of topics:\", len(topic_titles))\n",
        "print(\"Number of descriptions:\", len(descriptions))\n",
        "\n",
        "print(\"Titles of the topics:\")\n",
        "for title in topic_titles:\n",
        "    print(title.text.strip())\n",
        "\n",
        "print(\"\\nDescriptions of the topics:\")\n",
        "for desc in descriptions:\n",
        "    print(desc.text.strip())"
      ],
      "metadata": {
        "colab": {
          "base_uri": "https://localhost:8080/"
        },
        "id": "87JzqYVFhNg1",
        "outputId": "f6c0a125-7f7b-4093-9533-702483127130"
      },
      "execution_count": 20,
      "outputs": [
        {
          "output_type": "stream",
          "name": "stdout",
          "text": [
            "Number of topics: 30\n",
            "Number of descriptions: 30\n",
            "Titles of the topics:\n",
            "3D\n",
            "Ajax\n",
            "Algorithm\n",
            "Amp\n",
            "Android\n",
            "Angular\n",
            "Ansible\n",
            "API\n",
            "Arduino\n",
            "ASP.NET\n",
            "Atom\n",
            "Awesome Lists\n",
            "Amazon Web Services\n",
            "Azure\n",
            "Babel\n",
            "Bash\n",
            "Bitcoin\n",
            "Bootstrap\n",
            "Bot\n",
            "C\n",
            "Chrome\n",
            "Chrome extension\n",
            "Command line interface\n",
            "Clojure\n",
            "Code quality\n",
            "Code review\n",
            "Compiler\n",
            "Continuous integration\n",
            "COVID-19\n",
            "C++\n",
            "\n",
            "Descriptions of the topics:\n",
            "3D refers to the use of three-dimensional graphics, modeling, and animation in various industries.\n",
            "Ajax is a technique for creating interactive web applications.\n",
            "Algorithms are self-contained sequences that carry out a variety of tasks.\n",
            "Amp is a non-blocking concurrency library for PHP.\n",
            "Android is an operating system built by Google designed for mobile devices.\n",
            "Angular is an open source web application platform.\n",
            "Ansible is a simple and powerful automation engine.\n",
            "An API (Application Programming Interface) is a collection of protocols and subroutines for building software.\n",
            "Arduino is an open source platform for building electronic devices.\n",
            "ASP.NET is a web framework for building modern web apps and services.\n",
            "Atom is a open source text editor built with web technologies.\n",
            "An awesome list is a list of awesome things curated by the community.\n",
            "Amazon Web Services provides on-demand cloud computing platforms on a subscription basis.\n",
            "Azure is a cloud computing service created by Microsoft.\n",
            "Babel is a compiler for writing next generation JavaScript, today.\n",
            "Bash is a shell and command language interpreter for the GNU operating system.\n",
            "Bitcoin is a cryptocurrency developed by Satoshi Nakamoto.\n",
            "Bootstrap is an HTML, CSS, and JavaScript framework.\n",
            "A bot is an application that runs automated tasks over the Internet.\n",
            "C is a general purpose programming language that first appeared in 1972.\n",
            "Chrome is a web browser from the tech company Google.\n",
            "Chrome extensions enable users to customize the Chrome browsing experience.\n",
            "A CLI, or command-line interface, is a console that helps users issue commands to a program.\n",
            "Clojure is a dynamic, general-purpose programming language.\n",
            "Automate your code review with style, quality, security, and test‑coverage checks when you need them.\n",
            "Ensure your code meets quality standards and ship with confidence.\n",
            "Compilers are software that translate higher-level programming languages to lower-level languages (e.g. machine code).\n",
            "Automatically build and test your code as you push it upstream, preventing bugs from being deployed to production.\n",
            "The coronavirus disease 2019 (COVID-19) is an infectious disease caused by SARS-CoV-2.\n",
            "C++ is a general purpose and object-oriented programming language.\n"
          ]
        }
      ]
    },
    {
      "cell_type": "code",
      "source": [],
      "metadata": {
        "id": "QvDx5qxUH9yX"
      },
      "execution_count": null,
      "outputs": []
    },
    {
      "cell_type": "code",
      "source": [
        "topics_dict = {}\n",
        "\n",
        "for i in range(len(topic_titles)):\n",
        "    title = topic_titles[i].text.strip()\n",
        "    description = descriptions[i].text.strip()\n",
        "    topics_dict[title] = description\n",
        "\n",
        "for title, description in topics_dict.items():\n",
        "    print(f\"Title: {title}\")\n",
        "    print(f\"Description: {description}\\n\")"
      ],
      "metadata": {
        "colab": {
          "base_uri": "https://localhost:8080/"
        },
        "id": "mbjO7sZwjXrd",
        "outputId": "6bbd1114-fb33-4b40-f26d-dd289d7e9753"
      },
      "execution_count": 24,
      "outputs": [
        {
          "output_type": "stream",
          "name": "stdout",
          "text": [
            "Title: 3D\n",
            "Description: 3D refers to the use of three-dimensional graphics, modeling, and animation in various industries.\n",
            "\n",
            "Title: Ajax\n",
            "Description: Ajax is a technique for creating interactive web applications.\n",
            "\n",
            "Title: Algorithm\n",
            "Description: Algorithms are self-contained sequences that carry out a variety of tasks.\n",
            "\n",
            "Title: Amp\n",
            "Description: Amp is a non-blocking concurrency library for PHP.\n",
            "\n",
            "Title: Android\n",
            "Description: Android is an operating system built by Google designed for mobile devices.\n",
            "\n",
            "Title: Angular\n",
            "Description: Angular is an open source web application platform.\n",
            "\n",
            "Title: Ansible\n",
            "Description: Ansible is a simple and powerful automation engine.\n",
            "\n",
            "Title: API\n",
            "Description: An API (Application Programming Interface) is a collection of protocols and subroutines for building software.\n",
            "\n",
            "Title: Arduino\n",
            "Description: Arduino is an open source platform for building electronic devices.\n",
            "\n",
            "Title: ASP.NET\n",
            "Description: ASP.NET is a web framework for building modern web apps and services.\n",
            "\n",
            "Title: Atom\n",
            "Description: Atom is a open source text editor built with web technologies.\n",
            "\n",
            "Title: Awesome Lists\n",
            "Description: An awesome list is a list of awesome things curated by the community.\n",
            "\n",
            "Title: Amazon Web Services\n",
            "Description: Amazon Web Services provides on-demand cloud computing platforms on a subscription basis.\n",
            "\n",
            "Title: Azure\n",
            "Description: Azure is a cloud computing service created by Microsoft.\n",
            "\n",
            "Title: Babel\n",
            "Description: Babel is a compiler for writing next generation JavaScript, today.\n",
            "\n",
            "Title: Bash\n",
            "Description: Bash is a shell and command language interpreter for the GNU operating system.\n",
            "\n",
            "Title: Bitcoin\n",
            "Description: Bitcoin is a cryptocurrency developed by Satoshi Nakamoto.\n",
            "\n",
            "Title: Bootstrap\n",
            "Description: Bootstrap is an HTML, CSS, and JavaScript framework.\n",
            "\n",
            "Title: Bot\n",
            "Description: A bot is an application that runs automated tasks over the Internet.\n",
            "\n",
            "Title: C\n",
            "Description: C is a general purpose programming language that first appeared in 1972.\n",
            "\n",
            "Title: Chrome\n",
            "Description: Chrome is a web browser from the tech company Google.\n",
            "\n",
            "Title: Chrome extension\n",
            "Description: Chrome extensions enable users to customize the Chrome browsing experience.\n",
            "\n",
            "Title: Command line interface\n",
            "Description: A CLI, or command-line interface, is a console that helps users issue commands to a program.\n",
            "\n",
            "Title: Clojure\n",
            "Description: Clojure is a dynamic, general-purpose programming language.\n",
            "\n",
            "Title: Code quality\n",
            "Description: Automate your code review with style, quality, security, and test‑coverage checks when you need them.\n",
            "\n",
            "Title: Code review\n",
            "Description: Ensure your code meets quality standards and ship with confidence.\n",
            "\n",
            "Title: Compiler\n",
            "Description: Compilers are software that translate higher-level programming languages to lower-level languages (e.g. machine code).\n",
            "\n",
            "Title: Continuous integration\n",
            "Description: Automatically build and test your code as you push it upstream, preventing bugs from being deployed to production.\n",
            "\n",
            "Title: COVID-19\n",
            "Description: The coronavirus disease 2019 (COVID-19) is an infectious disease caused by SARS-CoV-2.\n",
            "\n",
            "Title: C++\n",
            "Description: C++ is a general purpose and object-oriented programming language.\n",
            "\n"
          ]
        }
      ]
    },
    {
      "cell_type": "code",
      "source": [
        "import pandas as pd\n",
        "topics_df = pd.DataFrame(list(topics_dict.items()), columns=['Title', 'Description'])\n",
        "print(topics_df)"
      ],
      "metadata": {
        "colab": {
          "base_uri": "https://localhost:8080/"
        },
        "id": "4S3VrtJ7jqiM",
        "outputId": "6285be11-7b71-4cfa-9e6d-9d9f8f8ebc25"
      },
      "execution_count": 23,
      "outputs": [
        {
          "output_type": "stream",
          "name": "stdout",
          "text": [
            "                     Title                                        Description\n",
            "0                       3D  3D refers to the use of three-dimensional grap...\n",
            "1                     Ajax  Ajax is a technique for creating interactive w...\n",
            "2                Algorithm  Algorithms are self-contained sequences that c...\n",
            "3                      Amp  Amp is a non-blocking concurrency library for ...\n",
            "4                  Android  Android is an operating system built by Google...\n",
            "5                  Angular  Angular is an open source web application plat...\n",
            "6                  Ansible  Ansible is a simple and powerful automation en...\n",
            "7                      API  An API (Application Programming Interface) is ...\n",
            "8                  Arduino  Arduino is an open source platform for buildin...\n",
            "9                  ASP.NET  ASP.NET is a web framework for building modern...\n",
            "10                    Atom  Atom is a open source text editor built with w...\n",
            "11           Awesome Lists  An awesome list is a list of awesome things cu...\n",
            "12     Amazon Web Services  Amazon Web Services provides on-demand cloud c...\n",
            "13                   Azure  Azure is a cloud computing service created by ...\n",
            "14                   Babel  Babel is a compiler for writing next generatio...\n",
            "15                    Bash  Bash is a shell and command language interpret...\n",
            "16                 Bitcoin  Bitcoin is a cryptocurrency developed by Satos...\n",
            "17               Bootstrap  Bootstrap is an HTML, CSS, and JavaScript fram...\n",
            "18                     Bot  A bot is an application that runs automated ta...\n",
            "19                       C  C is a general purpose programming language th...\n",
            "20                  Chrome  Chrome is a web browser from the tech company ...\n",
            "21        Chrome extension  Chrome extensions enable users to customize th...\n",
            "22  Command line interface  A CLI, or command-line interface, is a console...\n",
            "23                 Clojure  Clojure is a dynamic, general-purpose programm...\n",
            "24            Code quality  Automate your code review with style, quality,...\n",
            "25             Code review  Ensure your code meets quality standards and s...\n",
            "26                Compiler  Compilers are software that translate higher-l...\n",
            "27  Continuous integration  Automatically build and test your code as you ...\n",
            "28                COVID-19  The coronavirus disease 2019 (COVID-19) is an ...\n",
            "29                     C++  C++ is a general purpose and object-oriented p...\n"
          ]
        }
      ]
    }
  ]
}