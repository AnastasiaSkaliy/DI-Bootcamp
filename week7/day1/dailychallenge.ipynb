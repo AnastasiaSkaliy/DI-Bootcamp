{
  "nbformat": 4,
  "nbformat_minor": 0,
  "metadata": {
    "colab": {
      "provenance": []
    },
    "kernelspec": {
      "name": "python3",
      "display_name": "Python 3"
    },
    "language_info": {
      "name": "python"
    }
  },
  "cells": [
    {
      "cell_type": "code",
      "source": [
        "import requests\n",
        "\n",
        "url = 'https://github.com/topics'\n",
        "response = requests.get(url)\n",
        "\n",
        "print(\"Status code:\", response.status_code)"
      ],
      "metadata": {
        "colab": {
          "base_uri": "https://localhost:8080/"
        },
        "id": "qB6ullBSffEs",
        "outputId": "e5b21c85-c6d9-45b1-a3ba-5b1672282571"
      },
      "execution_count": 4,
      "outputs": [
        {
          "output_type": "stream",
          "name": "stdout",
          "text": [
            "Status code: 200\n"
          ]
        }
      ]
    },
    {
      "cell_type": "code",
      "source": [
        "print(response.text[:100])"
      ],
      "metadata": {
        "colab": {
          "base_uri": "https://localhost:8080/"
        },
        "id": "OHg3lb6Af8uQ",
        "outputId": "3ae0f6b0-75db-4a47-fa99-5f6969b3564f"
      },
      "execution_count": 5,
      "outputs": [
        {
          "output_type": "stream",
          "name": "stdout",
          "text": [
            "\n",
            "\n",
            "<!DOCTYPE html>\n",
            "<html\n",
            "  lang=\"en\"\n",
            "  \n",
            "  data-color-mode=\"auto\" data-light-theme=\"light\" data-dark-t\n"
          ]
        }
      ]
    },
    {
      "cell_type": "code",
      "source": [
        "with open('webpage.html', 'w', encoding='utf-8') as file:\n",
        "        file.write(response.text)"
      ],
      "metadata": {
        "id": "78lr-f-FgICF"
      },
      "execution_count": 6,
      "outputs": []
    },
    {
      "cell_type": "code",
      "source": [
        "from bs4 import BeautifulSoup\n",
        "\n",
        "with open('webpage.html', 'r', encoding='utf-8') as file:\n",
        "    html_content = file.read()\n",
        "soup = BeautifulSoup(html_content, 'html.parser')"
      ],
      "metadata": {
        "id": "pNeBPuUBgWiI"
      },
      "execution_count": 7,
      "outputs": []
    },
    {
      "cell_type": "code",
      "source": [
        "topic_titles = soup.find_all('p', class_='f3 lh-condensed mb-0 mt-1 Link--primary')\n",
        "descriptions = soup.find_all('p', class_='f5')\n",
        "\n",
        "\n",
        "print(\"Titles of the topics:\")\n",
        "for title in topic_titles:\n",
        "    print(title.text.strip())\n",
        "\n",
        "print(\"\\nDescriptions of the topics:\")\n",
        "for desc in descriptions:\n",
        "    print(desc.text.strip())\n",
        "\n",
        "\n",
        "print(\"Number of topics:\", len(topic_titles))\n",
        "print(\"Number of descriptions:\", len(descriptions))\n",
        "\n",
        "print(\"\\nContent of topics:\")\n",
        "for topic in topic_titles:\n",
        "    print(topic.text.strip())\n",
        "\n",
        "print(\"\\nContent of descriptions:\")\n",
        "for desc in descriptions:\n",
        "    print(desc.text.strip())"
      ],
      "metadata": {
        "colab": {
          "base_uri": "https://localhost:8080/"
        },
        "id": "87JzqYVFhNg1",
        "outputId": "60913b34-460e-48ea-f329-d90f2a3047e9"
      },
      "execution_count": 18,
      "outputs": [
        {
          "output_type": "stream",
          "name": "stdout",
          "text": [
            "Titles of the topics:\n",
            "3D\n",
            "Ajax\n",
            "Algorithm\n",
            "Amp\n",
            "Android\n",
            "Angular\n",
            "Ansible\n",
            "API\n",
            "Arduino\n",
            "ASP.NET\n",
            "Atom\n",
            "Awesome Lists\n",
            "Amazon Web Services\n",
            "Azure\n",
            "Babel\n",
            "Bash\n",
            "Bitcoin\n",
            "Bootstrap\n",
            "Bot\n",
            "C\n",
            "Chrome\n",
            "Chrome extension\n",
            "Command line interface\n",
            "Clojure\n",
            "Code quality\n",
            "Code review\n",
            "Compiler\n",
            "Continuous integration\n",
            "COVID-19\n",
            "C++\n",
            "\n",
            "Descriptions of the topics:\n",
            "An infrastructure-as-code tool for building, changing, and versioning infrastructure safely and efficiently.\n",
            "Julia is a high-level, high-performance dynamic programming language for numerical computing.\n",
            "MySQL is an open source relational database management system.\n",
            "3D refers to the use of three-dimensional graphics, modeling, and animation in various industries.\n",
            "Ajax is a technique for creating interactive web applications.\n",
            "Algorithms are self-contained sequences that carry out a variety of tasks.\n",
            "Amp is a non-blocking concurrency library for PHP.\n",
            "Android is an operating system built by Google designed for mobile devices.\n",
            "Angular is an open source web application platform.\n",
            "Ansible is a simple and powerful automation engine.\n",
            "An API (Application Programming Interface) is a collection of protocols and subroutines for building software.\n",
            "Arduino is an open source platform for building electronic devices.\n",
            "ASP.NET is a web framework for building modern web apps and services.\n",
            "Atom is a open source text editor built with web technologies.\n",
            "An awesome list is a list of awesome things curated by the community.\n",
            "Amazon Web Services provides on-demand cloud computing platforms on a subscription basis.\n",
            "Azure is a cloud computing service created by Microsoft.\n",
            "Babel is a compiler for writing next generation JavaScript, today.\n",
            "Bash is a shell and command language interpreter for the GNU operating system.\n",
            "Bitcoin is a cryptocurrency developed by Satoshi Nakamoto.\n",
            "Bootstrap is an HTML, CSS, and JavaScript framework.\n",
            "A bot is an application that runs automated tasks over the Internet.\n",
            "C is a general purpose programming language that first appeared in 1972.\n",
            "Chrome is a web browser from the tech company Google.\n",
            "Chrome extensions enable users to customize the Chrome browsing experience.\n",
            "A CLI, or command-line interface, is a console that helps users issue commands to a program.\n",
            "Clojure is a dynamic, general-purpose programming language.\n",
            "Automate your code review with style, quality, security, and test‑coverage checks when you need them.\n",
            "Ensure your code meets quality standards and ship with confidence.\n",
            "Compilers are software that translate higher-level programming languages to lower-level languages (e.g. machine code).\n",
            "Automatically build and test your code as you push it upstream, preventing bugs from being deployed to production.\n",
            "The coronavirus disease 2019 (COVID-19) is an infectious disease caused by SARS-CoV-2.\n",
            "C++ is a general purpose and object-oriented programming language.\n",
            "Number of topics: 30\n",
            "Number of descriptions: 33\n",
            "\n",
            "Content of topics:\n",
            "3D\n",
            "Ajax\n",
            "Algorithm\n",
            "Amp\n",
            "Android\n",
            "Angular\n",
            "Ansible\n",
            "API\n",
            "Arduino\n",
            "ASP.NET\n",
            "Atom\n",
            "Awesome Lists\n",
            "Amazon Web Services\n",
            "Azure\n",
            "Babel\n",
            "Bash\n",
            "Bitcoin\n",
            "Bootstrap\n",
            "Bot\n",
            "C\n",
            "Chrome\n",
            "Chrome extension\n",
            "Command line interface\n",
            "Clojure\n",
            "Code quality\n",
            "Code review\n",
            "Compiler\n",
            "Continuous integration\n",
            "COVID-19\n",
            "C++\n",
            "\n",
            "Content of descriptions:\n",
            "An infrastructure-as-code tool for building, changing, and versioning infrastructure safely and efficiently.\n",
            "Julia is a high-level, high-performance dynamic programming language for numerical computing.\n",
            "MySQL is an open source relational database management system.\n",
            "3D refers to the use of three-dimensional graphics, modeling, and animation in various industries.\n",
            "Ajax is a technique for creating interactive web applications.\n",
            "Algorithms are self-contained sequences that carry out a variety of tasks.\n",
            "Amp is a non-blocking concurrency library for PHP.\n",
            "Android is an operating system built by Google designed for mobile devices.\n",
            "Angular is an open source web application platform.\n",
            "Ansible is a simple and powerful automation engine.\n",
            "An API (Application Programming Interface) is a collection of protocols and subroutines for building software.\n",
            "Arduino is an open source platform for building electronic devices.\n",
            "ASP.NET is a web framework for building modern web apps and services.\n",
            "Atom is a open source text editor built with web technologies.\n",
            "An awesome list is a list of awesome things curated by the community.\n",
            "Amazon Web Services provides on-demand cloud computing platforms on a subscription basis.\n",
            "Azure is a cloud computing service created by Microsoft.\n",
            "Babel is a compiler for writing next generation JavaScript, today.\n",
            "Bash is a shell and command language interpreter for the GNU operating system.\n",
            "Bitcoin is a cryptocurrency developed by Satoshi Nakamoto.\n",
            "Bootstrap is an HTML, CSS, and JavaScript framework.\n",
            "A bot is an application that runs automated tasks over the Internet.\n",
            "C is a general purpose programming language that first appeared in 1972.\n",
            "Chrome is a web browser from the tech company Google.\n",
            "Chrome extensions enable users to customize the Chrome browsing experience.\n",
            "A CLI, or command-line interface, is a console that helps users issue commands to a program.\n",
            "Clojure is a dynamic, general-purpose programming language.\n",
            "Automate your code review with style, quality, security, and test‑coverage checks when you need them.\n",
            "Ensure your code meets quality standards and ship with confidence.\n",
            "Compilers are software that translate higher-level programming languages to lower-level languages (e.g. machine code).\n",
            "Automatically build and test your code as you push it upstream, preventing bugs from being deployed to production.\n",
            "The coronavirus disease 2019 (COVID-19) is an infectious disease caused by SARS-CoV-2.\n",
            "C++ is a general purpose and object-oriented programming language.\n"
          ]
        }
      ]
    },
    {
      "cell_type": "code",
      "source": [
        "topics_dict = {}\n",
        "\n",
        "for i in range(len(topic_titles)):\n",
        "    title = topic_titles[i].text.strip()\n",
        "    description = descriptions[i].text.strip()\n",
        "    topics_dict[title] = description\n",
        "\n",
        "for title, description in topics_dict.items():\n",
        "    print(f\"Title: {title}\")\n",
        "    print(f\"Description: {description}\\n\")"
      ],
      "metadata": {
        "colab": {
          "base_uri": "https://localhost:8080/"
        },
        "id": "mbjO7sZwjXrd",
        "outputId": "b3d17cb5-0c4d-42ec-d927-5a4e6db4573d"
      },
      "execution_count": 19,
      "outputs": [
        {
          "output_type": "stream",
          "name": "stdout",
          "text": [
            "Title: 3D\n",
            "Description: An infrastructure-as-code tool for building, changing, and versioning infrastructure safely and efficiently.\n",
            "\n",
            "Title: Ajax\n",
            "Description: Julia is a high-level, high-performance dynamic programming language for numerical computing.\n",
            "\n",
            "Title: Algorithm\n",
            "Description: MySQL is an open source relational database management system.\n",
            "\n",
            "Title: Amp\n",
            "Description: 3D refers to the use of three-dimensional graphics, modeling, and animation in various industries.\n",
            "\n",
            "Title: Android\n",
            "Description: Ajax is a technique for creating interactive web applications.\n",
            "\n",
            "Title: Angular\n",
            "Description: Algorithms are self-contained sequences that carry out a variety of tasks.\n",
            "\n",
            "Title: Ansible\n",
            "Description: Amp is a non-blocking concurrency library for PHP.\n",
            "\n",
            "Title: API\n",
            "Description: Android is an operating system built by Google designed for mobile devices.\n",
            "\n",
            "Title: Arduino\n",
            "Description: Angular is an open source web application platform.\n",
            "\n",
            "Title: ASP.NET\n",
            "Description: Ansible is a simple and powerful automation engine.\n",
            "\n",
            "Title: Atom\n",
            "Description: An API (Application Programming Interface) is a collection of protocols and subroutines for building software.\n",
            "\n",
            "Title: Awesome Lists\n",
            "Description: Arduino is an open source platform for building electronic devices.\n",
            "\n",
            "Title: Amazon Web Services\n",
            "Description: ASP.NET is a web framework for building modern web apps and services.\n",
            "\n",
            "Title: Azure\n",
            "Description: Atom is a open source text editor built with web technologies.\n",
            "\n",
            "Title: Babel\n",
            "Description: An awesome list is a list of awesome things curated by the community.\n",
            "\n",
            "Title: Bash\n",
            "Description: Amazon Web Services provides on-demand cloud computing platforms on a subscription basis.\n",
            "\n",
            "Title: Bitcoin\n",
            "Description: Azure is a cloud computing service created by Microsoft.\n",
            "\n",
            "Title: Bootstrap\n",
            "Description: Babel is a compiler for writing next generation JavaScript, today.\n",
            "\n",
            "Title: Bot\n",
            "Description: Bash is a shell and command language interpreter for the GNU operating system.\n",
            "\n",
            "Title: C\n",
            "Description: Bitcoin is a cryptocurrency developed by Satoshi Nakamoto.\n",
            "\n",
            "Title: Chrome\n",
            "Description: Bootstrap is an HTML, CSS, and JavaScript framework.\n",
            "\n",
            "Title: Chrome extension\n",
            "Description: A bot is an application that runs automated tasks over the Internet.\n",
            "\n",
            "Title: Command line interface\n",
            "Description: C is a general purpose programming language that first appeared in 1972.\n",
            "\n",
            "Title: Clojure\n",
            "Description: Chrome is a web browser from the tech company Google.\n",
            "\n",
            "Title: Code quality\n",
            "Description: Chrome extensions enable users to customize the Chrome browsing experience.\n",
            "\n",
            "Title: Code review\n",
            "Description: A CLI, or command-line interface, is a console that helps users issue commands to a program.\n",
            "\n",
            "Title: Compiler\n",
            "Description: Clojure is a dynamic, general-purpose programming language.\n",
            "\n",
            "Title: Continuous integration\n",
            "Description: Automate your code review with style, quality, security, and test‑coverage checks when you need them.\n",
            "\n",
            "Title: COVID-19\n",
            "Description: Ensure your code meets quality standards and ship with confidence.\n",
            "\n",
            "Title: C++\n",
            "Description: Compilers are software that translate higher-level programming languages to lower-level languages (e.g. machine code).\n",
            "\n"
          ]
        }
      ]
    },
    {
      "cell_type": "code",
      "source": [
        "import pandas as pd\n",
        "topics_df = pd.DataFrame(list(topics_dict.items()), columns=['Title', 'Description'])\n",
        "print(topics_df)"
      ],
      "metadata": {
        "colab": {
          "base_uri": "https://localhost:8080/"
        },
        "id": "4S3VrtJ7jqiM",
        "outputId": "ff26dc0b-39b9-4d02-874a-935327cd8445"
      },
      "execution_count": 20,
      "outputs": [
        {
          "output_type": "stream",
          "name": "stdout",
          "text": [
            "                     Title                                        Description\n",
            "0                       3D  An infrastructure-as-code tool for building, c...\n",
            "1                     Ajax  Julia is a high-level, high-performance dynami...\n",
            "2                Algorithm  MySQL is an open source relational database ma...\n",
            "3                      Amp  3D refers to the use of three-dimensional grap...\n",
            "4                  Android  Ajax is a technique for creating interactive w...\n",
            "5                  Angular  Algorithms are self-contained sequences that c...\n",
            "6                  Ansible  Amp is a non-blocking concurrency library for ...\n",
            "7                      API  Android is an operating system built by Google...\n",
            "8                  Arduino  Angular is an open source web application plat...\n",
            "9                  ASP.NET  Ansible is a simple and powerful automation en...\n",
            "10                    Atom  An API (Application Programming Interface) is ...\n",
            "11           Awesome Lists  Arduino is an open source platform for buildin...\n",
            "12     Amazon Web Services  ASP.NET is a web framework for building modern...\n",
            "13                   Azure  Atom is a open source text editor built with w...\n",
            "14                   Babel  An awesome list is a list of awesome things cu...\n",
            "15                    Bash  Amazon Web Services provides on-demand cloud c...\n",
            "16                 Bitcoin  Azure is a cloud computing service created by ...\n",
            "17               Bootstrap  Babel is a compiler for writing next generatio...\n",
            "18                     Bot  Bash is a shell and command language interpret...\n",
            "19                       C  Bitcoin is a cryptocurrency developed by Satos...\n",
            "20                  Chrome  Bootstrap is an HTML, CSS, and JavaScript fram...\n",
            "21        Chrome extension  A bot is an application that runs automated ta...\n",
            "22  Command line interface  C is a general purpose programming language th...\n",
            "23                 Clojure  Chrome is a web browser from the tech company ...\n",
            "24            Code quality  Chrome extensions enable users to customize th...\n",
            "25             Code review  A CLI, or command-line interface, is a console...\n",
            "26                Compiler  Clojure is a dynamic, general-purpose programm...\n",
            "27  Continuous integration  Automate your code review with style, quality,...\n",
            "28                COVID-19  Ensure your code meets quality standards and s...\n",
            "29                     C++  Compilers are software that translate higher-l...\n"
          ]
        }
      ]
    }
  ]
}