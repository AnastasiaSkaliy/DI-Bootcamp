{
  "cells": [
    {
      "cell_type": "code",
      "execution_count": null,
      "metadata": {
        "id": "EMYrvV8s0rDC"
      },
      "outputs": [],
      "source": [
        "from bs4 import BeautifulSoup\n",
        "html = \"\"\"\n",
        "    <html>\n",
        "     <head>\n",
        "         <title>2020 Oscar nominees and winners</title>\n",
        "     </head>\n",
        "     <body>\n",
        "         <h1 id=\"oscar_title\">Oscars 2020</h1>\n",
        "         <p>The biggest cinema awards ceremony took place in February. This year's highlights were:</p>\n",
        "         <ul class=\"highlights\">\n",
        "             <li>Joker</li>\n",
        "             <li>1917</li>\n",
        "             <li>Once Upon a Time in Hollywood</li>\n",
        "             <li>The Irishman</li>\n",
        "         </ul>\n",
        "         <p>See the winners of 3 categories below.</p>\n",
        "         <div>\n",
        "             <div class=\"best-film-category\">\n",
        "                 <h2>Category: best film</h2>\n",
        "                 <ul>\n",
        "                     <li>Ford vs Ferrari</li>\n",
        "                     <li>The Irishman</li>\n",
        "                     <li>JoJo Rabbit</li>\n",
        "                     <li>Joker</li>\n",
        "                     <li>Little Women</li>\n",
        "                     <li>Marriage Story</li>\n",
        "                     <li>1917</li>\n",
        "                     <li>Once Upon a Time in Hollywood</li>\n",
        "                     <li class=\"winner\">Parasite <strong>[WINNER]</strong></li>\n",
        "                 </ul>\n",
        "             </div>\n",
        "             <br>\n",
        "             <div class=\"best-actor-category\">\n",
        "                 <h2>Category: best actor</h2>\n",
        "                 <ul>\n",
        "                     <li>Antonio Banderas - Pain and Glory</li>\n",
        "                     <li>Leonardo DiCaprio - Once Upon a Time In... Hollywood</li>\n",
        "                     <li>Adam Driver - Marriage Story</li>\n",
        "                     <li class=\"winner\">Joaquin Phoenix - Joker <strong>[WINNER]</strong></li>\n",
        "                     <li>Jonathan Price - The Two Popes</li>\n",
        "                 </ul>\n",
        "             </div>\n",
        "             <br>\n",
        "             <div class=\"best-actress-category\">\n",
        "                 <h2>Category: best actress</h2>\n",
        "                 <ul>\n",
        "                     <li>Cythia Erivo - Harriet</li>\n",
        "                     <li>Scarlett Johansson - Marriage Story</li>\n",
        "                     <li>Saoirse Ronan - Little Women</li>\n",
        "                     <li>Charlize Theron - The Scandal</li>\n",
        "                     <li class=\"winner\">Renée Zellweger - Judy: Far Over the Rainbow <strong>[WINNER]</strong></li>\n",
        "                 </ul>\n",
        "             </div>\n",
        "         </div>\n",
        "     </body>\n",
        "</html>\"\"\""
      ]
    },
    {
      "cell_type": "code",
      "execution_count": null,
      "metadata": {
        "id": "DXvA5Pm90rDI"
      },
      "outputs": [],
      "source": [
        "soup = BeautifulSoup(html, 'html.parser')"
      ]
    },
    {
      "cell_type": "code",
      "execution_count": null,
      "metadata": {
        "id": "vnhltGIb0rDJ",
        "outputId": "53855aeb-3654-4f82-d43e-70eb18e18fa0"
      },
      "outputs": [
        {
          "name": "stdout",
          "output_type": "stream",
          "text": [
            "<html>\n",
            " <head>\n",
            "  <title>\n",
            "   2020 Oscar nominees and winners\n",
            "  </title>\n",
            " </head>\n",
            " <body>\n",
            "  <h1>\n",
            "   Oscars 2020\n",
            "  </h1>\n",
            "  <p>\n",
            "   The biggest cinema awards ceremony took place in February. This year's highlights were:\n",
            "  </p>\n",
            "  <ul class=\"highlights\">\n",
            "   <li>\n",
            "    Joker\n",
            "   </li>\n",
            "   <li>\n",
            "    1917\n",
            "   </li>\n",
            "   <li>\n",
            "    Once Upon a Time in Hollywood\n",
            "   </li>\n",
            "   <li>\n",
            "    The Irishman\n",
            "   </li>\n",
            "  </ul>\n",
            "  <p>\n",
            "   See the winners of 3 categories below.\n",
            "  </p>\n",
            "  <div>\n",
            "   <div class=\"best-film-category\">\n",
            "    <h2>\n",
            "     Category: best film\n",
            "    </h2>\n",
            "    <ul>\n",
            "     <li>\n",
            "      Ford vs Ferrari\n",
            "     </li>\n",
            "     <li>\n",
            "      The Irishman\n",
            "     </li>\n",
            "     <li>\n",
            "      JoJo Rabbit\n",
            "     </li>\n",
            "     <li>\n",
            "      Joker\n",
            "     </li>\n",
            "     <li>\n",
            "      Little Women\n",
            "     </li>\n",
            "     <li>\n",
            "      Marriage Story\n",
            "     </li>\n",
            "     <li>\n",
            "      1917\n",
            "     </li>\n",
            "     <li>\n",
            "      Once Upon a Time in Hollywood\n",
            "     </li>\n",
            "     <li class=\"winner\">\n",
            "      Parasite\n",
            "      <strong>\n",
            "       [WINNER]\n",
            "      </strong>\n",
            "     </li>\n",
            "    </ul>\n",
            "   </div>\n",
            "   <br/>\n",
            "   <div class=\"best-actor-category\">\n",
            "    <h2>\n",
            "     Category: best actor\n",
            "    </h2>\n",
            "    <ul>\n",
            "     <li>\n",
            "      Antonio Banderas - Pain and Glory\n",
            "     </li>\n",
            "     <li>\n",
            "      Leonardo DiCaprio - Once Upon a Time In... Hollywood\n",
            "     </li>\n",
            "     <li>\n",
            "      Adam Driver - Marriage Story\n",
            "     </li>\n",
            "     <li class=\"winner\">\n",
            "      Joaquin Phoenix - Joker\n",
            "      <strong>\n",
            "       [WINNER]\n",
            "      </strong>\n",
            "     </li>\n",
            "     <li>\n",
            "      Jonathan Price - The Two Popes\n",
            "     </li>\n",
            "    </ul>\n",
            "   </div>\n",
            "   <br/>\n",
            "   <div class=\"best-actress-category\">\n",
            "    <h2>\n",
            "     Category: best actress\n",
            "    </h2>\n",
            "    <ul>\n",
            "     <li>\n",
            "      Cythia Erivo - Harriet\n",
            "     </li>\n",
            "     <li>\n",
            "      Scarlett Johansson - Marriage Story\n",
            "     </li>\n",
            "     <li>\n",
            "      Saoirse Ronan - Little Women\n",
            "     </li>\n",
            "     <li>\n",
            "      Charlize Theron - The Scandal\n",
            "     </li>\n",
            "     <li class=\"winner\">\n",
            "      Renée Zellweger - Judy: Far Over the Rainbow\n",
            "      <strong>\n",
            "       [WINNER]\n",
            "      </strong>\n",
            "     </li>\n",
            "    </ul>\n",
            "   </div>\n",
            "  </div>\n",
            " </body>\n",
            "</html>\n",
            "\n"
          ]
        }
      ],
      "source": [
        "print(soup.prettify())"
      ]
    },
    {
      "cell_type": "code",
      "execution_count": null,
      "metadata": {
        "id": "gsT8NbqY0rDK",
        "outputId": "eb3af892-277a-4ce4-834a-8ee033a26c7f"
      },
      "outputs": [
        {
          "name": "stdout",
          "output_type": "stream",
          "text": [
            "<title>2020 Oscar nominees and winners</title>\n"
          ]
        }
      ],
      "source": [
        "print(soup.title)"
      ]
    },
    {
      "cell_type": "code",
      "execution_count": null,
      "metadata": {
        "id": "tr6-ikkR0rDL",
        "outputId": "3a3e2a13-c9fa-4891-b22a-b1f75d363ec1"
      },
      "outputs": [
        {
          "name": "stdout",
          "output_type": "stream",
          "text": [
            "2020 Oscar nominees and winners\n"
          ]
        }
      ],
      "source": [
        "print(soup.title.get_text())"
      ]
    },
    {
      "cell_type": "code",
      "execution_count": null,
      "metadata": {
        "id": "pKV38XAI0rDL",
        "outputId": "757dd008-f4bc-4546-a842-46fc604d5fea"
      },
      "outputs": [
        {
          "name": "stdout",
          "output_type": "stream",
          "text": [
            "None\n"
          ]
        }
      ],
      "source": [
        "print(soup.h3)"
      ]
    },
    {
      "cell_type": "code",
      "execution_count": null,
      "metadata": {
        "id": "87RE7lvl0rDM",
        "outputId": "9bd5842a-1244-4066-aa0c-2852838b9a24"
      },
      "outputs": [
        {
          "name": "stdout",
          "output_type": "stream",
          "text": [
            "<li>Joker</li>\n"
          ]
        }
      ],
      "source": [
        "print(soup.ul.li)"
      ]
    },
    {
      "cell_type": "code",
      "execution_count": null,
      "metadata": {
        "id": "eIJyBXp50rDN"
      },
      "outputs": [],
      "source": [
        "h2 = soup.find_all(\"h2\")"
      ]
    },
    {
      "cell_type": "code",
      "execution_count": null,
      "metadata": {
        "id": "UlChqBu90rDO",
        "outputId": "191b9c81-3be5-4466-8db1-e5b3283a5e3c"
      },
      "outputs": [
        {
          "data": {
            "text/plain": [
              "[<h2>Category: best film</h2>,\n",
              " <h2>Category: best actor</h2>,\n",
              " <h2>Category: best actress</h2>]"
            ]
          },
          "execution_count": 26,
          "metadata": {},
          "output_type": "execute_result"
        }
      ],
      "source": [
        "h2"
      ]
    },
    {
      "cell_type": "code",
      "execution_count": null,
      "metadata": {
        "id": "sGIpGHLY0rDO",
        "outputId": "11913778-84b5-4414-a6ce-7f500ecce9b4"
      },
      "outputs": [
        {
          "data": {
            "text/plain": [
              "[<li>Joker</li>,\n",
              " <li>1917</li>,\n",
              " <li>Once Upon a Time in Hollywood</li>,\n",
              " <li>The Irishman</li>,\n",
              " <h2>Category: best film</h2>,\n",
              " <li>Ford vs Ferrari</li>,\n",
              " <li>The Irishman</li>,\n",
              " <li>JoJo Rabbit</li>,\n",
              " <li>Joker</li>,\n",
              " <li>Little Women</li>,\n",
              " <li>Marriage Story</li>,\n",
              " <li>1917</li>,\n",
              " <li>Once Upon a Time in Hollywood</li>,\n",
              " <li class=\"winner\">Parasite <strong>[WINNER]</strong></li>,\n",
              " <h2>Category: best actor</h2>,\n",
              " <li>Antonio Banderas - Pain and Glory</li>,\n",
              " <li>Leonardo DiCaprio - Once Upon a Time In... Hollywood</li>,\n",
              " <li>Adam Driver - Marriage Story</li>,\n",
              " <li class=\"winner\">Joaquin Phoenix - Joker <strong>[WINNER]</strong></li>,\n",
              " <li>Jonathan Price - The Two Popes</li>,\n",
              " <h2>Category: best actress</h2>,\n",
              " <li>Cythia Erivo - Harriet</li>,\n",
              " <li>Scarlett Johansson - Marriage Story</li>,\n",
              " <li>Saoirse Ronan - Little Women</li>,\n",
              " <li>Charlize Theron - The Scandal</li>,\n",
              " <li class=\"winner\">Renée Zellweger - Judy: Far Over the Rainbow <strong>[WINNER]</strong></li>]"
            ]
          },
          "execution_count": 27,
          "metadata": {},
          "output_type": "execute_result"
        }
      ],
      "source": [
        "soup.find_all([\"h2\", \"li\"])"
      ]
    },
    {
      "cell_type": "code",
      "execution_count": null,
      "metadata": {
        "id": "nZS5UH2B0rDP",
        "outputId": "0748bcab-c170-4283-9a26-9cc692fd95e0"
      },
      "outputs": [
        {
          "name": "stderr",
          "output_type": "stream",
          "text": [
            "C:\\Users\\COM\\AppData\\Local\\Temp\\ipykernel_16240\\335918586.py:1: DeprecationWarning: The 'text' argument to find()-type methods is deprecated. Use 'string' instead.\n",
            "  soup.find_all('li', text=\"Scarlett Johansson - Marriage Story\")\n"
          ]
        },
        {
          "data": {
            "text/plain": [
              "[<li>Scarlett Johansson - Marriage Story</li>]"
            ]
          },
          "execution_count": 29,
          "metadata": {},
          "output_type": "execute_result"
        }
      ],
      "source": [
        "soup.find_all('li', text=\"Scarlett Johansson - Marriage Story\")"
      ]
    },
    {
      "cell_type": "code",
      "execution_count": null,
      "metadata": {
        "id": "SEolMucD0rDP",
        "outputId": "289b6d6e-3473-4573-b842-408f78b60655"
      },
      "outputs": [
        {
          "data": {
            "text/plain": [
              "[<li>Cythia Erivo - Harriet</li>,\n",
              " <li>Scarlett Johansson - Marriage Story</li>,\n",
              " <li>Saoirse Ronan - Little Women</li>,\n",
              " <li>Charlize Theron - The Scandal</li>,\n",
              " <li class=\"winner\">Renée Zellweger - Judy: Far Over the Rainbow <strong>[WINNER]</strong></li>]"
            ]
          },
          "execution_count": 34,
          "metadata": {},
          "output_type": "execute_result"
        }
      ],
      "source": [
        "soup.find_all(class_='best-actress-category')[0].find_all('li')"
      ]
    },
    {
      "cell_type": "code",
      "execution_count": null,
      "metadata": {
        "id": "Cbnsr-gU0rDQ",
        "outputId": "970cd338-453d-4451-9713-ea2d6e30e8a5"
      },
      "outputs": [
        {
          "data": {
            "text/plain": [
              "<li>Cythia Erivo - Harriet</li>"
            ]
          },
          "execution_count": 35,
          "metadata": {},
          "output_type": "execute_result"
        }
      ],
      "source": [
        "first_actress = soup.find_all(class_='best-actress-category')[0].find_all('li')[0]\n",
        "first_actress"
      ]
    },
    {
      "cell_type": "code",
      "execution_count": null,
      "metadata": {
        "id": "D7UFe6i90rDQ",
        "outputId": "c6b383d1-2a8d-4fca-cb23-ae0ec31f3ead"
      },
      "outputs": [
        {
          "data": {
            "text/plain": [
              "'li'"
            ]
          },
          "execution_count": 41,
          "metadata": {},
          "output_type": "execute_result"
        }
      ],
      "source": [
        "first_actress.name"
      ]
    },
    {
      "cell_type": "code",
      "execution_count": null,
      "metadata": {
        "id": "hp8oelIf0rDR",
        "outputId": "ca9d851a-0236-459f-da4d-31c1712322c6"
      },
      "outputs": [
        {
          "name": "stdout",
          "output_type": "stream",
          "text": [
            "<!doctype html>\n",
            "<html lang=\"en\">\n",
            "  <head>\n",
            "    <meta charset=\"utf-8\">\n",
            "    <title>Countries of the Wor\n"
          ]
        }
      ],
      "source": [
        "import requests\n",
        "response = requests.get(\"https://www.scrapethissite.com/pages/simple/\")\n",
        "print(response.text[:100])\n",
        "websoup = BeautifulSoup(response.text, 'html.parser')"
      ]
    },
    {
      "cell_type": "code",
      "execution_count": null,
      "metadata": {
        "id": "6YHL6ONr0rDR"
      },
      "outputs": [],
      "source": [
        "websoup = BeautifulSoup(response.text, 'html.parser')"
      ]
    },
    {
      "cell_type": "code",
      "execution_count": null,
      "metadata": {
        "id": "PdB1XtTV0rDR",
        "outputId": "f7934727-7b22-4866-978d-2c23b6a7c5e7"
      },
      "outputs": [
        {
          "data": {
            "text/plain": [
              "<title>Countries of the World: A Simple Example | Scrape This Site | A public sandbox for learning web scraping</title>"
            ]
          },
          "execution_count": 45,
          "metadata": {},
          "output_type": "execute_result"
        }
      ],
      "source": [
        "websoup.title"
      ]
    },
    {
      "cell_type": "code",
      "execution_count": null,
      "metadata": {
        "id": "BRdv28FV0rDR"
      },
      "outputs": [],
      "source": [
        "countries = websoup.find_all(class_=\"country-name\")"
      ]
    },
    {
      "cell_type": "code",
      "execution_count": null,
      "metadata": {
        "id": "jsVs9vzC0rDS"
      },
      "outputs": [],
      "source": [
        "countries = [country.get_text().strip() for country in countries]"
      ]
    },
    {
      "cell_type": "code",
      "execution_count": null,
      "metadata": {
        "id": "bSQtw7wZ0rDS",
        "outputId": "d8d2f8c2-baa7-47e6-f40b-b3de7e1839cd"
      },
      "outputs": [
        {
          "data": {
            "text/plain": [
              "['Andorra',\n",
              " 'United Arab Emirates',\n",
              " 'Afghanistan',\n",
              " 'Antigua and Barbuda',\n",
              " 'Anguilla']"
            ]
          },
          "execution_count": 54,
          "metadata": {},
          "output_type": "execute_result"
        }
      ],
      "source": [
        "countries[:5]"
      ]
    },
    {
      "cell_type": "code",
      "execution_count": null,
      "metadata": {
        "id": "Tp_ozalw0rDS"
      },
      "outputs": [],
      "source": [
        "import pandas as pd\n"
      ]
    },
    {
      "cell_type": "code",
      "execution_count": null,
      "metadata": {
        "id": "HTY-jglM0rDS"
      },
      "outputs": [],
      "source": [
        "capitals = websoup.find_all(class_=\"country-capital\")\n",
        "capitals = [capital.get_text().strip() for capital in capitals]"
      ]
    },
    {
      "cell_type": "code",
      "execution_count": null,
      "metadata": {
        "id": "xceol3aH0rDS",
        "outputId": "e6c60dca-6a31-4846-c183-42cb38c9c47f"
      },
      "outputs": [
        {
          "data": {
            "text/plain": [
              "['Andorra la Vella', 'Abu Dhabi', 'Kabul', \"St. John's\", 'The Valley']"
            ]
          },
          "execution_count": 57,
          "metadata": {},
          "output_type": "execute_result"
        }
      ],
      "source": [
        "capitals[:5]"
      ]
    },
    {
      "cell_type": "code",
      "execution_count": null,
      "metadata": {
        "id": "bkyiZZQS0rDT"
      },
      "outputs": [],
      "source": [
        "populations = websoup.find_all(class_=\"country-population\")\n",
        "populations = [population.get_text().strip() for population in populations]"
      ]
    },
    {
      "cell_type": "code",
      "execution_count": null,
      "metadata": {
        "id": "DG1oAhqK0rDT",
        "outputId": "b727f559-2cbb-4e1c-9a8d-a7d48a212e69"
      },
      "outputs": [
        {
          "data": {
            "text/plain": [
              "['84000', '4975593', '29121286', '86754', '13254']"
            ]
          },
          "execution_count": 59,
          "metadata": {},
          "output_type": "execute_result"
        }
      ],
      "source": [
        "populations[:5]"
      ]
    },
    {
      "cell_type": "code",
      "execution_count": null,
      "metadata": {
        "id": "EBDwHtNJ0rDT"
      },
      "outputs": [],
      "source": [
        "areas = websoup.find_all(class_=\"country-area\")\n",
        "areas = [area.get_text().strip() for area in areas]"
      ]
    },
    {
      "cell_type": "code",
      "execution_count": null,
      "metadata": {
        "id": "E5jG8gRM0rDT"
      },
      "outputs": [],
      "source": [
        "data = pd.DataFrame({\n",
        "    \"Country\": countries,\n",
        "    \"Capital\": capitals,\n",
        "    \"Population\": populations,\n",
        "    \"Area\": areas\n",
        "})"
      ]
    },
    {
      "cell_type": "code",
      "execution_count": null,
      "metadata": {
        "id": "1P4j1RVL0rDT",
        "outputId": "d75bdfb6-49c7-4e18-8cbb-a6ac407391fa"
      },
      "outputs": [
        {
          "data": {
            "text/html": [
              "<div>\n",
              "<style scoped>\n",
              "    .dataframe tbody tr th:only-of-type {\n",
              "        vertical-align: middle;\n",
              "    }\n",
              "\n",
              "    .dataframe tbody tr th {\n",
              "        vertical-align: top;\n",
              "    }\n",
              "\n",
              "    .dataframe thead th {\n",
              "        text-align: right;\n",
              "    }\n",
              "</style>\n",
              "<table border=\"1\" class=\"dataframe\">\n",
              "  <thead>\n",
              "    <tr style=\"text-align: right;\">\n",
              "      <th></th>\n",
              "      <th>Country</th>\n",
              "      <th>Capital</th>\n",
              "      <th>Population</th>\n",
              "      <th>Area</th>\n",
              "    </tr>\n",
              "  </thead>\n",
              "  <tbody>\n",
              "    <tr>\n",
              "      <th>0</th>\n",
              "      <td>Andorra</td>\n",
              "      <td>Andorra la Vella</td>\n",
              "      <td>84000</td>\n",
              "      <td>468.0</td>\n",
              "    </tr>\n",
              "    <tr>\n",
              "      <th>1</th>\n",
              "      <td>United Arab Emirates</td>\n",
              "      <td>Abu Dhabi</td>\n",
              "      <td>4975593</td>\n",
              "      <td>82880.0</td>\n",
              "    </tr>\n",
              "    <tr>\n",
              "      <th>2</th>\n",
              "      <td>Afghanistan</td>\n",
              "      <td>Kabul</td>\n",
              "      <td>29121286</td>\n",
              "      <td>647500.0</td>\n",
              "    </tr>\n",
              "    <tr>\n",
              "      <th>3</th>\n",
              "      <td>Antigua and Barbuda</td>\n",
              "      <td>St. John's</td>\n",
              "      <td>86754</td>\n",
              "      <td>443.0</td>\n",
              "    </tr>\n",
              "    <tr>\n",
              "      <th>4</th>\n",
              "      <td>Anguilla</td>\n",
              "      <td>The Valley</td>\n",
              "      <td>13254</td>\n",
              "      <td>102.0</td>\n",
              "    </tr>\n",
              "  </tbody>\n",
              "</table>\n",
              "</div>"
            ],
            "text/plain": [
              "                Country           Capital Population      Area\n",
              "0               Andorra  Andorra la Vella      84000     468.0\n",
              "1  United Arab Emirates         Abu Dhabi    4975593   82880.0\n",
              "2           Afghanistan             Kabul   29121286  647500.0\n",
              "3   Antigua and Barbuda        St. John's      86754     443.0\n",
              "4              Anguilla        The Valley      13254     102.0"
            ]
          },
          "execution_count": 62,
          "metadata": {},
          "output_type": "execute_result"
        }
      ],
      "source": [
        "data.head()"
      ]
    },
    {
      "cell_type": "code",
      "execution_count": null,
      "metadata": {
        "id": "jyiyUh3o0rDU"
      },
      "outputs": [],
      "source": []
    }
  ],
  "metadata": {
    "kernelspec": {
      "display_name": "Python 3",
      "language": "python",
      "name": "python3"
    },
    "language_info": {
      "codemirror_mode": {
        "name": "ipython",
        "version": 3
      },
      "file_extension": ".py",
      "mimetype": "text/x-python",
      "name": "python",
      "nbconvert_exporter": "python",
      "pygments_lexer": "ipython3",
      "version": "3.12.1"
    },
    "colab": {
      "provenance": []
    }
  },
  "nbformat": 4,
  "nbformat_minor": 0
}