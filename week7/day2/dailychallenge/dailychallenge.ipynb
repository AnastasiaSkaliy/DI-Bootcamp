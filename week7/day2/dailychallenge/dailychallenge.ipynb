{
 "cells": [
  {
   "cell_type": "code",
   "execution_count": 20,
   "metadata": {},
   "outputs": [],
   "source": [
    "from selenium import webdriver\n",
    "from selenium.webdriver.common.keys import Keys\n",
    "from selenium.webdriver.common.by import By\n",
    "from selenium.webdriver.support.ui import WebDriverWait\n",
    "from selenium.webdriver.support import expected_conditions as EC\n",
    "import pprint  # To tidy up\n",
    "from bs4 import BeautifulSoup\n",
    "import pandas as pd\n",
    "import time"
   ]
  },
  {
   "cell_type": "code",
   "execution_count": 21,
   "metadata": {},
   "outputs": [],
   "source": [
    "options = webdriver.ChromeOptions()\n",
    "options.add_argument('--headless')  # Run Chrome in headless mode\n",
    "options.add_argument(\"--no-sandbox\") \n",
    "driver = webdriver.Chrome(options=options)\n",
    "\n",
    "url = \"https://www.bbc.com/weather/293397\"\n",
    "driver.get(url)\n",
    "\n",
    "time.sleep(5)\n",
    "\n",
    "soup = BeautifulSoup(driver.page_source, 'html.parser')"
   ]
  },
  {
   "cell_type": "code",
   "execution_count": 22,
   "metadata": {},
   "outputs": [
    {
     "name": "stdout",
     "output_type": "stream",
     "text": [
      "<html class=\"b-reith-sans-font b-pw-1280 no-touch wr-enhanced wr-svg id-svg b-reith-sans-loaded bbcdotcom\" data-location-id=\"293397\" data-location-name=\"Tel%20Aviv\" data-wr-unit--temperature=\"c\" data-wr-unit--windspeed=\"mph\" id=\"weather-forecast\" lang=\"en\">\n",
      " <head>\n",
      "  <meta content=\"width=device-width, initial-scale=1, user-scalable=1\" name=\"viewport\"/>\n",
      "  <meta charset=\"utf-8\"/>\n",
      "  <meta content=\"IE\n"
     ]
    }
   ],
   "source": [
    "print(soup.prettify()[:400])"
   ]
  },
  {
   "cell_type": "code",
   "execution_count": 63,
   "metadata": {},
   "outputs": [
    {
     "name": "stdout",
     "output_type": "stream",
     "text": [
      "['Tonight', 'Tuesday\\xa09th\\xa0JanuaryTue\\xa09th', 'Wednesday\\xa010th\\xa0JanuaryWed\\xa010th', 'Thursday\\xa011th\\xa0JanuaryThu\\xa011th', 'Friday\\xa012th\\xa0JanuaryFri\\xa012th', 'Saturday\\xa013th\\xa0JanuarySat\\xa013th', 'Sunday\\xa014th\\xa0JanuarySun\\xa014th', 'Monday\\xa015th\\xa0JanuaryMon\\xa015th', 'Tuesday\\xa016th\\xa0JanuaryTue\\xa016th', 'Wednesday\\xa017th\\xa0JanuaryWed\\xa017th', 'Thursday\\xa018th\\xa0JanuaryThu\\xa018th', 'Friday\\xa019th\\xa0JanuaryFri\\xa019th', 'Saturday\\xa020th\\xa0JanuarySat\\xa020th', 'Sunday\\xa021st\\xa0JanuarySun\\xa021st']\n",
      "['Clear Sky', 'Sunny', 'Thundery Showers', 'Light Rain Showers', 'Light Rain Showers', 'Sunny', 'Light Rain Showers', 'Light Rain Showers', 'Sunny', 'Light Rain Showers', 'Sunny', 'Sunny', 'Sunny', 'Light Rain Showers']\n",
      "['21° 70°', '19° 67°', '18° 64°', '18° 65°', '20° 67°', '18° 65°', '16° 61°', '18° 64°', '19° 66°', '20° 68°', '20° 67°', '20° 68°', '20° 68°']\n",
      "['10° 50°', '11° 51°', '14° 57°', '14° 57°', '11° 52°', '12° 53°', '13° 55°', '10° 50°', '9° 48°', '11° 51°', '10° 50°', '10° 51°', '11° 51°', '10° 51°']\n",
      "['Wind speed5 mph8 km/h SE5 mph8 km/hSouth Easterly', 'Wind speed13 mph21 km/h SW13 mph21 km/hSouth Westerly', 'Wind speed18 mph29 km/h SW18 mph29 km/hSouth Westerly', 'Wind speed14 mph22 km/h W14 mph22 km/hWesterly', 'Wind speed15 mph24 km/h SW15 mph24 km/hSouth Westerly', 'Wind speed14 mph22 km/h SW14 mph22 km/hSouth Westerly', 'Wind speed21 mph33 km/h SW21 mph33 km/hSouth Westerly', 'Wind speed15 mph25 km/h SW15 mph25 km/hSouth Westerly', 'Wind speed9 mph14 km/h S9 mph14 km/hSoutherly', 'Wind speed10 mph16 km/h W10 mph16 km/hWesterly', 'Wind speed5 mph8 km/h SE5 mph8 km/hSouth Easterly', 'Wind speed6 mph9 km/h NW6 mph9 km/hNorth Westerly', 'Wind speed7 mph11 km/h W7 mph11 km/hWesterly', 'Wind speed7 mph12 km/h SW7 mph12 km/hSouth Westerly']\n"
     ]
    }
   ],
   "source": [
    "date = [item.get_text() for item in soup.find_all(class_='wr-day__title wr-js-day-content-title')]\n",
    "print(date)\n",
    "weather_type = [item.get_text() for item in soup.find_all(class_='wr-weather-type__text')][:len(date)]\n",
    "print(weather_type)\n",
    "max_temp = [item.get_text() for item in soup.find_all(class_='wr-day-temperature__high-value')][:len(date)]\n",
    "print(max_temp)\n",
    "min_temp = [item.get_text() for item in soup.find_all(class_='wr-day-temperature__low-value')][:len(date)]\n",
    "print(min_temp)\n",
    "wind_speed = [item.get_text() for item in soup.find_all(class_='wr-day__wind-speed')][:len(date)]\n",
    "print(wind_speed)\n"
   ]
  },
  {
   "cell_type": "code",
   "execution_count": 67,
   "metadata": {},
   "outputs": [],
   "source": [
    "if len(max_temp) < len(date):\n",
    "    max_temp.append('N/A')"
   ]
  },
  {
   "cell_type": "code",
   "execution_count": 91,
   "metadata": {},
   "outputs": [
    {
     "name": "stdout",
     "output_type": "stream",
     "text": [
      "14\n",
      "14\n",
      "14\n",
      "14\n",
      "14\n"
     ]
    }
   ],
   "source": [
    "print(len(date))\n",
    "print(len(weather_type))\n",
    "print(len(max_temp))\n",
    "print(len(min_temp))\n",
    "print(len(wind_speed))"
   ]
  },
  {
   "cell_type": "code",
   "execution_count": 124,
   "metadata": {},
   "outputs": [],
   "source": [
    "driver.quit()"
   ]
  },
  {
   "cell_type": "code",
   "execution_count": 125,
   "metadata": {},
   "outputs": [
    {
     "name": "stdout",
     "output_type": "stream",
     "text": [
      "                              Date        Weather Type Max Temperature  \\\n",
      "0                          Tonight           Clear Sky         21° 70°   \n",
      "1       Tuesday 9th JanuaryTue 9th               Sunny         19° 67°   \n",
      "2   Wednesday 10th JanuaryWed 10th    Thundery Showers         18° 64°   \n",
      "3    Thursday 11th JanuaryThu 11th  Light Rain Showers         18° 65°   \n",
      "4      Friday 12th JanuaryFri 12th  Light Rain Showers         20° 67°   \n",
      "5    Saturday 13th JanuarySat 13th               Sunny         18° 65°   \n",
      "6      Sunday 14th JanuarySun 14th  Light Rain Showers         16° 61°   \n",
      "7      Monday 15th JanuaryMon 15th  Light Rain Showers         18° 64°   \n",
      "8     Tuesday 16th JanuaryTue 16th               Sunny         19° 66°   \n",
      "9   Wednesday 17th JanuaryWed 17th  Light Rain Showers         20° 68°   \n",
      "10   Thursday 18th JanuaryThu 18th               Sunny         20° 67°   \n",
      "11     Friday 19th JanuaryFri 19th               Sunny         20° 68°   \n",
      "12   Saturday 20th JanuarySat 20th               Sunny         20° 68°   \n",
      "13     Sunday 21st JanuarySun 21st  Light Rain Showers             N/A   \n",
      "\n",
      "   Min Temperature                                         Wind Speed  \n",
      "0          10° 50°  Wind speed5 mph8 km/h SE5 mph8 km/hSouth Easterly  \n",
      "1          11° 51°  Wind speed13 mph21 km/h SW13 mph21 km/hSouth W...  \n",
      "2          14° 57°  Wind speed18 mph29 km/h SW18 mph29 km/hSouth W...  \n",
      "3          14° 57°     Wind speed14 mph22 km/h W14 mph22 km/hWesterly  \n",
      "4          11° 52°  Wind speed15 mph24 km/h SW15 mph24 km/hSouth W...  \n",
      "5          12° 53°  Wind speed14 mph22 km/h SW14 mph22 km/hSouth W...  \n",
      "6          13° 55°  Wind speed21 mph33 km/h SW21 mph33 km/hSouth W...  \n",
      "7          10° 50°  Wind speed15 mph25 km/h SW15 mph25 km/hSouth W...  \n",
      "8           9° 48°      Wind speed9 mph14 km/h S9 mph14 km/hSoutherly  \n",
      "9          11° 51°     Wind speed10 mph16 km/h W10 mph16 km/hWesterly  \n",
      "10         10° 50°  Wind speed5 mph8 km/h SE5 mph8 km/hSouth Easterly  \n",
      "11         10° 51°  Wind speed6 mph9 km/h NW6 mph9 km/hNorth Westerly  \n",
      "12         11° 51°       Wind speed7 mph11 km/h W7 mph11 km/hWesterly  \n",
      "13         10° 51°  Wind speed7 mph12 km/h SW7 mph12 km/hSouth Wes...  \n"
     ]
    }
   ],
   "source": [
    "weather_data = {\n",
    "    'Date': date,\n",
    "    'Weather Type': weather_type,\n",
    "    'Max Temperature': max_temp,\n",
    "    'Min Temperature': min_temp,\n",
    "    'Wind Speed': wind_speed\n",
    "}\n",
    "\n",
    "df = pd.DataFrame(weather_data)\n",
    "print(df)"
   ]
  },
  {
   "cell_type": "code",
   "execution_count": 126,
   "metadata": {},
   "outputs": [
    {
     "data": {
      "text/plain": [
       "Date               object\n",
       "Weather Type       object\n",
       "Max Temperature    object\n",
       "Min Temperature    object\n",
       "Wind Speed         object\n",
       "dtype: object"
      ]
     },
     "execution_count": 126,
     "metadata": {},
     "output_type": "execute_result"
    }
   ],
   "source": [
    "df.dtypes"
   ]
  },
  {
   "cell_type": "code",
   "execution_count": 127,
   "metadata": {},
   "outputs": [
    {
     "name": "stdout",
     "output_type": "stream",
     "text": [
      "                Date        Weather Type Max Temperature Min Temperature  \\\n",
      "0               None           Clear Sky         21° 70°         10° 50°   \n",
      "1    Tue, January, 9               Sunny         19° 67°         11° 51°   \n",
      "2   Wed, January, 10    Thundery Showers         18° 64°         14° 57°   \n",
      "3   Thu, January, 11  Light Rain Showers         18° 65°         14° 57°   \n",
      "4   Fri, January, 12  Light Rain Showers         20° 67°         11° 52°   \n",
      "5   Sat, January, 13               Sunny         18° 65°         12° 53°   \n",
      "6   Sun, January, 14  Light Rain Showers         16° 61°         13° 55°   \n",
      "7   Mon, January, 15  Light Rain Showers         18° 64°         10° 50°   \n",
      "8   Tue, January, 16               Sunny         19° 66°          9° 48°   \n",
      "9   Wed, January, 17  Light Rain Showers         20° 68°         11° 51°   \n",
      "10  Thu, January, 18               Sunny         20° 67°         10° 50°   \n",
      "11  Fri, January, 19               Sunny         20° 68°         10° 51°   \n",
      "12  Sat, January, 20               Sunny         20° 68°         11° 51°   \n",
      "13  Sun, January, 21  Light Rain Showers             N/A         10° 51°   \n",
      "\n",
      "                                           Wind Speed  \n",
      "0   Wind speed5 mph8 km/h SE5 mph8 km/hSouth Easterly  \n",
      "1   Wind speed13 mph21 km/h SW13 mph21 km/hSouth W...  \n",
      "2   Wind speed18 mph29 km/h SW18 mph29 km/hSouth W...  \n",
      "3      Wind speed14 mph22 km/h W14 mph22 km/hWesterly  \n",
      "4   Wind speed15 mph24 km/h SW15 mph24 km/hSouth W...  \n",
      "5   Wind speed14 mph22 km/h SW14 mph22 km/hSouth W...  \n",
      "6   Wind speed21 mph33 km/h SW21 mph33 km/hSouth W...  \n",
      "7   Wind speed15 mph25 km/h SW15 mph25 km/hSouth W...  \n",
      "8       Wind speed9 mph14 km/h S9 mph14 km/hSoutherly  \n",
      "9      Wind speed10 mph16 km/h W10 mph16 km/hWesterly  \n",
      "10  Wind speed5 mph8 km/h SE5 mph8 km/hSouth Easterly  \n",
      "11  Wind speed6 mph9 km/h NW6 mph9 km/hNorth Westerly  \n",
      "12       Wind speed7 mph11 km/h W7 mph11 km/hWesterly  \n",
      "13  Wind speed7 mph12 km/h SW7 mph12 km/hSouth Wes...  \n"
     ]
    }
   ],
   "source": [
    "def convert_date(date_string):\n",
    "    try:\n",
    "        # Split the string by spaces and remove 'th' or 'rd' from the day\n",
    "        parts = date_string.split()\n",
    "        day = parts[0][:3]\n",
    "        month = parts[2][:3]\n",
    "        numeric_day = parts[1][:-2]\n",
    "\n",
    "        # Dictionary mapping abbreviated month to full month name\n",
    "        month_mapping = {\n",
    "            'Jan': 'January',\n",
    "            'Feb': 'February',\n",
    "            'Mar': 'March',\n",
    "            'Apr': 'April',\n",
    "            'May': 'May',\n",
    "            'Jun': 'June',\n",
    "            'Jul': 'July',\n",
    "            'Aug': 'August',\n",
    "            'Sep': 'September',\n",
    "            'Oct': 'October',\n",
    "            'Nov': 'November',\n",
    "            'Dec': 'December'\n",
    "        }\n",
    "\n",
    "        # Get the full month name from the mapping\n",
    "        full_month = month_mapping.get(month)\n",
    "\n",
    "        return f\"{day}, {full_month}, {numeric_day}\"\n",
    "    except IndexError:\n",
    "        return None  # Return None for rows with unexpected formats\n",
    "\n",
    "# Apply the function to the 'Date' column\n",
    "df['Date'] = df['Date'].apply(convert_date)\n",
    "print(df)"
   ]
  },
  {
   "cell_type": "code",
   "execution_count": 137,
   "metadata": {},
   "outputs": [],
   "source": [
    "df.at[0, 'Date'] = 'Mon, January, 8' if pd.isnull(df.at[0, 'Date']) else df.at[0, 'Date']\n"
   ]
  },
  {
   "cell_type": "code",
   "execution_count": 138,
   "metadata": {},
   "outputs": [
    {
     "name": "stdout",
     "output_type": "stream",
     "text": [
      "                Date        Weather Type Max Temperature Min Temperature  \\\n",
      "0    Mon, January, 8           Clear Sky         21° 70°         10° 50°   \n",
      "1    Tue, January, 9               Sunny         19° 67°         11° 51°   \n",
      "2   Wed, January, 10    Thundery Showers         18° 64°         14° 57°   \n",
      "3   Thu, January, 11  Light Rain Showers         18° 65°         14° 57°   \n",
      "4   Fri, January, 12  Light Rain Showers         20° 67°         11° 52°   \n",
      "5   Sat, January, 13               Sunny         18° 65°         12° 53°   \n",
      "6   Sun, January, 14  Light Rain Showers         16° 61°         13° 55°   \n",
      "7   Mon, January, 15  Light Rain Showers         18° 64°         10° 50°   \n",
      "8   Tue, January, 16               Sunny         19° 66°          9° 48°   \n",
      "9   Wed, January, 17  Light Rain Showers         20° 68°         11° 51°   \n",
      "10  Thu, January, 18               Sunny         20° 67°         10° 50°   \n",
      "11  Fri, January, 19               Sunny         20° 68°         10° 51°   \n",
      "12  Sat, January, 20               Sunny         20° 68°         11° 51°   \n",
      "13  Sun, January, 21  Light Rain Showers             N/A         10° 51°   \n",
      "\n",
      "                                           Wind Speed  Max Celsius  \\\n",
      "0   Wind speed5 mph8 km/h SE5 mph8 km/hSouth Easterly         21.0   \n",
      "1   Wind speed13 mph21 km/h SW13 mph21 km/hSouth W...         19.0   \n",
      "2   Wind speed18 mph29 km/h SW18 mph29 km/hSouth W...         18.0   \n",
      "3      Wind speed14 mph22 km/h W14 mph22 km/hWesterly         18.0   \n",
      "4   Wind speed15 mph24 km/h SW15 mph24 km/hSouth W...         20.0   \n",
      "5   Wind speed14 mph22 km/h SW14 mph22 km/hSouth W...         18.0   \n",
      "6   Wind speed21 mph33 km/h SW21 mph33 km/hSouth W...         16.0   \n",
      "7   Wind speed15 mph25 km/h SW15 mph25 km/hSouth W...         18.0   \n",
      "8       Wind speed9 mph14 km/h S9 mph14 km/hSoutherly         19.0   \n",
      "9      Wind speed10 mph16 km/h W10 mph16 km/hWesterly         20.0   \n",
      "10  Wind speed5 mph8 km/h SE5 mph8 km/hSouth Easterly         20.0   \n",
      "11  Wind speed6 mph9 km/h NW6 mph9 km/hNorth Westerly         20.0   \n",
      "12       Wind speed7 mph11 km/h W7 mph11 km/hWesterly         20.0   \n",
      "13  Wind speed7 mph12 km/h SW7 mph12 km/hSouth Wes...          NaN   \n",
      "\n",
      "    Max Fahrenheit  Min Celsius  Min Fahrenheit  Wind Speed (in mph)  \n",
      "0             70.0           10              50                    8  \n",
      "1             67.0           11              51                   21  \n",
      "2             64.0           14              57                   29  \n",
      "3             65.0           14              57                   22  \n",
      "4             67.0           11              52                   24  \n",
      "5             65.0           12              53                   22  \n",
      "6             61.0           13              55                   33  \n",
      "7             64.0           10              50                   25  \n",
      "8             66.0            9              48                   14  \n",
      "9             68.0           11              51                   16  \n",
      "10            67.0           10              50                    8  \n",
      "11            68.0           10              51                    9  \n",
      "12            68.0           11              51                   11  \n",
      "13             NaN           10              51                   12  \n"
     ]
    }
   ],
   "source": [
    "print(df)"
   ]
  },
  {
   "cell_type": "code",
   "execution_count": 139,
   "metadata": {},
   "outputs": [],
   "source": [
    "#Split temperatures to Celsius and Fahrenheit\n",
    "def split_temperature(temperature_string):\n",
    "    try:\n",
    "        parts = temperature_string.split()\n",
    "        celsius = int(parts[0][:-1])  # Extract Celsius value (remove the degree symbol)\n",
    "        fahrenheit = int(parts[1][:-1])  # Extract Fahrenheit value (remove the degree symbol)\n",
    "        return celsius, fahrenheit\n",
    "    except (ValueError, IndexError):\n",
    "        return None, None \n",
    "\n",
    "df['Max Celsius'], df['Max Fahrenheit'] = zip(*df['Max Temperature'].apply(split_temperature))\n",
    "df['Min Celsius'], df['Min Fahrenheit'] = zip(*df['Min Temperature'].apply(split_temperature))"
   ]
  },
  {
   "cell_type": "code",
   "execution_count": 140,
   "metadata": {},
   "outputs": [],
   "source": [
    "#In column Wind speed extract only numbers:\n",
    "import re\n",
    "\n",
    "def extract_numbers(text):\n",
    "    num = re.search(r'\\bmph(\\d+)\\b', text)\n",
    "    return int(num.group(1)) if num else None\n",
    "df['Wind Speed (in mph)'] = df['Wind Speed'].apply(extract_numbers)"
   ]
  },
  {
   "cell_type": "code",
   "execution_count": 141,
   "metadata": {},
   "outputs": [
    {
     "data": {
      "text/html": [
       "<div>\n",
       "<style scoped>\n",
       "    .dataframe tbody tr th:only-of-type {\n",
       "        vertical-align: middle;\n",
       "    }\n",
       "\n",
       "    .dataframe tbody tr th {\n",
       "        vertical-align: top;\n",
       "    }\n",
       "\n",
       "    .dataframe thead th {\n",
       "        text-align: right;\n",
       "    }\n",
       "</style>\n",
       "<table border=\"1\" class=\"dataframe\">\n",
       "  <thead>\n",
       "    <tr style=\"text-align: right;\">\n",
       "      <th></th>\n",
       "      <th>Date</th>\n",
       "      <th>Weather Type</th>\n",
       "      <th>Max Temperature</th>\n",
       "      <th>Min Temperature</th>\n",
       "      <th>Wind Speed</th>\n",
       "      <th>Max Celsius</th>\n",
       "      <th>Max Fahrenheit</th>\n",
       "      <th>Min Celsius</th>\n",
       "      <th>Min Fahrenheit</th>\n",
       "      <th>Wind Speed (in mph)</th>\n",
       "    </tr>\n",
       "  </thead>\n",
       "  <tbody>\n",
       "    <tr>\n",
       "      <th>0</th>\n",
       "      <td>Mon, January, 8</td>\n",
       "      <td>Clear Sky</td>\n",
       "      <td>21° 70°</td>\n",
       "      <td>10° 50°</td>\n",
       "      <td>Wind speed5 mph8 km/h SE5 mph8 km/hSouth Easterly</td>\n",
       "      <td>21.0</td>\n",
       "      <td>70.0</td>\n",
       "      <td>10</td>\n",
       "      <td>50</td>\n",
       "      <td>8</td>\n",
       "    </tr>\n",
       "    <tr>\n",
       "      <th>1</th>\n",
       "      <td>Tue, January, 9</td>\n",
       "      <td>Sunny</td>\n",
       "      <td>19° 67°</td>\n",
       "      <td>11° 51°</td>\n",
       "      <td>Wind speed13 mph21 km/h SW13 mph21 km/hSouth W...</td>\n",
       "      <td>19.0</td>\n",
       "      <td>67.0</td>\n",
       "      <td>11</td>\n",
       "      <td>51</td>\n",
       "      <td>21</td>\n",
       "    </tr>\n",
       "    <tr>\n",
       "      <th>2</th>\n",
       "      <td>Wed, January, 10</td>\n",
       "      <td>Thundery Showers</td>\n",
       "      <td>18° 64°</td>\n",
       "      <td>14° 57°</td>\n",
       "      <td>Wind speed18 mph29 km/h SW18 mph29 km/hSouth W...</td>\n",
       "      <td>18.0</td>\n",
       "      <td>64.0</td>\n",
       "      <td>14</td>\n",
       "      <td>57</td>\n",
       "      <td>29</td>\n",
       "    </tr>\n",
       "    <tr>\n",
       "      <th>3</th>\n",
       "      <td>Thu, January, 11</td>\n",
       "      <td>Light Rain Showers</td>\n",
       "      <td>18° 65°</td>\n",
       "      <td>14° 57°</td>\n",
       "      <td>Wind speed14 mph22 km/h W14 mph22 km/hWesterly</td>\n",
       "      <td>18.0</td>\n",
       "      <td>65.0</td>\n",
       "      <td>14</td>\n",
       "      <td>57</td>\n",
       "      <td>22</td>\n",
       "    </tr>\n",
       "    <tr>\n",
       "      <th>4</th>\n",
       "      <td>Fri, January, 12</td>\n",
       "      <td>Light Rain Showers</td>\n",
       "      <td>20° 67°</td>\n",
       "      <td>11° 52°</td>\n",
       "      <td>Wind speed15 mph24 km/h SW15 mph24 km/hSouth W...</td>\n",
       "      <td>20.0</td>\n",
       "      <td>67.0</td>\n",
       "      <td>11</td>\n",
       "      <td>52</td>\n",
       "      <td>24</td>\n",
       "    </tr>\n",
       "  </tbody>\n",
       "</table>\n",
       "</div>"
      ],
      "text/plain": [
       "               Date        Weather Type Max Temperature Min Temperature  \\\n",
       "0   Mon, January, 8           Clear Sky         21° 70°         10° 50°   \n",
       "1   Tue, January, 9               Sunny         19° 67°         11° 51°   \n",
       "2  Wed, January, 10    Thundery Showers         18° 64°         14° 57°   \n",
       "3  Thu, January, 11  Light Rain Showers         18° 65°         14° 57°   \n",
       "4  Fri, January, 12  Light Rain Showers         20° 67°         11° 52°   \n",
       "\n",
       "                                          Wind Speed  Max Celsius  \\\n",
       "0  Wind speed5 mph8 km/h SE5 mph8 km/hSouth Easterly         21.0   \n",
       "1  Wind speed13 mph21 km/h SW13 mph21 km/hSouth W...         19.0   \n",
       "2  Wind speed18 mph29 km/h SW18 mph29 km/hSouth W...         18.0   \n",
       "3     Wind speed14 mph22 km/h W14 mph22 km/hWesterly         18.0   \n",
       "4  Wind speed15 mph24 km/h SW15 mph24 km/hSouth W...         20.0   \n",
       "\n",
       "   Max Fahrenheit  Min Celsius  Min Fahrenheit  Wind Speed (in mph)  \n",
       "0            70.0           10              50                    8  \n",
       "1            67.0           11              51                   21  \n",
       "2            64.0           14              57                   29  \n",
       "3            65.0           14              57                   22  \n",
       "4            67.0           11              52                   24  "
      ]
     },
     "execution_count": 141,
     "metadata": {},
     "output_type": "execute_result"
    }
   ],
   "source": [
    "df.head()"
   ]
  },
  {
   "cell_type": "code",
   "execution_count": 142,
   "metadata": {},
   "outputs": [
    {
     "data": {
      "text/html": [
       "<div>\n",
       "<style scoped>\n",
       "    .dataframe tbody tr th:only-of-type {\n",
       "        vertical-align: middle;\n",
       "    }\n",
       "\n",
       "    .dataframe tbody tr th {\n",
       "        vertical-align: top;\n",
       "    }\n",
       "\n",
       "    .dataframe thead th {\n",
       "        text-align: right;\n",
       "    }\n",
       "</style>\n",
       "<table border=\"1\" class=\"dataframe\">\n",
       "  <thead>\n",
       "    <tr style=\"text-align: right;\">\n",
       "      <th></th>\n",
       "      <th>Max Celsius</th>\n",
       "      <th>Max Fahrenheit</th>\n",
       "      <th>Min Celsius</th>\n",
       "      <th>Min Fahrenheit</th>\n",
       "      <th>Wind Speed (in mph)</th>\n",
       "    </tr>\n",
       "  </thead>\n",
       "  <tbody>\n",
       "    <tr>\n",
       "      <th>count</th>\n",
       "      <td>13.000000</td>\n",
       "      <td>13.000000</td>\n",
       "      <td>14.000000</td>\n",
       "      <td>14.000000</td>\n",
       "      <td>14.000000</td>\n",
       "    </tr>\n",
       "    <tr>\n",
       "      <th>mean</th>\n",
       "      <td>19.000000</td>\n",
       "      <td>66.153846</td>\n",
       "      <td>11.142857</td>\n",
       "      <td>51.928571</td>\n",
       "      <td>18.142857</td>\n",
       "    </tr>\n",
       "    <tr>\n",
       "      <th>std</th>\n",
       "      <td>1.354006</td>\n",
       "      <td>2.339735</td>\n",
       "      <td>1.561909</td>\n",
       "      <td>2.673640</td>\n",
       "      <td>8.122686</td>\n",
       "    </tr>\n",
       "    <tr>\n",
       "      <th>min</th>\n",
       "      <td>16.000000</td>\n",
       "      <td>61.000000</td>\n",
       "      <td>9.000000</td>\n",
       "      <td>48.000000</td>\n",
       "      <td>8.000000</td>\n",
       "    </tr>\n",
       "    <tr>\n",
       "      <th>25%</th>\n",
       "      <td>18.000000</td>\n",
       "      <td>65.000000</td>\n",
       "      <td>10.000000</td>\n",
       "      <td>50.250000</td>\n",
       "      <td>11.250000</td>\n",
       "    </tr>\n",
       "    <tr>\n",
       "      <th>50%</th>\n",
       "      <td>19.000000</td>\n",
       "      <td>67.000000</td>\n",
       "      <td>11.000000</td>\n",
       "      <td>51.000000</td>\n",
       "      <td>18.500000</td>\n",
       "    </tr>\n",
       "    <tr>\n",
       "      <th>75%</th>\n",
       "      <td>20.000000</td>\n",
       "      <td>68.000000</td>\n",
       "      <td>11.750000</td>\n",
       "      <td>52.750000</td>\n",
       "      <td>23.500000</td>\n",
       "    </tr>\n",
       "    <tr>\n",
       "      <th>max</th>\n",
       "      <td>21.000000</td>\n",
       "      <td>70.000000</td>\n",
       "      <td>14.000000</td>\n",
       "      <td>57.000000</td>\n",
       "      <td>33.000000</td>\n",
       "    </tr>\n",
       "  </tbody>\n",
       "</table>\n",
       "</div>"
      ],
      "text/plain": [
       "       Max Celsius  Max Fahrenheit  Min Celsius  Min Fahrenheit  \\\n",
       "count    13.000000       13.000000    14.000000       14.000000   \n",
       "mean     19.000000       66.153846    11.142857       51.928571   \n",
       "std       1.354006        2.339735     1.561909        2.673640   \n",
       "min      16.000000       61.000000     9.000000       48.000000   \n",
       "25%      18.000000       65.000000    10.000000       50.250000   \n",
       "50%      19.000000       67.000000    11.000000       51.000000   \n",
       "75%      20.000000       68.000000    11.750000       52.750000   \n",
       "max      21.000000       70.000000    14.000000       57.000000   \n",
       "\n",
       "       Wind Speed (in mph)  \n",
       "count            14.000000  \n",
       "mean             18.142857  \n",
       "std               8.122686  \n",
       "min               8.000000  \n",
       "25%              11.250000  \n",
       "50%              18.500000  \n",
       "75%              23.500000  \n",
       "max              33.000000  "
      ]
     },
     "execution_count": 142,
     "metadata": {},
     "output_type": "execute_result"
    }
   ],
   "source": [
    "df.describe()"
   ]
  },
  {
   "cell_type": "code",
   "execution_count": 145,
   "metadata": {},
   "outputs": [
    {
     "data": {
      "image/png": "[encoded data removed]",
      "text/plain": [
       "<Figure size 1000x600 with 1 Axes>"
      ]
     },
     "metadata": {},
     "output_type": "display_data"
    }
   ],
   "source": [
    "import matplotlib.pyplot as plt\n",
    "import seaborn as sns\n",
    "\n",
    "\n",
    "plt.figure(figsize=(10, 6))\n",
    "\n",
    "sns.lineplot(x='Date', y='Max Celsius', data=df, marker='o', label='Max Temperature')\n",
    "sns.lineplot(x='Date', y='Min Celsius', data=df, marker='o', label='Min Temperature')\n",
    "\n",
    "\n",
    "plt.title('Max and Min Temperatures Over Time')\n",
    "plt.xlabel('Date')\n",
    "plt.ylabel('Temperature (°C)')\n",
    "\n",
    "\n",
    "plt.legend()\n",
    "plt.xticks(rotation=45)\n",
    "plt.tight_layout()\n",
    "plt.show()"
   ]
  },
  {
   "cell_type": "code",
   "execution_count": null,
   "metadata": {},
   "outputs": [],
   "source": [
    "#Let's check how wind speed depends on minimal temperature"
   ]
  },
  {
   "cell_type": "code",
   "execution_count": 146,
   "metadata": {},
   "outputs": [
    {
     "data": {
      "image/png": "[encoded data removed]",
      "text/plain": [
       "<Figure size 800x600 with 1 Axes>"
      ]
     },
     "metadata": {},
     "output_type": "display_data"
    }
   ],
   "source": [
    "plt.figure(figsize=(8, 6))\n",
    "plt.scatter(df['Min Celsius'], df['Wind Speed (in mph)'], color='blue', alpha=0.7)\n",
    "\n",
    "plt.title('Wind Speed vs Min Celsius')\n",
    "plt.xlabel('Min Celsius')\n",
    "plt.ylabel('Wind Speed (in mph)')\n",
    "\n",
    "plt.grid(True)\n",
    "plt.show()"
   ]
  }
 ],
 "metadata": {
  "kernelspec": {
   "display_name": "Python 3",
   "language": "python",
   "name": "python3"
  },
  "language_info": {
   "codemirror_mode": {
    "name": "ipython",
    "version": 3
   },
   "file_extension": ".py",
   "mimetype": "text/x-python",
   "name": "python",
   "nbconvert_exporter": "python",
   "pygments_lexer": "ipython3",
   "version": "3.12.0"
  }
 },
 "nbformat": 4,
 "nbformat_minor": 2
}
