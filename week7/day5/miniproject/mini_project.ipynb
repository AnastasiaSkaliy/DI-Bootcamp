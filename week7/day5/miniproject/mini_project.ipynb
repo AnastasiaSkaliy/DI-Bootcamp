{
 "cells": [
  {
   "cell_type": "code",
   "execution_count": 32,
   "metadata": {},
   "outputs": [],
   "source": [
    "from selenium import webdriver\n",
    "from selenium.webdriver.common.keys import Keys\n",
    "from selenium.webdriver.common.by import By\n",
    "from selenium.webdriver.support.ui import WebDriverWait\n",
    "from selenium.webdriver.support import expected_conditions as EC\n",
    "import pprint  # To tidy up\n",
    "from bs4 import BeautifulSoup\n",
    "import pandas as pd"
   ]
  },
  {
   "cell_type": "code",
   "execution_count": 33,
   "metadata": {},
   "outputs": [],
   "source": [
    "options = webdriver.ChromeOptions()\n",
    "options.add_argument('--headless')  # Run Chrome in headless mode\n",
    "options.add_argument(\"--no-sandbox\") \n",
    "driver = webdriver.Chrome(options=options)\n",
    "\n",
    "url = \"https://www.inmotionhosting.com/\"\n",
    "driver.get(url)\n",
    "driver.implicitly_wait(10)\n",
    "\n",
    "soup = BeautifulSoup(driver.page_source, 'html.parser')"
   ]
  },
  {
   "cell_type": "code",
   "execution_count": 34,
   "metadata": {},
   "outputs": [
    {
     "name": "stdout",
     "output_type": "stream",
     "text": [
      "<html lang=\"en-US\">\n",
      " <head>\n",
      "  <meta charset=\"utf-8\"/>\n",
      "  <meta content=\"width=device-width, initial-scale=1\" name=\"viewport\"/>\n",
      "  <link href=\"https://gmpg.org/xfn/11\" rel=\"profile\"/>\n",
      "  <meta charset=\"utf-8\"/>\n",
      "  <meta content=\"width=device-width, initial-scale=1\" name=\"viewport\"/>\n",
      "  <link href=\"https://design.inmotionhosting.com\" rel=\"preconnect\"/>\n",
      "  <link href=\"https://logx.optimizely.com\" rel=\"prec\n"
     ]
    }
   ],
   "source": [
    "print(soup.prettify()[:400])"
   ]
  },
  {
   "cell_type": "code",
   "execution_count": 35,
   "metadata": {},
   "outputs": [
    {
     "name": "stdout",
     "output_type": "stream",
     "text": [
      "['Shared Hosting', 'VPS Hosting', 'Dedicated Hosting', 'cPanel WordPress', 'Platform i Cloud', 'Shared Hosting', 'WordPress Hosting', 'VPS Hosting', 'Dedicated Hosting']\n",
      "['Cost effective and fast for small businesses', 'For high traffic sites and larger businesses', 'For the largest sites and custom deployments', 'Expertly tuned hosting with cPanel', 'Next generation managed WordPress']\n",
      "['$2.49/mo', '$2.99/mo', '$3.49/mo', '$14.99/mo', '$14.99/mo', '$14.99/mo', '$14.99/mo', '$14.99/mo', '$69.99/mo', '$69.99/mo', '$69.99/mo', '$69.99/mo', '$3.29/mo', '$3.29/mo', '$14.99/mo', '$7.00/mo', '$7.00/mo', '$7.00/mo', '$7.00/mo', '$7.00/mo', '$2.49/mo', '$2.99/mo', '$3.49/mo', '$3.29/mo', '$3.29/mo', '$14.99/mo', '$14.99/mo', '$14.99/mo', '$14.99/mo', '$14.99/mo', '$21.99/mo', '$69.99/mo', '$69.99/mo', '$69.99/mo', '$69.99/mo']\n"
     ]
    }
   ],
   "source": [
    "hosting_plan = [item.get_text() for item in soup.find_all(class_='h3 imh-rostrum-card-title')]\n",
    "print(hosting_plan)\n",
    "features =[item.get_text() for item in soup.find_all(class_='imh-rostrum-sub-heading')]\n",
    "print(features)\n",
    "price =[item.get_text() for item in soup.find_all(class_='imh-rostrum-starting-at-price-discounted')]\n",
    "print(price)\n",
    "\n"
   ]
  },
  {
   "cell_type": "markdown",
   "metadata": {},
   "source": [
    "Now I want to extract data for next page, for example \"Shared hosting\""
   ]
  },
  {
   "cell_type": "code",
   "execution_count": 48,
   "metadata": {},
   "outputs": [
    {
     "name": "stdout",
     "output_type": "stream",
     "text": [
      "['Core', 'Launch', 'Power', 'Pro']\n",
      "['$2.49/mo', '$2.99/mo', '$3.49/mo', '$14.99/mo', '$14.99/mo', '$14.99/mo', '$14.99/mo', '$14.99/mo', '$69.99/mo', '$69.99/mo', '$69.99/mo', '$69.99/mo', '$3.29/mo', '$3.29/mo', '$14.99/mo', '$7.00/mo', '$7.00/mo', '$7.00/mo', '$7.00/mo', '$7.00/mo', '$2.49/mo', '$2.99/mo', '$3.49/mo', '$3.29/mo', '$3.29/mo', '$14.99/mo', '$14.99/mo', '$14.99/mo', '$14.99/mo', '$14.99/mo', '$21.99/mo', '$69.99/mo', '$69.99/mo', '$69.99/mo', '$69.99/mo']\n",
      "['Free Domain & SSLFree Website BuilderUnlimited BandwidthcPanel IncludedUnlimited Email Addresses', 'Free Domain & SSLFree Website BuilderFree Premium Themes & PluginsAdvanced CachingUnlimited Email Addresses', 'High-Availability ServerscPanel and Control Web Panel AvailableFree Website Transfers (with a Control Panel)Cloud-Powered ReliabilityIsolated Resources with Hardened Security', 'Configurable Server For Ultimate FlexibilityRedundant Infrastructure With 99.99% UptimeChoose Between Managed With cPanel or Unmanaged Bare Metal']\n"
     ]
    }
   ],
   "source": [
    "import requests\n",
    "shared_hosting_index = hosting_plan.index(\"Shared Hosting\")\n",
    "shared_hosting_url = \"https://www.inmotionhosting.com/shared-hosting\"\n",
    "driver = webdriver.Chrome()\n",
    "driver.get(shared_hosting_url)\n",
    "page_source = driver.page_source\n",
    "soup_shared_hosting = BeautifulSoup(page_source, 'html.parser')\n",
    "shared_hosting_plan_names = [item.get_text() for item in soup_shared_hosting.find_all(class_='h3 imh-rostrum-card-title')]\n",
    "print(shared_hosting_plan_names)\n",
    "shared_hosting_prices = [item.get_text() for item in soup.find_all(class_='imh-rostrum-starting-at-price-discounted')]\n",
    "print(shared_hosting_prices)\n",
    "shared_hosting_details =[item.get_text() for item in soup.find_all(class_='imh-rostrum-details-list')]\n",
    "print(shared_hosting_details)"
   ]
  },
  {
   "cell_type": "markdown",
   "metadata": {},
   "source": [
    "Let's save the data from the main page to the CSV file."
   ]
  },
  {
   "cell_type": "code",
   "execution_count": 49,
   "metadata": {},
   "outputs": [],
   "source": [
    "import csv\n",
    "csv_file_path = \"hosting_plans.csv\"\n",
    "\n",
    "with open(csv_file_path, mode='w', newline='', encoding='utf-8') as file:\n",
    "    writer = csv.writer(file)\n",
    "    \n",
    "    # Write header row\n",
    "    writer.writerow([\"Plan Name\", \"Features\", \"Pricing\"])\n",
    "\n",
    "    # Iterate through the lists and write each item in a new row\n",
    "    for plan, feature, cost in zip(hosting_plan, features, price):\n",
    "        writer.writerow([plan, feature, cost])\n",
    "driver.quit()"
   ]
  },
  {
   "cell_type": "code",
   "execution_count": 50,
   "metadata": {},
   "outputs": [
    {
     "data": {
      "text/html": [
       "<div>\n",
       "<style scoped>\n",
       "    .dataframe tbody tr th:only-of-type {\n",
       "        vertical-align: middle;\n",
       "    }\n",
       "\n",
       "    .dataframe tbody tr th {\n",
       "        vertical-align: top;\n",
       "    }\n",
       "\n",
       "    .dataframe thead th {\n",
       "        text-align: right;\n",
       "    }\n",
       "</style>\n",
       "<table border=\"1\" class=\"dataframe\">\n",
       "  <thead>\n",
       "    <tr style=\"text-align: right;\">\n",
       "      <th></th>\n",
       "      <th>Plan Name</th>\n",
       "      <th>Features</th>\n",
       "      <th>Pricing</th>\n",
       "    </tr>\n",
       "  </thead>\n",
       "  <tbody>\n",
       "    <tr>\n",
       "      <th>0</th>\n",
       "      <td>Shared Hosting</td>\n",
       "      <td>Cost effective and fast for small businesses</td>\n",
       "      <td>$2.49/mo</td>\n",
       "    </tr>\n",
       "    <tr>\n",
       "      <th>1</th>\n",
       "      <td>VPS Hosting</td>\n",
       "      <td>For high traffic sites and larger businesses</td>\n",
       "      <td>$2.99/mo</td>\n",
       "    </tr>\n",
       "    <tr>\n",
       "      <th>2</th>\n",
       "      <td>Dedicated Hosting</td>\n",
       "      <td>For the largest sites and custom deployments</td>\n",
       "      <td>$3.49/mo</td>\n",
       "    </tr>\n",
       "    <tr>\n",
       "      <th>3</th>\n",
       "      <td>cPanel WordPress</td>\n",
       "      <td>Expertly tuned hosting with cPanel</td>\n",
       "      <td>$14.99/mo</td>\n",
       "    </tr>\n",
       "    <tr>\n",
       "      <th>4</th>\n",
       "      <td>Platform i Cloud</td>\n",
       "      <td>Next generation managed WordPress</td>\n",
       "      <td>$14.99/mo</td>\n",
       "    </tr>\n",
       "  </tbody>\n",
       "</table>\n",
       "</div>"
      ],
      "text/plain": [
       "           Plan Name                                      Features    Pricing\n",
       "0     Shared Hosting  Cost effective and fast for small businesses   $2.49/mo\n",
       "1        VPS Hosting  For high traffic sites and larger businesses   $2.99/mo\n",
       "2  Dedicated Hosting  For the largest sites and custom deployments   $3.49/mo\n",
       "3   cPanel WordPress            Expertly tuned hosting with cPanel  $14.99/mo\n",
       "4   Platform i Cloud             Next generation managed WordPress  $14.99/mo"
      ]
     },
     "execution_count": 50,
     "metadata": {},
     "output_type": "execute_result"
    }
   ],
   "source": [
    "df = pd.read_csv(r'/Users/admin/Desktop/python/di-bootcamp/week7/day5/miniproject/hosting_plans.csv')\n",
    "df.head()"
   ]
  },
  {
   "cell_type": "markdown",
   "metadata": {},
   "source": [
    "Let's save the data from the \"Shared Hosting\" page to the CSV file."
   ]
  },
  {
   "cell_type": "code",
   "execution_count": 51,
   "metadata": {},
   "outputs": [],
   "source": [
    "csv_file_path = \"shared_hosting_plans.csv\"\n",
    "\n",
    "with open(csv_file_path, mode='w', newline='', encoding='utf-8') as file:\n",
    "    writer = csv.writer(file)\n",
    "    \n",
    "    # Write header row\n",
    "    writer.writerow([\"Plan Name\", \"Pricing\", \"Details\"])\n",
    "\n",
    "    # Iterate through the lists and write each item in a new row\n",
    "    for plan, cost, details in zip(shared_hosting_plan_names, shared_hosting_prices, shared_hosting_details):\n",
    "        writer.writerow([plan, cost, details])\n",
    "driver.quit()"
   ]
  },
  {
   "cell_type": "code",
   "execution_count": 52,
   "metadata": {},
   "outputs": [
    {
     "data": {
      "text/html": [
       "<div>\n",
       "<style scoped>\n",
       "    .dataframe tbody tr th:only-of-type {\n",
       "        vertical-align: middle;\n",
       "    }\n",
       "\n",
       "    .dataframe tbody tr th {\n",
       "        vertical-align: top;\n",
       "    }\n",
       "\n",
       "    .dataframe thead th {\n",
       "        text-align: right;\n",
       "    }\n",
       "</style>\n",
       "<table border=\"1\" class=\"dataframe\">\n",
       "  <thead>\n",
       "    <tr style=\"text-align: right;\">\n",
       "      <th></th>\n",
       "      <th>Plan Name</th>\n",
       "      <th>Pricing</th>\n",
       "      <th>Details</th>\n",
       "    </tr>\n",
       "  </thead>\n",
       "  <tbody>\n",
       "    <tr>\n",
       "      <th>0</th>\n",
       "      <td>Core</td>\n",
       "      <td>$2.49/mo</td>\n",
       "      <td>Free Domain &amp; SSLFree Website BuilderUnlimited...</td>\n",
       "    </tr>\n",
       "    <tr>\n",
       "      <th>1</th>\n",
       "      <td>Launch</td>\n",
       "      <td>$2.99/mo</td>\n",
       "      <td>Free Domain &amp; SSLFree Website BuilderFree Prem...</td>\n",
       "    </tr>\n",
       "    <tr>\n",
       "      <th>2</th>\n",
       "      <td>Power</td>\n",
       "      <td>$3.49/mo</td>\n",
       "      <td>High-Availability ServerscPanel and Control We...</td>\n",
       "    </tr>\n",
       "    <tr>\n",
       "      <th>3</th>\n",
       "      <td>Pro</td>\n",
       "      <td>$14.99/mo</td>\n",
       "      <td>Configurable Server For Ultimate FlexibilityRe...</td>\n",
       "    </tr>\n",
       "  </tbody>\n",
       "</table>\n",
       "</div>"
      ],
      "text/plain": [
       "  Plan Name    Pricing                                            Details\n",
       "0      Core   $2.49/mo  Free Domain & SSLFree Website BuilderUnlimited...\n",
       "1    Launch   $2.99/mo  Free Domain & SSLFree Website BuilderFree Prem...\n",
       "2     Power   $3.49/mo  High-Availability ServerscPanel and Control We...\n",
       "3       Pro  $14.99/mo  Configurable Server For Ultimate FlexibilityRe..."
      ]
     },
     "execution_count": 52,
     "metadata": {},
     "output_type": "execute_result"
    }
   ],
   "source": [
    "df = pd.read_csv(r'/Users/admin/Desktop/python/di-bootcamp/week7/day5/miniproject/shared_hosting_plans.csv')\n",
    "df.head()"
   ]
  }
 ],
 "metadata": {
  "kernelspec": {
   "display_name": "Python 3",
   "language": "python",
   "name": "python3"
  },
  "language_info": {
   "codemirror_mode": {
    "name": "ipython",
    "version": 3
   },
   "file_extension": ".py",
   "mimetype": "text/x-python",
   "name": "python",
   "nbconvert_exporter": "python",
   "pygments_lexer": "ipython3",
   "version": "3.12.0"
  }
 },
 "nbformat": 4,
 "nbformat_minor": 2
}
